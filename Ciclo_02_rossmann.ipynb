{
 "cells": [
  {
   "cell_type": "markdown",
   "id": "instructional-hotel",
   "metadata": {
    "heading_collapsed": true
   },
   "source": [
    "# 0.0 Imports "
   ]
  },
  {
   "cell_type": "code",
   "execution_count": 1,
   "id": "european-graham",
   "metadata": {
    "ExecuteTime": {
     "end_time": "2021-05-03T16:37:07.189203Z",
     "start_time": "2021-05-03T16:37:06.347275Z"
    },
    "hidden": true
   },
   "outputs": [],
   "source": [
    "import numpy   as np\n",
    "import pandas  as pd\n",
    "import seaborn as sns\n",
    "import xgboost as xgb\n",
    "\n",
    "import math\n",
    "import pickle\n",
    "import random\n",
    "import datetime\n",
    "import warnings\n",
    "import inflection\n",
    "\n",
    "\n",
    "from scipy                 import stats  as ss\n",
    "from boruta                import BorutaPy\n",
    "from sklearn               import svm\n",
    "from tabulate              import tabulate\n",
    "from catboost              import CatBoostRegressor\n",
    "from matplotlib            import pyplot as plt\n",
    "from sklearn.metrics       import mean_absolute_percentage_error,mean_absolute_error, mean_squared_error\n",
    "from IPython.display       import Image\n",
    "from sklearn.ensemble      import RandomForestRegressor\n",
    "from sklearn.neighbors     import KNeighborsRegressor\n",
    "from sklearn.linear_model  import LinearRegression,Lasso\n",
    "from IPython.core.display  import HTML\n",
    "from sklearn.preprocessing import RobustScaler,MinMaxScaler,LabelEncoder\n"
   ]
  },
  {
   "cell_type": "markdown",
   "id": "remarkable-democracy",
   "metadata": {
    "heading_collapsed": true,
    "hidden": true
   },
   "source": [
    "## 0.1 Loading Data"
   ]
  },
  {
   "cell_type": "code",
   "execution_count": 2,
   "id": "featured-setup",
   "metadata": {
    "ExecuteTime": {
     "end_time": "2021-05-03T16:37:07.894371Z",
     "start_time": "2021-05-03T16:37:07.190184Z"
    },
    "hidden": true
   },
   "outputs": [],
   "source": [
    "df_store_raw = pd.read_csv('Data/store.csv', low_memory = False )\n",
    "\n",
    "df_train_raw = pd.read_csv('Data/train.csv' , low_memory = False )\n",
    "\n",
    "#merge\n",
    "df_raw = pd.merge( df_train_raw , df_store_raw, how = 'left', on='Store')"
   ]
  },
  {
   "cell_type": "markdown",
   "id": "charming-tattoo",
   "metadata": {
    "heading_collapsed": true,
    "hidden": true
   },
   "source": [
    "## 0.2 Helper Functions "
   ]
  },
  {
   "cell_type": "code",
   "execution_count": 3,
   "id": "silent-damages",
   "metadata": {
    "ExecuteTime": {
     "end_time": "2021-05-03T16:37:07.904907Z",
     "start_time": "2021-05-03T16:37:07.895406Z"
    },
    "hidden": true
   },
   "outputs": [],
   "source": [
    "def jupyter_settings():\n",
    "    %matplotlib inline\n",
    "    %pylab inline\n",
    " \n",
    "    plt.style.use( 'bmh' )\n",
    "    plt.rcParams['figure.figsize'] = [20,10]\n",
    "    plt.rcParams['font.size'] = 24\n",
    "  \n",
    "    display( HTML( '<style>.container { width:100% !important; }</style>') )\n",
    "    pd.options.display.max_columns = None\n",
    "    pd.options.display.max_rows = None\n",
    "    pd.set_option( 'display.expand_frame_repr', False )\n",
    "  \n",
    "    sns.set()\n",
    "def cramer_v( x, y ):\n",
    "    cm = pd.crosstab( x, y ).to_numpy()\n",
    "    n = cm.sum()\n",
    "    r, k = cm.shape\n",
    "    \n",
    "    chi2 = ss.chi2_contingency( cm )[0]\n",
    "    chi2corr = max( 0, chi2 - (k-1)*(r-1)/(n-1) )\n",
    "    \n",
    "    kcorr = k - (k-1)**2/(n-1)\n",
    "    rcorr = r - (r-1)**2/(n-1)\n",
    "    \n",
    "    return np.sqrt( (chi2corr/n) / ( min( kcorr-1, rcorr-1 ) ) )\n",
    "    \n",
    "   "
   ]
  },
  {
   "cell_type": "code",
   "execution_count": 4,
   "id": "desperate-disco",
   "metadata": {
    "ExecuteTime": {
     "end_time": "2021-05-03T16:37:08.144310Z",
     "start_time": "2021-05-03T16:37:08.140634Z"
    },
    "hidden": true
   },
   "outputs": [],
   "source": [
    "def mape2( y, yhat ):\n",
    "    return np.mean( np.abs( (y - yhat) / y ) )\n",
    "\n",
    "def mpe2( y, yhat ):\n",
    "    return np.mean(  (y - yhat) / y ) \n",
    "\n",
    "def ml_error( model, y , yhat):\n",
    "    mae  = np.round( mean_absolute_error( y , yhat) , 2 ) \n",
    "    mape = np.round( mape2( y , yhat ) , 2)\n",
    "    rmse = np.round( np.sqrt( mean_squared_error(y , yhat ) ) , 2)\n",
    "    mpe  = np.round( mpe2( y, yhat ) , 2 )\n",
    "    \n",
    "    return pd.DataFrame( {'Model Name': model,\n",
    "                          'MAE': mae,\n",
    "                          'MAPE': mape,\n",
    "                          'RMSE': rmse,\n",
    "                          'MPE': mpe}, index=[0])\n",
    "    \n",
    "    "
   ]
  },
  {
   "cell_type": "code",
   "execution_count": 5,
   "id": "square-router",
   "metadata": {
    "ExecuteTime": {
     "end_time": "2021-05-03T16:37:08.369461Z",
     "start_time": "2021-05-03T16:37:08.365538Z"
    },
    "hidden": true
   },
   "outputs": [],
   "source": [
    "def get_model_performance(models, x_train,y_train,x_test,y_test):\n",
    "    \n",
    "    #create dataframe\n",
    "    df_performance = pd.DataFrame()\n",
    "    \n",
    "    for model in models:\n",
    "        \n",
    "        print(\"Training \" + type(model).__name__ + \" ...\")\n",
    "        \n",
    "        #fit model\n",
    "        model.fit( x_train, y_train )\n",
    "        \n",
    "        #prediction\n",
    "        yhat = model.predict( x_test )\n",
    "        \n",
    "        #performance\n",
    "        df = ml_error(type(model).__name__ , np.expm1( y_test ), np.expm1( yhat ) )\n",
    "        \n",
    "        #concat\n",
    "        df_performance = pd.concat( [df_performance, df ] )\n",
    "        \n",
    "        #reset index\n",
    "        df_performance = df_performance.reset_index()\n",
    "        \n",
    "        # drops index\n",
    "        df_performance.drop('index', axis=1, inplace=True)\n",
    "        \n",
    "\n",
    "        \n",
    "    return df_performance, yhat\n"
   ]
  },
  {
   "cell_type": "code",
   "execution_count": 6,
   "id": "incorporate-highland",
   "metadata": {
    "ExecuteTime": {
     "end_time": "2021-05-03T16:37:08.768350Z",
     "start_time": "2021-05-03T16:37:08.755606Z"
    },
    "hidden": true
   },
   "outputs": [],
   "source": [
    "def models_cross_validation(models, x_training):\n",
    "    \n",
    "    df_performance = pd.DataFrame()\n",
    "    \n",
    "    for model in models:\n",
    "    \n",
    "        print(\"Training... \" +type(model).__name__ + \"...\" )\n",
    "        mae  = []\n",
    "        mape = []\n",
    "        rmse = []\n",
    "        mpe = []\n",
    "        for k in reversed(range(1 , 6 ) ):\n",
    "\n",
    "\n",
    "            print(\"Iteration {}\".format( k ))\n",
    "\n",
    "            valid_start = x_training['date'].max() - datetime.timedelta( days = k*6*7)\n",
    "            valid_end = x_training['date'].max() - datetime.timedelta( days = (k-1)*6*7)\n",
    "\n",
    "            #filtering dataset\n",
    "            training = x_training[x_training['date'] < valid_start]\n",
    "            validation = x_training[ ( x_training['date'] >=valid_start ) & ( x_training['date'] <= valid_end ) ]\n",
    "\n",
    "            #train and validation dataset\n",
    "            #training\n",
    "            xtrain = training.drop( ['date','sales'], axis=1 )\n",
    "            ytrain = training['sales']\n",
    "\n",
    "            #validation\n",
    "            xvalid = validation.drop( [ 'date','sales'], axis=1)\n",
    "            yvalid = validation['sales']\n",
    "\n",
    "            #model\n",
    "            model.fit( xtrain, ytrain )\n",
    "\n",
    "            #predict\n",
    "            yhat = model.predict( xvalid)\n",
    "\n",
    "            #performance\n",
    "            df = ml_error((type(model).__name__  + \"  KFold: {}\".format(k) ), np.expm1( yvalid ), np.expm1( yhat ) )\n",
    "            \n",
    "            mae.append( df['MAE'] )\n",
    "            mape.append( df['MAPE'] )\n",
    "            rmse.append( df['RMSE'] )\n",
    "            mpe.append( df['MPE'] )\n",
    "            #concat\n",
    "            df_performance = pd.concat( [df_performance, df ] )\n",
    "\n",
    "            #reset index\n",
    "            df_performance = df_performance.reset_index()\n",
    "\n",
    "            # drops index\n",
    "            df_performance.drop('index', axis=1, inplace=True)\n",
    "        \n",
    "        mae_cv  = np.round( np.mean( mae ) , 2 ).astype( str ) + ' +/- ' + np.round( np.std( mae ) , 2 ).astype( str )\n",
    "        mape_cv = np.round( np.mean( mape ), 2 ).astype( str ) + ' +/- ' + np.round( np.std( mape ) , 2 ).astype( str )\n",
    "        rmse_cv = np.round( np.mean( rmse ), 2 ).astype( str ) + \" +/- \" + np.round( np.std( rmse ) , 2 ).astype( str )\n",
    "        \n",
    "        mpe_cv = np.round( np.mean( mpe ), 2 ).astype( str ) + \" +/- \" + np.round( np.std( mpe ) , 2 ).astype( str )\n",
    "        \n",
    "        df_cv =  pd.DataFrame( {\n",
    "        'Model Name': ( type(model).__name__ + \" - Cross-Validation \"),    \n",
    "        'MAE':mae_cv ,\n",
    "        'MAPE':mape_cv  ,\n",
    "        'RMSE':rmse_cv,\n",
    "        'MPE': mpe_cv}\n",
    "            , index=[0])\n",
    "    \n",
    "        #concat\n",
    "        df_performance = pd.concat( [df_performance, df_cv ] )\n",
    "        \n",
    "        #reset index\n",
    "        df_performance = df_performance.reset_index()\n",
    "\n",
    "        # drops index\n",
    "        df_performance.drop('index', axis=1, inplace=True)\n",
    "\n",
    "    \n",
    "    return df_performance\n"
   ]
  },
  {
   "cell_type": "code",
   "execution_count": 7,
   "id": "illegal-couple",
   "metadata": {
    "ExecuteTime": {
     "end_time": "2021-05-03T16:37:09.412658Z",
     "start_time": "2021-05-03T16:37:09.403876Z"
    },
    "hidden": true
   },
   "outputs": [
    {
     "name": "stdout",
     "output_type": "stream",
     "text": [
      "Populating the interactive namespace from numpy and matplotlib\n"
     ]
    },
    {
     "name": "stderr",
     "output_type": "stream",
     "text": [
      "/home/alexandremagno/.pyenv/versions/3.8.0/envs/rossmann_sales/lib/python3.8/site-packages/IPython/core/magics/pylab.py:159: UserWarning: pylab import has clobbered these variables: ['random']\n",
      "`%matplotlib` prevents importing * from pylab and numpy\n",
      "  warn(\"pylab import has clobbered these variables: %s\"  % clobbered +\n"
     ]
    },
    {
     "data": {
      "text/html": [
       "<style>.container { width:100% !important; }</style>"
      ],
      "text/plain": [
       "<IPython.core.display.HTML object>"
      ]
     },
     "metadata": {},
     "output_type": "display_data"
    }
   ],
   "source": [
    "jupyter_settings()\n",
    "warnings.filterwarnings('ignore')\n",
    "pd.set_option('display.float_format', lambda x: '%.2f' % x)"
   ]
  },
  {
   "cell_type": "markdown",
   "id": "attempted-soviet",
   "metadata": {
    "heading_collapsed": true
   },
   "source": [
    "# 1.0 Data Description"
   ]
  },
  {
   "cell_type": "code",
   "execution_count": 8,
   "id": "nervous-burst",
   "metadata": {
    "ExecuteTime": {
     "end_time": "2021-05-03T16:37:16.854877Z",
     "start_time": "2021-05-03T16:37:16.794592Z"
    },
    "hidden": true
   },
   "outputs": [],
   "source": [
    "df1 = df_raw.copy()"
   ]
  },
  {
   "cell_type": "markdown",
   "id": "demographic-solution",
   "metadata": {
    "heading_collapsed": true,
    "hidden": true
   },
   "source": [
    "## 1.1 Rename Columns "
   ]
  },
  {
   "cell_type": "code",
   "execution_count": 9,
   "id": "endless-working",
   "metadata": {
    "ExecuteTime": {
     "end_time": "2021-05-03T16:37:18.086123Z",
     "start_time": "2021-05-03T16:37:18.083214Z"
    },
    "hidden": true
   },
   "outputs": [
    {
     "data": {
      "text/plain": [
       "Index(['Store', 'DayOfWeek', 'Date', 'Sales', 'Customers', 'Open', 'Promo',\n",
       "       'StateHoliday', 'SchoolHoliday', 'StoreType', 'Assortment',\n",
       "       'CompetitionDistance', 'CompetitionOpenSinceMonth',\n",
       "       'CompetitionOpenSinceYear', 'Promo2', 'Promo2SinceWeek',\n",
       "       'Promo2SinceYear', 'PromoInterval'],\n",
       "      dtype='object')"
      ]
     },
     "execution_count": 9,
     "metadata": {},
     "output_type": "execute_result"
    }
   ],
   "source": [
    "df1.columns"
   ]
  },
  {
   "cell_type": "code",
   "execution_count": 10,
   "id": "legendary-divorce",
   "metadata": {
    "ExecuteTime": {
     "end_time": "2021-05-03T16:37:18.342006Z",
     "start_time": "2021-05-03T16:37:18.337446Z"
    },
    "hidden": true
   },
   "outputs": [
    {
     "data": {
      "text/plain": [
       "Index(['store', 'day_of_week', 'date', 'sales', 'customers', 'open', 'promo',\n",
       "       'state_holiday', 'school_holiday', 'store_type', 'assortment',\n",
       "       'competition_distance', 'competition_open_since_month',\n",
       "       'competition_open_since_year', 'promo2', 'promo2_since_week',\n",
       "       'promo2_since_year', 'promo_interval'],\n",
       "      dtype='object')"
      ]
     },
     "execution_count": 10,
     "metadata": {},
     "output_type": "execute_result"
    }
   ],
   "source": [
    "cols_old = ['Store', 'DayOfWeek', 'Date', 'Sales', 'Customers', 'Open', 'Promo',\n",
    "       'StateHoliday', 'SchoolHoliday', 'StoreType', 'Assortment',\n",
    "       'CompetitionDistance', 'CompetitionOpenSinceMonth',\n",
    "       'CompetitionOpenSinceYear', 'Promo2', 'Promo2SinceWeek',\n",
    "       'Promo2SinceYear', 'PromoInterval']\n",
    "\n",
    "snakecase = lambda x: inflection.underscore( x )\n",
    "\n",
    "cols_new = list( map( snakecase, cols_old ) )\n",
    "\n",
    "df1.columns = cols_new\n",
    "\n",
    "df1.columns\n"
   ]
  },
  {
   "cell_type": "markdown",
   "id": "clinical-plastic",
   "metadata": {
    "heading_collapsed": true,
    "hidden": true
   },
   "source": [
    "## 1.2 Data Dimensions "
   ]
  },
  {
   "cell_type": "code",
   "execution_count": 11,
   "id": "breeding-transfer",
   "metadata": {
    "ExecuteTime": {
     "end_time": "2021-05-03T16:37:18.842359Z",
     "start_time": "2021-05-03T16:37:18.837270Z"
    },
    "hidden": true
   },
   "outputs": [
    {
     "name": "stdout",
     "output_type": "stream",
     "text": [
      " Number of rows 1017209\n",
      " Number of cols 18\n"
     ]
    }
   ],
   "source": [
    "print(\" Number of rows {}\".format( df1.shape[0] ) )\n",
    "print(\" Number of cols {}\".format( df1.shape[1] ) )"
   ]
  },
  {
   "cell_type": "markdown",
   "id": "mobile-makeup",
   "metadata": {
    "heading_collapsed": true,
    "hidden": true
   },
   "source": [
    "## 1.3 Data Types "
   ]
  },
  {
   "cell_type": "code",
   "execution_count": 12,
   "id": "anticipated-slave",
   "metadata": {
    "ExecuteTime": {
     "end_time": "2021-05-03T16:37:22.728993Z",
     "start_time": "2021-05-03T16:37:22.722897Z"
    },
    "hidden": true
   },
   "outputs": [
    {
     "data": {
      "text/plain": [
       "store                             int64\n",
       "day_of_week                       int64\n",
       "date                             object\n",
       "sales                             int64\n",
       "customers                         int64\n",
       "open                              int64\n",
       "promo                             int64\n",
       "state_holiday                    object\n",
       "school_holiday                    int64\n",
       "store_type                       object\n",
       "assortment                       object\n",
       "competition_distance            float64\n",
       "competition_open_since_month    float64\n",
       "competition_open_since_year     float64\n",
       "promo2                            int64\n",
       "promo2_since_week               float64\n",
       "promo2_since_year               float64\n",
       "promo_interval                   object\n",
       "dtype: object"
      ]
     },
     "execution_count": 12,
     "metadata": {},
     "output_type": "execute_result"
    }
   ],
   "source": [
    "df1.dtypes"
   ]
  },
  {
   "cell_type": "markdown",
   "id": "certain-territory",
   "metadata": {
    "hidden": true
   },
   "source": [
    "Let's change the date variable to the datetime type"
   ]
  },
  {
   "cell_type": "code",
   "execution_count": 13,
   "id": "opening-shadow",
   "metadata": {
    "ExecuteTime": {
     "end_time": "2021-05-03T16:37:23.304240Z",
     "start_time": "2021-05-03T16:37:23.195904Z"
    },
    "hidden": true
   },
   "outputs": [
    {
     "data": {
      "text/plain": [
       "store                                    int64\n",
       "day_of_week                              int64\n",
       "date                            datetime64[ns]\n",
       "sales                                    int64\n",
       "customers                                int64\n",
       "open                                     int64\n",
       "promo                                    int64\n",
       "state_holiday                           object\n",
       "school_holiday                           int64\n",
       "store_type                              object\n",
       "assortment                              object\n",
       "competition_distance                   float64\n",
       "competition_open_since_month           float64\n",
       "competition_open_since_year            float64\n",
       "promo2                                   int64\n",
       "promo2_since_week                      float64\n",
       "promo2_since_year                      float64\n",
       "promo_interval                          object\n",
       "dtype: object"
      ]
     },
     "execution_count": 13,
     "metadata": {},
     "output_type": "execute_result"
    }
   ],
   "source": [
    "df1['date'] = pd.to_datetime( df1['date'] )\n",
    "df1.dtypes"
   ]
  },
  {
   "cell_type": "markdown",
   "id": "electoral-citizen",
   "metadata": {
    "heading_collapsed": true,
    "hidden": true
   },
   "source": [
    "## 1.4. Check NA"
   ]
  },
  {
   "cell_type": "code",
   "execution_count": 14,
   "id": "turkish-bullet",
   "metadata": {
    "ExecuteTime": {
     "end_time": "2021-05-03T16:37:24.187982Z",
     "start_time": "2021-05-03T16:37:24.037769Z"
    },
    "hidden": true
   },
   "outputs": [
    {
     "data": {
      "text/plain": [
       "store                                0\n",
       "day_of_week                          0\n",
       "date                                 0\n",
       "sales                                0\n",
       "customers                            0\n",
       "open                                 0\n",
       "promo                                0\n",
       "state_holiday                        0\n",
       "school_holiday                       0\n",
       "store_type                           0\n",
       "assortment                           0\n",
       "competition_distance              2642\n",
       "competition_open_since_month    323348\n",
       "competition_open_since_year     323348\n",
       "promo2                               0\n",
       "promo2_since_week               508031\n",
       "promo2_since_year               508031\n",
       "promo_interval                  508031\n",
       "dtype: int64"
      ]
     },
     "execution_count": 14,
     "metadata": {},
     "output_type": "execute_result"
    }
   ],
   "source": [
    "df1.isna().sum()"
   ]
  },
  {
   "cell_type": "markdown",
   "id": "therapeutic-exchange",
   "metadata": {
    "heading_collapsed": true,
    "hidden": true
   },
   "source": [
    "## 1.5 Fillout NA"
   ]
  },
  {
   "cell_type": "markdown",
   "id": "engaged-backup",
   "metadata": {
    "hidden": true
   },
   "source": [
    "In **competition distance** I will assume that for NA values it is because there is no competitor around so I will put a much higher value than the maximum.\n"
   ]
  },
  {
   "cell_type": "code",
   "execution_count": 15,
   "id": "robust-interim",
   "metadata": {
    "ExecuteTime": {
     "end_time": "2021-05-03T16:38:33.079904Z",
     "start_time": "2021-05-03T16:37:25.162330Z"
    },
    "hidden": true
   },
   "outputs": [],
   "source": [
    "# competition_distance              \n",
    "df1['competition_distance'] = df1['competition_distance'].apply(lambda x: 200000.0 if math.isnan( x ) else x )\n",
    "\n",
    "# competition_open_since_month    \n",
    "df1['competition_open_since_month'] = df1.apply(lambda x: x['date'].month if math.isnan( x['competition_open_since_month'] ) else x['competition_open_since_month'] , axis =1 )\n",
    "\n",
    "\n",
    "# competition_open_since_year     \n",
    "\n",
    "df1['competition_open_since_year'] = df1.apply(lambda x: x['date'].year if math.isnan( x['competition_open_since_year'] ) else x['competition_open_since_year'] , axis =1 )\n",
    "\n",
    "#promo2_since_week                               \n",
    "df1['promo2_since_week'] = df1.apply(lambda x: x['date'].week if math.isnan( x['promo2_since_week'] ) else x['promo2_since_week'] , axis =1 )\n",
    "\n",
    "# promo2_since_year               \n",
    "df1['promo2_since_year'] = df1.apply(lambda x: x['date'].year if math.isnan( x['promo2_since_year'] ) else x['promo2_since_year'] , axis =1 )\n",
    "\n",
    "# promo_interval                  \n",
    "month_map = {1:  'Jan', 2:  'Feb',3:  'Mar', 4:  'Apr', 5:  'May', 6:  'Jun', 7:  'Jul', 8:  'Aug', 9:  'Sep', 10: 'Oct', 11: 'Nov', 12: 'Dec'} \n",
    "\n",
    "df1['promo_interval'].fillna(0 , inplace=True)\n",
    "\n",
    "df1['month_map'] = df1['date'].dt.month.map( month_map )\n",
    "\n",
    "df1['is_promo'] = df1[['promo_interval','month_map']].apply(lambda x: 0 if x['promo_interval'] == 0 else 1 if x['month_map'] in x ['promo_interval'].split( ',' ) else 0 , axis = 1 )\n",
    "\n",
    "\n",
    "\n",
    "\n"
   ]
  },
  {
   "cell_type": "code",
   "execution_count": 16,
   "id": "annoying-devil",
   "metadata": {
    "ExecuteTime": {
     "end_time": "2021-05-03T16:38:33.239612Z",
     "start_time": "2021-05-03T16:38:33.080937Z"
    },
    "hidden": true
   },
   "outputs": [
    {
     "data": {
      "text/plain": [
       "store                           0\n",
       "day_of_week                     0\n",
       "date                            0\n",
       "sales                           0\n",
       "customers                       0\n",
       "open                            0\n",
       "promo                           0\n",
       "state_holiday                   0\n",
       "school_holiday                  0\n",
       "store_type                      0\n",
       "assortment                      0\n",
       "competition_distance            0\n",
       "competition_open_since_month    0\n",
       "competition_open_since_year     0\n",
       "promo2                          0\n",
       "promo2_since_week               0\n",
       "promo2_since_year               0\n",
       "promo_interval                  0\n",
       "month_map                       0\n",
       "is_promo                        0\n",
       "dtype: int64"
      ]
     },
     "execution_count": 16,
     "metadata": {},
     "output_type": "execute_result"
    }
   ],
   "source": [
    "df1.isna().sum()"
   ]
  },
  {
   "cell_type": "markdown",
   "id": "applied-party",
   "metadata": {
    "hidden": true
   },
   "source": [
    "As observed, we treat all NA in dataset"
   ]
  },
  {
   "cell_type": "markdown",
   "id": "joint-commerce",
   "metadata": {
    "ExecuteTime": {
     "end_time": "2021-04-01T16:06:49.883832Z",
     "start_time": "2021-04-01T16:06:49.880065Z"
    },
    "heading_collapsed": true,
    "hidden": true
   },
   "source": [
    "## 1.6 Change Types "
   ]
  },
  {
   "cell_type": "code",
   "execution_count": 17,
   "id": "elect-perry",
   "metadata": {
    "ExecuteTime": {
     "end_time": "2021-05-03T16:38:33.281707Z",
     "start_time": "2021-05-03T16:38:33.240769Z"
    },
    "hidden": true
   },
   "outputs": [],
   "source": [
    "df1['competition_open_since_month'] = df1['competition_open_since_month'].astype( int )\n",
    "\n",
    "df1['competition_open_since_year'] = df1['competition_open_since_year'].astype( int )\n",
    "\n",
    "df1['promo2_since_week'] = df1['promo2_since_week'].astype( int )\n",
    "df1['promo2_since_year'] = df1['promo2_since_year'].astype( int )\n",
    "\n"
   ]
  },
  {
   "cell_type": "markdown",
   "id": "laughing-inspection",
   "metadata": {
    "ExecuteTime": {
     "end_time": "2021-04-01T16:06:49.883832Z",
     "start_time": "2021-04-01T16:06:49.880065Z"
    },
    "heading_collapsed": true,
    "hidden": true
   },
   "source": [
    "## 1.7 Descriptive Statistical "
   ]
  },
  {
   "cell_type": "code",
   "execution_count": 18,
   "id": "bridal-letter",
   "metadata": {
    "ExecuteTime": {
     "end_time": "2021-05-03T16:38:33.397185Z",
     "start_time": "2021-05-03T16:38:33.282776Z"
    },
    "hidden": true
   },
   "outputs": [],
   "source": [
    "num_att = df1.select_dtypes( include = ['int64' , 'float64'] )\n",
    "cat_att = df1.select_dtypes( exclude = ['int64' , 'float64', 'datetime64[ns]'] )\n"
   ]
  },
  {
   "cell_type": "markdown",
   "id": "thermal-candle",
   "metadata": {
    "ExecuteTime": {
     "end_time": "2021-04-01T16:16:54.382050Z",
     "start_time": "2021-04-01T16:16:54.341604Z"
    },
    "heading_collapsed": true,
    "hidden": true
   },
   "source": [
    "### 1.7.1 Numerical Attributes "
   ]
  },
  {
   "cell_type": "code",
   "execution_count": 19,
   "id": "rental-lending",
   "metadata": {
    "ExecuteTime": {
     "end_time": "2021-05-03T16:38:37.286628Z",
     "start_time": "2021-05-03T16:38:33.398129Z"
    },
    "hidden": true
   },
   "outputs": [
    {
     "data": {
      "text/html": [
       "<div>\n",
       "<style scoped>\n",
       "    .dataframe tbody tr th:only-of-type {\n",
       "        vertical-align: middle;\n",
       "    }\n",
       "\n",
       "    .dataframe tbody tr th {\n",
       "        vertical-align: top;\n",
       "    }\n",
       "\n",
       "    .dataframe thead th {\n",
       "        text-align: right;\n",
       "    }\n",
       "</style>\n",
       "<table border=\"1\" class=\"dataframe\">\n",
       "  <thead>\n",
       "    <tr style=\"text-align: right;\">\n",
       "      <th></th>\n",
       "      <th>attributes</th>\n",
       "      <th>min</th>\n",
       "      <th>max</th>\n",
       "      <th>range</th>\n",
       "      <th>mean</th>\n",
       "      <th>median</th>\n",
       "      <th>std</th>\n",
       "      <th>skew</th>\n",
       "      <th>kurtosis</th>\n",
       "    </tr>\n",
       "  </thead>\n",
       "  <tbody>\n",
       "    <tr>\n",
       "      <th>0</th>\n",
       "      <td>store</td>\n",
       "      <td>1.00</td>\n",
       "      <td>1115.00</td>\n",
       "      <td>1114.00</td>\n",
       "      <td>558.43</td>\n",
       "      <td>558.00</td>\n",
       "      <td>321.91</td>\n",
       "      <td>-0.00</td>\n",
       "      <td>-1.20</td>\n",
       "    </tr>\n",
       "    <tr>\n",
       "      <th>1</th>\n",
       "      <td>day_of_week</td>\n",
       "      <td>1.00</td>\n",
       "      <td>7.00</td>\n",
       "      <td>6.00</td>\n",
       "      <td>4.00</td>\n",
       "      <td>4.00</td>\n",
       "      <td>2.00</td>\n",
       "      <td>0.00</td>\n",
       "      <td>-1.25</td>\n",
       "    </tr>\n",
       "    <tr>\n",
       "      <th>2</th>\n",
       "      <td>sales</td>\n",
       "      <td>0.00</td>\n",
       "      <td>41551.00</td>\n",
       "      <td>41551.00</td>\n",
       "      <td>5773.82</td>\n",
       "      <td>5744.00</td>\n",
       "      <td>3849.92</td>\n",
       "      <td>0.64</td>\n",
       "      <td>1.78</td>\n",
       "    </tr>\n",
       "    <tr>\n",
       "      <th>3</th>\n",
       "      <td>customers</td>\n",
       "      <td>0.00</td>\n",
       "      <td>7388.00</td>\n",
       "      <td>7388.00</td>\n",
       "      <td>633.15</td>\n",
       "      <td>609.00</td>\n",
       "      <td>464.41</td>\n",
       "      <td>1.60</td>\n",
       "      <td>7.09</td>\n",
       "    </tr>\n",
       "    <tr>\n",
       "      <th>4</th>\n",
       "      <td>open</td>\n",
       "      <td>0.00</td>\n",
       "      <td>1.00</td>\n",
       "      <td>1.00</td>\n",
       "      <td>0.83</td>\n",
       "      <td>1.00</td>\n",
       "      <td>0.38</td>\n",
       "      <td>-1.76</td>\n",
       "      <td>1.09</td>\n",
       "    </tr>\n",
       "    <tr>\n",
       "      <th>5</th>\n",
       "      <td>promo</td>\n",
       "      <td>0.00</td>\n",
       "      <td>1.00</td>\n",
       "      <td>1.00</td>\n",
       "      <td>0.38</td>\n",
       "      <td>0.00</td>\n",
       "      <td>0.49</td>\n",
       "      <td>0.49</td>\n",
       "      <td>-1.76</td>\n",
       "    </tr>\n",
       "    <tr>\n",
       "      <th>6</th>\n",
       "      <td>school_holiday</td>\n",
       "      <td>0.00</td>\n",
       "      <td>1.00</td>\n",
       "      <td>1.00</td>\n",
       "      <td>0.18</td>\n",
       "      <td>0.00</td>\n",
       "      <td>0.38</td>\n",
       "      <td>1.68</td>\n",
       "      <td>0.82</td>\n",
       "    </tr>\n",
       "    <tr>\n",
       "      <th>7</th>\n",
       "      <td>competition_distance</td>\n",
       "      <td>20.00</td>\n",
       "      <td>200000.00</td>\n",
       "      <td>199980.00</td>\n",
       "      <td>5935.44</td>\n",
       "      <td>2330.00</td>\n",
       "      <td>12547.65</td>\n",
       "      <td>10.24</td>\n",
       "      <td>147.79</td>\n",
       "    </tr>\n",
       "    <tr>\n",
       "      <th>8</th>\n",
       "      <td>competition_open_since_month</td>\n",
       "      <td>1.00</td>\n",
       "      <td>12.00</td>\n",
       "      <td>11.00</td>\n",
       "      <td>6.79</td>\n",
       "      <td>7.00</td>\n",
       "      <td>3.31</td>\n",
       "      <td>-0.04</td>\n",
       "      <td>-1.23</td>\n",
       "    </tr>\n",
       "    <tr>\n",
       "      <th>9</th>\n",
       "      <td>competition_open_since_year</td>\n",
       "      <td>1900.00</td>\n",
       "      <td>2015.00</td>\n",
       "      <td>115.00</td>\n",
       "      <td>2010.32</td>\n",
       "      <td>2012.00</td>\n",
       "      <td>5.52</td>\n",
       "      <td>-7.24</td>\n",
       "      <td>124.07</td>\n",
       "    </tr>\n",
       "    <tr>\n",
       "      <th>10</th>\n",
       "      <td>promo2</td>\n",
       "      <td>0.00</td>\n",
       "      <td>1.00</td>\n",
       "      <td>1.00</td>\n",
       "      <td>0.50</td>\n",
       "      <td>1.00</td>\n",
       "      <td>0.50</td>\n",
       "      <td>-0.00</td>\n",
       "      <td>-2.00</td>\n",
       "    </tr>\n",
       "    <tr>\n",
       "      <th>11</th>\n",
       "      <td>promo2_since_week</td>\n",
       "      <td>1.00</td>\n",
       "      <td>52.00</td>\n",
       "      <td>51.00</td>\n",
       "      <td>23.62</td>\n",
       "      <td>22.00</td>\n",
       "      <td>14.31</td>\n",
       "      <td>0.18</td>\n",
       "      <td>-1.18</td>\n",
       "    </tr>\n",
       "    <tr>\n",
       "      <th>12</th>\n",
       "      <td>promo2_since_year</td>\n",
       "      <td>2009.00</td>\n",
       "      <td>2015.00</td>\n",
       "      <td>6.00</td>\n",
       "      <td>2012.79</td>\n",
       "      <td>2013.00</td>\n",
       "      <td>1.66</td>\n",
       "      <td>-0.78</td>\n",
       "      <td>-0.21</td>\n",
       "    </tr>\n",
       "    <tr>\n",
       "      <th>13</th>\n",
       "      <td>is_promo</td>\n",
       "      <td>0.00</td>\n",
       "      <td>1.00</td>\n",
       "      <td>1.00</td>\n",
       "      <td>0.17</td>\n",
       "      <td>0.00</td>\n",
       "      <td>0.37</td>\n",
       "      <td>1.80</td>\n",
       "      <td>1.22</td>\n",
       "    </tr>\n",
       "  </tbody>\n",
       "</table>\n",
       "</div>"
      ],
      "text/plain": [
       "                      attributes     min       max     range    mean  median      std  skew  kurtosis\n",
       "0                          store    1.00   1115.00   1114.00  558.43  558.00   321.91 -0.00     -1.20\n",
       "1                    day_of_week    1.00      7.00      6.00    4.00    4.00     2.00  0.00     -1.25\n",
       "2                          sales    0.00  41551.00  41551.00 5773.82 5744.00  3849.92  0.64      1.78\n",
       "3                      customers    0.00   7388.00   7388.00  633.15  609.00   464.41  1.60      7.09\n",
       "4                           open    0.00      1.00      1.00    0.83    1.00     0.38 -1.76      1.09\n",
       "5                          promo    0.00      1.00      1.00    0.38    0.00     0.49  0.49     -1.76\n",
       "6                 school_holiday    0.00      1.00      1.00    0.18    0.00     0.38  1.68      0.82\n",
       "7           competition_distance   20.00 200000.00 199980.00 5935.44 2330.00 12547.65 10.24    147.79\n",
       "8   competition_open_since_month    1.00     12.00     11.00    6.79    7.00     3.31 -0.04     -1.23\n",
       "9    competition_open_since_year 1900.00   2015.00    115.00 2010.32 2012.00     5.52 -7.24    124.07\n",
       "10                        promo2    0.00      1.00      1.00    0.50    1.00     0.50 -0.00     -2.00\n",
       "11             promo2_since_week    1.00     52.00     51.00   23.62   22.00    14.31  0.18     -1.18\n",
       "12             promo2_since_year 2009.00   2015.00      6.00 2012.79 2013.00     1.66 -0.78     -0.21\n",
       "13                      is_promo    0.00      1.00      1.00    0.17    0.00     0.37  1.80      1.22"
      ]
     },
     "execution_count": 19,
     "metadata": {},
     "output_type": "execute_result"
    }
   ],
   "source": [
    "#central tendency - mean, meadian\n",
    "\n",
    "ct1 = pd.DataFrame( num_att.apply( np.mean ) ).T\n",
    "ct2 = pd.DataFrame( num_att.apply( np.median ) ).T\n",
    "\n",
    "#Dispersion -std, min , max , range , skew ,kurtosis\n",
    "d1 = pd.DataFrame( num_att.apply( np.std ) ).T\n",
    "d2 = pd.DataFrame( num_att.apply( min ) ).T\n",
    "d3 = pd.DataFrame( num_att.apply( max ) ).T\n",
    "d4 = pd.DataFrame( num_att.apply( lambda x : x.max() - x.min() ) ).T\n",
    "d5 = pd.DataFrame( num_att.apply( lambda x : x.skew() ) ).T\n",
    "d6 = pd.DataFrame( num_att.apply( lambda x : x.kurtosis() ) ).T\n",
    "\n",
    "\n",
    "#concat\n",
    "m = pd.concat( [d2 , d3 , d4,ct1 , ct2 ,d1,d5 ,d6]).T.reset_index()\n",
    "m.columns = ['attributes' , 'min' , 'max' , 'range' ,'mean' ,'median' , 'std', 'skew' , 'kurtosis']\n",
    "\n",
    "m\n"
   ]
  },
  {
   "cell_type": "markdown",
   "id": "distributed-reaction",
   "metadata": {
    "ExecuteTime": {
     "end_time": "2021-04-01T16:16:54.382050Z",
     "start_time": "2021-04-01T16:16:54.341604Z"
    },
    "heading_collapsed": true,
    "hidden": true
   },
   "source": [
    "### 1.7.2 Categorical Attributes "
   ]
  },
  {
   "cell_type": "code",
   "execution_count": 20,
   "id": "joint-rating",
   "metadata": {
    "ExecuteTime": {
     "end_time": "2021-05-03T16:38:37.420660Z",
     "start_time": "2021-05-03T16:38:37.287489Z"
    },
    "hidden": true
   },
   "outputs": [
    {
     "data": {
      "text/plain": [
       "state_holiday      4\n",
       "store_type         4\n",
       "assortment         3\n",
       "promo_interval     4\n",
       "month_map         12\n",
       "dtype: int64"
      ]
     },
     "execution_count": 20,
     "metadata": {},
     "output_type": "execute_result"
    }
   ],
   "source": [
    "cat_att.apply( lambda x: x.unique().shape[0] )"
   ]
  },
  {
   "cell_type": "code",
   "execution_count": 21,
   "id": "signed-surge",
   "metadata": {
    "ExecuteTime": {
     "end_time": "2021-05-03T16:38:37.851161Z",
     "start_time": "2021-05-03T16:38:37.421514Z"
    },
    "hidden": true,
    "hide_input": false
   },
   "outputs": [
    {
     "data": {
      "text/plain": [
       "<AxesSubplot:xlabel='assortment', ylabel='sales'>"
      ]
     },
     "execution_count": 21,
     "metadata": {},
     "output_type": "execute_result"
    },
    {
     "data": {
      "image/png": "[encoded data removed]",
      "text/plain": [
       "<Figure size 1440x720 with 3 Axes>"
      ]
     },
     "metadata": {},
     "output_type": "display_data"
    }
   ],
   "source": [
    "aux1 = df1[(df1['state_holiday'] != '0' ) & (df1['sales'] > 0 ) ]\n",
    "\n",
    "plt.subplot(1 , 3 ,1)\n",
    "sns.boxplot( x='state_holiday' , y = 'sales' ,data = aux1)\n",
    "\n",
    "plt.subplot(1 , 3 ,2)\n",
    "sns.boxplot( x='store_type' , y = 'sales' ,data = aux1)\n",
    "\n",
    "\n",
    "plt.subplot(1 , 3 ,3)\n",
    "sns.boxplot( x='assortment' , y = 'sales' ,data = aux1)"
   ]
  },
  {
   "cell_type": "markdown",
   "id": "median-academy",
   "metadata": {
    "ExecuteTime": {
     "end_time": "2021-04-01T18:18:17.633529Z",
     "start_time": "2021-04-01T18:18:17.629618Z"
    },
    "hidden": true,
    "hide_input": false
   },
   "source": [
    "**Store Type** = B has the highest median sales and **assortment** = b as well "
   ]
  },
  {
   "cell_type": "markdown",
   "id": "pacific-heather",
   "metadata": {
    "ExecuteTime": {
     "end_time": "2021-04-01T18:18:17.633529Z",
     "start_time": "2021-04-01T18:18:17.629618Z"
    },
    "hide_input": false
   },
   "source": [
    "# 2.0 Feature Engineering "
   ]
  },
  {
   "cell_type": "code",
   "execution_count": 22,
   "id": "social-intensity",
   "metadata": {
    "ExecuteTime": {
     "end_time": "2021-05-03T16:38:37.906416Z",
     "start_time": "2021-05-03T16:38:37.852774Z"
    },
    "hide_input": false
   },
   "outputs": [],
   "source": [
    "df2 = df1.copy()"
   ]
  },
  {
   "cell_type": "markdown",
   "id": "strong-doubt",
   "metadata": {
    "ExecuteTime": {
     "end_time": "2021-04-01T18:18:17.633529Z",
     "start_time": "2021-04-01T18:18:17.629618Z"
    },
    "heading_collapsed": true,
    "hide_input": false
   },
   "source": [
    "## 2.1 Mind Map "
   ]
  },
  {
   "cell_type": "code",
   "execution_count": 23,
   "id": "federal-liver",
   "metadata": {
    "ExecuteTime": {
     "end_time": "2021-05-03T16:38:37.911734Z",
     "start_time": "2021-05-03T16:38:37.907442Z"
    },
    "hidden": true,
    "hide_input": false
   },
   "outputs": [
    {
     "data": {
      "image/png": "[encoded data removed]",
      "text/plain": [
       "<IPython.core.display.Image object>"
      ]
     },
     "execution_count": 23,
     "metadata": {},
     "output_type": "execute_result"
    }
   ],
   "source": [
    "\n",
    "Image(filename='img/Sales.png')"
   ]
  },
  {
   "cell_type": "markdown",
   "id": "straight-detection",
   "metadata": {
    "ExecuteTime": {
     "end_time": "2021-04-01T18:18:17.633529Z",
     "start_time": "2021-04-01T18:18:17.629618Z"
    },
    "heading_collapsed": true,
    "hide_input": false
   },
   "source": [
    "## 2.2 Creating Hypotheses"
   ]
  },
  {
   "cell_type": "markdown",
   "id": "growing-grill",
   "metadata": {
    "ExecuteTime": {
     "end_time": "2021-04-01T18:18:17.633529Z",
     "start_time": "2021-04-01T18:18:17.629618Z"
    },
    "heading_collapsed": true,
    "hidden": true,
    "hide_input": false
   },
   "source": [
    "### 2.2.1 Store Hypotheses"
   ]
  },
  {
   "cell_type": "markdown",
   "id": "civilian-spare",
   "metadata": {
    "hidden": true
   },
   "source": [
    "**1.** Stores with a larger number of employees should sell more.\n",
    "\n",
    "**2.** Stores with a higher inventory capacity should sell more.\n",
    "\n",
    "**3.** Larger stores should sell more.\n",
    "\n",
    "**4.** Stores with a larger assortment should sell more.\n",
    "\n",
    "\n",
    "**5.** Stores with closer competitors should sell less.\n",
    "\n",
    "**6.** Stores with longer competitors should sell more."
   ]
  },
  {
   "cell_type": "markdown",
   "id": "tamil-porcelain",
   "metadata": {
    "ExecuteTime": {
     "end_time": "2021-04-01T18:18:17.633529Z",
     "start_time": "2021-04-01T18:18:17.629618Z"
    },
    "heading_collapsed": true,
    "hidden": true,
    "hide_input": false
   },
   "source": [
    "### 2.2.2 Product Hypotheses"
   ]
  },
  {
   "cell_type": "markdown",
   "id": "absolute-newton",
   "metadata": {
    "ExecuteTime": {
     "end_time": "2021-04-05T17:41:12.797472Z",
     "start_time": "2021-04-05T17:41:12.791261Z"
    },
    "hidden": true
   },
   "source": [
    "**1.** Stores that invest more in Marketing should sell more.\n",
    "\n",
    "**2.** Stores with greater product exposure should sell more.\n",
    "\n",
    "**3.** Stores with lower priced products should sell more.\n",
    "\n",
    "**5.** Stores with more aggressive promotions (bigger discounts), should sell more.\n",
    "\n",
    "**6.** Stores with active promotions for longer should sell more.\n",
    "\n",
    "**7.** Stores with more promotion days should sell more.\n",
    "\n",
    "**8.** Stores with more consecutive promotions should sell more"
   ]
  },
  {
   "cell_type": "markdown",
   "id": "interesting-wisconsin",
   "metadata": {
    "ExecuteTime": {
     "end_time": "2021-04-01T18:18:17.633529Z",
     "start_time": "2021-04-01T18:18:17.629618Z"
    },
    "heading_collapsed": true,
    "hidden": true,
    "hide_input": false
   },
   "source": [
    "### 2.2.1 Seasonality Hypotheses"
   ]
  },
  {
   "cell_type": "markdown",
   "id": "explicit-correlation",
   "metadata": {
    "ExecuteTime": {
     "end_time": "2021-04-05T18:07:06.959696Z",
     "start_time": "2021-04-05T18:06:43.638915Z"
    },
    "hidden": true,
    "hide_input": false
   },
   "source": [
    "**1.**Stores open during the Christmas holiday should sell more.\n",
    "\n",
    "**2.**Stores should sell more over the years.\n",
    "\n",
    "**3.**Stores should sell more in the second half of the year.\n",
    "\n",
    "**4.**Stores should sell more after the 10th of each month.\n",
    "\n",
    "**5.**Stores should sell less on weekends.\n",
    "\n",
    "**6.**Stores should sell less during school holidays."
   ]
  },
  {
   "cell_type": "markdown",
   "id": "round-memory",
   "metadata": {
    "ExecuteTime": {
     "end_time": "2021-04-05T18:07:06.959696Z",
     "start_time": "2021-04-05T18:06:43.638915Z"
    },
    "heading_collapsed": true,
    "hide_input": false
   },
   "source": [
    "## 2.3 Final list of hypotheses"
   ]
  },
  {
   "cell_type": "markdown",
   "id": "cooked-liberia",
   "metadata": {
    "ExecuteTime": {
     "end_time": "2021-04-05T18:07:06.959696Z",
     "start_time": "2021-04-05T18:06:43.638915Z"
    },
    "hidden": true,
    "hide_input": false
   },
   "source": [
    "**1.** Stores with a larger assortment should sell more.\n",
    "\n",
    "**2.** Stores with closer competitors should sell less.\n",
    "\n",
    "**3.** Stores with longer competitors should sell more.\n",
    "\n",
    "**4.** Stores with active promotions for longer should sell more.\n",
    "\n",
    "**5.** Stores with more days of promotion should sell more.\n",
    "\n",
    "**6.** Stores with more consecutive promotions should sell more.\n",
    "\n",
    "\n",
    "\n",
    "\n",
    "**7.** Stores open during the Christmas holiday should sell more.\n",
    "\n",
    "**8.** Stores should sell more over the years.\n",
    "\n",
    "**9.** Stores should sell more in the second half of the year.\n",
    "\n",
    "**10**. Stores should sell more after the 10th of each month.\n",
    "\n",
    "**11**. Stores should sell less on weekends.\n",
    "\n",
    "**12**. Stores should sell less during school holidays."
   ]
  },
  {
   "cell_type": "markdown",
   "id": "pacific-chicken",
   "metadata": {
    "ExecuteTime": {
     "end_time": "2021-04-05T18:07:06.959696Z",
     "start_time": "2021-04-05T18:06:43.638915Z"
    },
    "hide_input": false
   },
   "source": [
    "## 2.4 Feature Engineering"
   ]
  },
  {
   "cell_type": "code",
   "execution_count": 24,
   "id": "coupled-adventure",
   "metadata": {
    "ExecuteTime": {
     "end_time": "2021-05-03T16:39:25.711059Z",
     "start_time": "2021-05-03T16:38:37.912672Z"
    },
    "hide_input": false
   },
   "outputs": [],
   "source": [
    "#year\n",
    "df2['year'] = df2['date'].dt.year\n",
    "#month\n",
    "\n",
    "df2['month'] = df2['date'].dt.month\n",
    "#day\n",
    "df2['day'] = df2['date'].dt.day\n",
    "\n",
    "#week of year\n",
    "df2['week_of_year'] = df2['date'].dt.weekofyear\n",
    "\n",
    "#year week\n",
    "df2['year_week'] = df2['date'].dt.strftime( '%Y-%W' )\n",
    "\n",
    "#competition since\n",
    "df2['competition_since'] = df2.apply( lambda x: datetime.datetime( year=x['competition_open_since_year'], month=x['competition_open_since_month'],day=1 ), axis=1 )\n",
    "df2['competition_time_month'] = ( ( df2['date'] - df2['competition_since'] )/30 ).apply( lambda x: x.days ).astype( int )\n",
    "\n",
    "#promo since\n",
    "df2['promo_since']     = df2['promo2_since_year'].astype( str ) + '-' + df2['promo2_since_week'].astype( str )\n",
    "df2['promo_since']     = df2['promo_since'].apply( lambda x: datetime.datetime.strptime( x + '-1', '%Y-%W-%w' ) - datetime.timedelta( days=7 )  )\n",
    "df2['promo_time_week'] = ( ( df2['date'] - df2['promo_since'] ) / 7 ).apply( lambda x: x.days ).astype( int )\n",
    "\n",
    "#assortment \n",
    "df2['assortment'] = df2['assortment'].apply( lambda x: 'basic' if x == 'a' else 'extra' if x == 'b' else 'extended')\n",
    "\n",
    "#state holiday\n",
    "\n",
    "df2['state_holiday'] = df2['state_holiday'].apply( lambda x: 'public_holiday' if x == 'a' else 'easter_holiday' if x == 'b' else 'christmas' if x == 'c' else 'regular_day' )\n",
    "\n",
    "\n"
   ]
  },
  {
   "cell_type": "markdown",
   "id": "perceived-salon",
   "metadata": {
    "ExecuteTime": {
     "end_time": "2021-04-05T18:07:06.959696Z",
     "start_time": "2021-04-05T18:06:43.638915Z"
    },
    "hide_input": false
   },
   "source": [
    "# 3.0 Data Filtering"
   ]
  },
  {
   "cell_type": "code",
   "execution_count": 25,
   "id": "spiritual-symposium",
   "metadata": {
    "ExecuteTime": {
     "end_time": "2021-05-03T16:39:25.794819Z",
     "start_time": "2021-05-03T16:39:25.712000Z"
    },
    "hide_input": false
   },
   "outputs": [],
   "source": [
    "df3 = df2.copy()"
   ]
  },
  {
   "cell_type": "markdown",
   "id": "promotional-cargo",
   "metadata": {
    "ExecuteTime": {
     "end_time": "2021-04-05T21:46:29.782226Z",
     "start_time": "2021-04-05T21:46:29.742306Z"
    },
    "hide_input": false
   },
   "source": [
    "## 3.1 Rows Filtering  "
   ]
  },
  {
   "cell_type": "code",
   "execution_count": 26,
   "id": "efficient-class",
   "metadata": {
    "ExecuteTime": {
     "end_time": "2021-05-03T16:39:26.020518Z",
     "start_time": "2021-05-03T16:39:25.795743Z"
    }
   },
   "outputs": [],
   "source": [
    "df3 = df3[(df3['open'] != 0) & (df3['sales'] > 0)]\n"
   ]
  },
  {
   "cell_type": "markdown",
   "id": "removable-honor",
   "metadata": {
    "ExecuteTime": {
     "end_time": "2021-04-05T21:00:34.164026Z",
     "start_time": "2021-04-05T21:00:34.100976Z"
    },
    "hide_input": false
   },
   "source": [
    "## 3.2 Columns Filtering  "
   ]
  },
  {
   "cell_type": "code",
   "execution_count": 27,
   "id": "fleet-inquiry",
   "metadata": {
    "ExecuteTime": {
     "end_time": "2021-05-03T16:39:26.101570Z",
     "start_time": "2021-05-03T16:39:26.021493Z"
    },
    "hide_input": false
   },
   "outputs": [],
   "source": [
    "cols_drop = ['customers', 'open', 'month_map' , 'promo_interval']\n",
    "df3 = df3.drop( cols_drop, axis=1 )"
   ]
  },
  {
   "cell_type": "markdown",
   "id": "thousand-oasis",
   "metadata": {
    "ExecuteTime": {
     "end_time": "2021-04-05T21:46:29.782226Z",
     "start_time": "2021-04-05T21:46:29.742306Z"
    },
    "hide_input": false
   },
   "source": [
    "# 4.0 Exploratory Data Analysis "
   ]
  },
  {
   "cell_type": "code",
   "execution_count": 28,
   "id": "signed-petite",
   "metadata": {
    "ExecuteTime": {
     "end_time": "2021-05-03T16:39:26.160385Z",
     "start_time": "2021-05-03T16:39:26.102582Z"
    },
    "hide_input": false
   },
   "outputs": [],
   "source": [
    "df4 = df3.copy()"
   ]
  },
  {
   "cell_type": "markdown",
   "id": "centered-pierre",
   "metadata": {
    "ExecuteTime": {
     "end_time": "2021-04-05T21:46:29.782226Z",
     "start_time": "2021-04-05T21:46:29.742306Z"
    },
    "heading_collapsed": true,
    "hide_input": false
   },
   "source": [
    "## 4.1  Univariate Analysis"
   ]
  },
  {
   "cell_type": "markdown",
   "id": "unique-village",
   "metadata": {
    "heading_collapsed": true,
    "hidden": true
   },
   "source": [
    "### 4.1.1 Response Variable "
   ]
  },
  {
   "cell_type": "code",
   "execution_count": null,
   "id": "dimensional-windows",
   "metadata": {
    "ExecuteTime": {
     "end_time": "2021-04-12T22:04:51.289689Z",
     "start_time": "2021-04-12T22:04:48.249896Z"
    },
    "hidden": true
   },
   "outputs": [],
   "source": [
    "sns.distplot( df4['sales'] );"
   ]
  },
  {
   "cell_type": "markdown",
   "id": "going-policy",
   "metadata": {
    "heading_collapsed": true,
    "hidden": true
   },
   "source": [
    "### 4.1.2 Numerical Variable "
   ]
  },
  {
   "cell_type": "code",
   "execution_count": null,
   "id": "proud-business",
   "metadata": {
    "ExecuteTime": {
     "end_time": "2021-04-12T22:04:53.215216Z",
     "start_time": "2021-04-12T22:04:51.290847Z"
    },
    "hidden": true
   },
   "outputs": [],
   "source": [
    "num_att.hist( bins = 30 );"
   ]
  },
  {
   "cell_type": "markdown",
   "id": "owned-profit",
   "metadata": {
    "heading_collapsed": true,
    "hidden": true
   },
   "source": [
    "### 4.1.3 Categorical Variable "
   ]
  },
  {
   "cell_type": "code",
   "execution_count": null,
   "id": "domestic-holder",
   "metadata": {
    "ExecuteTime": {
     "end_time": "2021-04-12T22:04:59.887544Z",
     "start_time": "2021-04-12T22:04:53.216054Z"
    },
    "hidden": true,
    "hide_input": true
   },
   "outputs": [],
   "source": [
    "#state holiday\n",
    "plt.subplot( 3, 2, 1 ) \n",
    "aux413 = df4[df4['state_holiday'] != 'regular_day' ]\n",
    "sns.countplot( aux413['state_holiday'] );\n",
    "\n",
    "plt.subplot( 3, 2, 2)\n",
    "sns.kdeplot(df4[df4['state_holiday'] == 'public_holiday']['sales'], label = 'public_holiday',shade = True )\n",
    "sns.kdeplot(df4[df4['state_holiday'] == 'easter_holiday']['sales'], label = 'easter_holiday',shade = True )\n",
    "sns.kdeplot(df4[df4['state_holiday'] == 'christmas']['sales'], label = 'christmas',shade = True );\n",
    "\n",
    "\n",
    "#state holiday\n",
    "plt.subplot( 3, 2, 3 ) \n",
    "sns.countplot( aux413['store_type'] );\n",
    "\n",
    "\n",
    "\n",
    "plt.subplot( 3, 2, 4 )\n",
    "sns.kdeplot(df4[df4['store_type'] == 'a']['sales'], label = 'a',shade = True )\n",
    "sns.kdeplot(df4[df4['store_type'] == 'b']['sales'], label = 'b',shade = True )\n",
    "sns.kdeplot(df4[df4['store_type'] == 'c']['sales'], label = 'c',shade = True )\n",
    "sns.kdeplot(df4[df4['store_type'] == 'd']['sales'], label = 'd' ,shade = True )\n",
    "\n",
    "#state holiday\n",
    "plt.subplot( 3, 2, 5 )\n",
    "sns.countplot( aux413['assortment'] );\n",
    "\n",
    "\n",
    "\n",
    "plt.subplot( 3, 2, 6 )\n",
    "sns.kdeplot(df4[df4['assortment'] == 'extended']['sales'], label = 'extended',shade = True )\n",
    "sns.kdeplot(df4[df4['assortment'] == 'basic']['sales'], label = 'basic',shade = True )\n",
    "sns.kdeplot(df4[df4['assortment'] == 'extra']['sales'], label = 'extra',shade = True );\n",
    "\n"
   ]
  },
  {
   "cell_type": "markdown",
   "id": "important-spelling",
   "metadata": {
    "ExecuteTime": {
     "end_time": "2021-04-05T21:17:18.129707Z",
     "start_time": "2021-04-05T21:17:18.080332Z"
    },
    "hide_input": false
   },
   "source": [
    "## 4.2  Bivariate Analysis"
   ]
  },
  {
   "cell_type": "markdown",
   "id": "twenty-arcade",
   "metadata": {
    "heading_collapsed": true
   },
   "source": [
    "### **H1.** Stores with a larger assortment should sell more on average.\n",
    "###  **True**\n"
   ]
  },
  {
   "cell_type": "code",
   "execution_count": null,
   "id": "composite-persian",
   "metadata": {
    "ExecuteTime": {
     "end_time": "2021-04-12T22:05:00.066252Z",
     "start_time": "2021-04-12T22:04:59.888518Z"
    },
    "hidden": true
   },
   "outputs": [],
   "source": [
    "auxh1 = df4[['assortment','sales']].groupby( 'assortment' ).median().reset_index()\n",
    "\n",
    "sns.barplot(x='assortment' , y= 'sales', data= auxh1 );\n"
   ]
  },
  {
   "cell_type": "markdown",
   "id": "great-arabic",
   "metadata": {},
   "source": [
    "### **H2.** Stores with closer competitors should sell less.\n",
    "### **False**\n",
    "\n"
   ]
  },
  {
   "cell_type": "code",
   "execution_count": 30,
   "id": "passing-dryer",
   "metadata": {
    "ExecuteTime": {
     "end_time": "2021-05-03T16:43:17.456665Z",
     "start_time": "2021-05-03T16:43:16.642568Z"
    },
    "hide_input": true
   },
   "outputs": [
    {
     "data": {
      "image/png": "[encoded data removed]",
      "text/plain": [
       "<Figure size 1440x720 with 4 Axes>"
      ]
     },
     "metadata": {},
     "output_type": "display_data"
    }
   ],
   "source": [
    "aux1 = df4[['competition_distance', 'sales']].groupby( 'competition_distance' ).sum().reset_index()\n",
    "\n",
    "plt.subplot( 1, 3, 1 )\n",
    "sns.scatterplot( x ='competition_distance', y='sales', data=aux1 );\n",
    "\n",
    "plt.subplot( 1, 3, 2 )\n",
    "bins = list( np.arange( 0, 20000, 1000) )\n",
    "aux1['competition_distance_binned'] = pd.cut( aux1['competition_distance'], bins=bins )\n",
    "aux2 = aux1[['competition_distance_binned', 'sales']].groupby( 'competition_distance_binned' ).sum().reset_index()\n",
    "sns.barplot( x='competition_distance_binned', y='sales', data=aux2 );\n",
    "plt.xticks( rotation=90 );\n",
    "\n",
    "plt.subplot( 1, 3, 3 )\n",
    "x = sns.heatmap( aux1.corr( method='pearson' ), annot=True );"
   ]
  },
  {
   "cell_type": "markdown",
   "id": "described-movie",
   "metadata": {},
   "source": [
    "### **H3.** Stores with longer competitors should sell more.\n",
    "### **False**\n"
   ]
  },
  {
   "cell_type": "code",
   "execution_count": 31,
   "id": "outside-valuable",
   "metadata": {
    "ExecuteTime": {
     "end_time": "2021-05-03T16:43:23.412752Z",
     "start_time": "2021-05-03T16:43:21.107140Z"
    },
    "hide_input": true
   },
   "outputs": [
    {
     "data": {
      "image/png": "[encoded data removed]",
      "text/plain": [
       "<Figure size 1440x720 with 1 Axes>"
      ]
     },
     "metadata": {},
     "output_type": "display_data"
    }
   ],
   "source": [
    "aux3 = df4[['competition_time_month','sales']].groupby( 'competition_time_month').sum().reset_index()\n",
    "aux4 = aux3[( aux3['competition_time_month'] < 120 ) & (aux3['competition_time_month'] != 0 )]\n",
    "sns.barplot( x = 'competition_time_month', y='sales', data=aux4 );\n",
    "plt.xticks(rotation= 90);\n",
    "\n"
   ]
  },
  {
   "cell_type": "code",
   "execution_count": null,
   "id": "formed-closure",
   "metadata": {
    "ExecuteTime": {
     "end_time": "2021-04-12T22:05:03.076447Z",
     "start_time": "2021-04-12T22:05:02.948463Z"
    },
    "hide_input": true
   },
   "outputs": [],
   "source": [
    "plt.figure( figsize=(12,12))\n",
    "sns.heatmap( aux3.corr(method='pearson'), annot=True );"
   ]
  },
  {
   "cell_type": "markdown",
   "id": "perceived-sunday",
   "metadata": {
    "heading_collapsed": true
   },
   "source": [
    "### **H4.** Stores with active promotions for longer should sell more.\n",
    "### **False**\n"
   ]
  },
  {
   "cell_type": "code",
   "execution_count": null,
   "id": "dried-quantum",
   "metadata": {
    "ExecuteTime": {
     "end_time": "2021-04-12T22:05:10.867694Z",
     "start_time": "2021-04-12T22:05:03.077405Z"
    },
    "hidden": true,
    "hide_input": true
   },
   "outputs": [],
   "source": [
    "aux4 = df4[['promo_time_week','sales']].groupby( 'promo_time_week' ).sum().reset_index()\n",
    "\n",
    "grid = GridSpec(2,2)\n",
    "plt.subplot( grid[0,0] )\n",
    "#extended promotion\n",
    "aux2 = aux4[aux4['promo_time_week'] > 0 ]\n",
    "sns.barplot( x='promo_time_week' , y='sales', data=aux2);\n",
    "\n",
    "plt.subplot( grid[1,0] )\n",
    "#regular promotion\n",
    "aux3 = aux4[aux4['promo_time_week'] < 0 ]\n",
    "sns.barplot( x='promo_time_week' , y='sales', data=aux3);\n",
    "\n",
    "plt.subplot( grid[:, 1 ]  )\n",
    "\n",
    "sns.heatmap(aux4.corr(method='pearson'), annot=True);"
   ]
  },
  {
   "cell_type": "code",
   "execution_count": null,
   "id": "metropolitan-administration",
   "metadata": {
    "hidden": true
   },
   "outputs": [],
   "source": []
  },
  {
   "cell_type": "markdown",
   "id": "normal-child",
   "metadata": {
    "heading_collapsed": true
   },
   "source": [
    "### **H5.** Stores with more consecutive promotions should sell more.\n",
    "### False"
   ]
  },
  {
   "cell_type": "code",
   "execution_count": null,
   "id": "attended-bathroom",
   "metadata": {
    "ExecuteTime": {
     "end_time": "2021-04-12T22:05:11.129338Z",
     "start_time": "2021-04-12T22:05:10.868664Z"
    },
    "hidden": true
   },
   "outputs": [],
   "source": [
    "aux1 = df4[( df4['promo'] == 1 ) & ( df4['promo2'] == 1 )][['year_week', 'sales']].groupby( 'year_week' ).sum().reset_index()\n",
    "ax = aux1.plot()\n",
    "\n",
    "aux2 = df4[( df4['promo'] == 1 ) & ( df4['promo2'] == 0 )][['year_week', 'sales']].groupby( 'year_week' ).sum().reset_index()\n",
    "aux2.plot( ax=ax )\n",
    "\n",
    "ax.legend( labels=['Tradicional & Extendida', 'Extendida']);"
   ]
  },
  {
   "cell_type": "markdown",
   "id": "naughty-static",
   "metadata": {
    "heading_collapsed": true
   },
   "source": [
    "### **H6.** Stores open during the Christmas holiday should sell more.\n",
    "### **False**\n"
   ]
  },
  {
   "cell_type": "code",
   "execution_count": null,
   "id": "considered-father",
   "metadata": {
    "ExecuteTime": {
     "end_time": "2021-04-12T22:05:11.278451Z",
     "start_time": "2021-04-12T22:05:11.130251Z"
    },
    "hidden": true
   },
   "outputs": [],
   "source": [
    "aux7 = df4[['state_holiday','sales']].groupby( 'state_holiday' ).mean().reset_index()\n",
    "aux8 = aux7[aux7['state_holiday'] != 'regular_day']\n",
    "\n",
    "sns.barplot(x='state_holiday', y='sales' ,data=aux8);\n"
   ]
  },
  {
   "cell_type": "markdown",
   "id": "rising-reliance",
   "metadata": {
    "heading_collapsed": true
   },
   "source": [
    "### **H7.** Stores should sell more over the years.\n",
    "### **False**"
   ]
  },
  {
   "cell_type": "code",
   "execution_count": null,
   "id": "incredible-vatican",
   "metadata": {
    "ExecuteTime": {
     "end_time": "2021-04-12T22:05:11.511755Z",
     "start_time": "2021-04-12T22:05:11.279262Z"
    },
    "hidden": true
   },
   "outputs": [],
   "source": [
    "aux8 = df4[['sales','year']].groupby('year').sum().reset_index()\n",
    "plt.subplot(1,2,1)\n",
    "sns.barplot(x='year', y='sales', data=aux8);\n",
    "plt.subplot(1,2,2)\n",
    "sns.heatmap(aux8.corr(method='pearson'), annot=True );\n"
   ]
  },
  {
   "cell_type": "markdown",
   "id": "median-attendance",
   "metadata": {
    "ExecuteTime": {
     "end_time": "2021-04-06T18:16:33.042974Z",
     "start_time": "2021-04-06T18:16:33.038884Z"
    },
    "heading_collapsed": true
   },
   "source": [
    "### **H8.** Stores should sell more in the second half of the year.\n",
    "### **True**"
   ]
  },
  {
   "cell_type": "code",
   "execution_count": null,
   "id": "micro-economy",
   "metadata": {
    "ExecuteTime": {
     "end_time": "2021-04-12T22:05:12.036322Z",
     "start_time": "2021-04-12T22:05:11.513210Z"
    },
    "hidden": true
   },
   "outputs": [],
   "source": [
    "aux9 = df4[df4['year'] != 2015 ]\n",
    "\n",
    "aux8 = aux9[['sales','month']].groupby('month').sum().reset_index()\n",
    "plt.subplot(1,3,2)\n",
    "sns.regplot(x='month', y='sales', data=aux8);\n",
    "plt.subplot(1,3,3)\n",
    "sns.heatmap(aux8.corr(method='pearson'), annot=True );\n",
    "\n",
    "plt.subplot(1,3,1)\n",
    "sns.barplot(x='month', y='sales', data=aux8);"
   ]
  },
  {
   "cell_type": "markdown",
   "id": "embedded-listing",
   "metadata": {
    "ExecuteTime": {
     "end_time": "2021-04-06T18:16:33.042974Z",
     "start_time": "2021-04-06T18:16:33.038884Z"
    },
    "heading_collapsed": true
   },
   "source": [
    "### **H9**. Stores should sell more after the 10th of each month.\n",
    " ### **True**\n",
    "\n",
    "\n"
   ]
  },
  {
   "cell_type": "code",
   "execution_count": null,
   "id": "temporal-ultimate",
   "metadata": {
    "ExecuteTime": {
     "end_time": "2021-04-12T22:05:12.473306Z",
     "start_time": "2021-04-12T22:05:12.037644Z"
    },
    "hidden": true
   },
   "outputs": [],
   "source": [
    "\n",
    "aux8 = df4[['sales','day']].groupby('day').sum().reset_index()\n",
    "plt.subplot(1,3,2)\n",
    "\n",
    "sns.regplot(x='day', y='sales', data=aux8);\n",
    "\n",
    "plt.subplot(1,3,3)\n",
    "\n",
    "sns.heatmap(aux8.corr(method='pearson'), annot=True );\n",
    "\n",
    "plt.subplot(1,3,1)\n",
    "\n",
    "aux8['before_after'] = aux8['day'].apply( lambda x: 'before_10' if x <=10 else 'after_10')\n",
    "\n",
    "aux9 = aux8[['before_after','sales']].groupby('before_after').sum().reset_index()\n",
    "\n",
    "sns.barplot(x='before_after', y='sales', data=aux9);"
   ]
  },
  {
   "cell_type": "markdown",
   "id": "bearing-daisy",
   "metadata": {
    "heading_collapsed": true
   },
   "source": [
    "### **H10**. Stores should sell less on weekends on average.\n",
    "###  Sells a lot **less** on **Saturday** but **sells a lot on Sunday**\n"
   ]
  },
  {
   "cell_type": "code",
   "execution_count": null,
   "id": "fancy-hollow",
   "metadata": {
    "ExecuteTime": {
     "end_time": "2021-04-12T22:05:12.941447Z",
     "start_time": "2021-04-12T22:05:12.474396Z"
    },
    "hidden": true
   },
   "outputs": [],
   "source": [
    "\n",
    "aux8 = df4[['sales','day_of_week']].groupby('day_of_week').mean().reset_index()\n",
    "plt.subplot(1,3,2)\n",
    "sns.regplot(x='day_of_week', y='sales', data=aux8);\n",
    "plt.subplot(1,3,3)\n",
    "sns.heatmap(aux8.corr(method='pearson'), annot=True );\n",
    "\n",
    "plt.subplot(1,3,1)\n",
    "sns.barplot(x='day_of_week', y='sales', data=aux8);"
   ]
  },
  {
   "cell_type": "markdown",
   "id": "interesting-warrior",
   "metadata": {
    "heading_collapsed": true
   },
   "source": [
    "### **H11**. Stores should sell less  on average during school holidays \n",
    "### **False** except in December"
   ]
  },
  {
   "cell_type": "code",
   "execution_count": null,
   "id": "secondary-junior",
   "metadata": {
    "ExecuteTime": {
     "end_time": "2021-04-12T22:05:13.440941Z",
     "start_time": "2021-04-12T22:05:12.944247Z"
    },
    "hidden": true
   },
   "outputs": [],
   "source": [
    "\n",
    "aux8 = df4[['sales','school_holiday']].groupby('school_holiday').mean().reset_index()\n",
    "aux9 = df4[['sales','month','school_holiday']].groupby(['month','school_holiday']).mean().reset_index()\n",
    "plt.subplot(2,1,2)\n",
    "sns.barplot(x='month', hue='school_holiday', y='sales', data=aux9);\n",
    "\n",
    "plt.subplot(2,1,1)\n",
    "sns.barplot(x='school_holiday', y='sales', data=aux8);"
   ]
  },
  {
   "cell_type": "markdown",
   "id": "extended-topic",
   "metadata": {},
   "source": [
    "### 4.2.1 Summary of Hypotheses"
   ]
  },
  {
   "cell_type": "code",
   "execution_count": 29,
   "id": "smaller-psychiatry",
   "metadata": {
    "ExecuteTime": {
     "end_time": "2021-05-03T16:39:26.176035Z",
     "start_time": "2021-05-03T16:39:26.161324Z"
    },
    "hide_input": true
   },
   "outputs": [
    {
     "data": {
      "text/html": [
       "<div>\n",
       "<style scoped>\n",
       "    .dataframe tbody tr th:only-of-type {\n",
       "        vertical-align: middle;\n",
       "    }\n",
       "\n",
       "    .dataframe tbody tr th {\n",
       "        vertical-align: top;\n",
       "    }\n",
       "\n",
       "    .dataframe thead th {\n",
       "        text-align: right;\n",
       "    }\n",
       "</style>\n",
       "<table border=\"1\" class=\"dataframe\">\n",
       "  <thead>\n",
       "    <tr style=\"text-align: right;\">\n",
       "      <th></th>\n",
       "      <th>Hypotheses</th>\n",
       "      <th>Conclusion</th>\n",
       "      <th>Relevance</th>\n",
       "    </tr>\n",
       "  </thead>\n",
       "  <tbody>\n",
       "    <tr>\n",
       "      <th>0</th>\n",
       "      <td>H1</td>\n",
       "      <td>True</td>\n",
       "      <td>High</td>\n",
       "    </tr>\n",
       "    <tr>\n",
       "      <th>1</th>\n",
       "      <td>H2</td>\n",
       "      <td>False</td>\n",
       "      <td>Medium</td>\n",
       "    </tr>\n",
       "    <tr>\n",
       "      <th>2</th>\n",
       "      <td>H3</td>\n",
       "      <td>False</td>\n",
       "      <td>Low</td>\n",
       "    </tr>\n",
       "    <tr>\n",
       "      <th>3</th>\n",
       "      <td>H4</td>\n",
       "      <td>False</td>\n",
       "      <td>Low</td>\n",
       "    </tr>\n",
       "    <tr>\n",
       "      <th>4</th>\n",
       "      <td>H5</td>\n",
       "      <td>False</td>\n",
       "      <td>Low</td>\n",
       "    </tr>\n",
       "    <tr>\n",
       "      <th>5</th>\n",
       "      <td>H6</td>\n",
       "      <td>False</td>\n",
       "      <td>Low</td>\n",
       "    </tr>\n",
       "    <tr>\n",
       "      <th>6</th>\n",
       "      <td>H7</td>\n",
       "      <td>False</td>\n",
       "      <td>High</td>\n",
       "    </tr>\n",
       "    <tr>\n",
       "      <th>7</th>\n",
       "      <td>H8</td>\n",
       "      <td>True</td>\n",
       "      <td>Medium</td>\n",
       "    </tr>\n",
       "    <tr>\n",
       "      <th>8</th>\n",
       "      <td>H9</td>\n",
       "      <td>True</td>\n",
       "      <td>Medium</td>\n",
       "    </tr>\n",
       "    <tr>\n",
       "      <th>9</th>\n",
       "      <td>H10</td>\n",
       "      <td>False</td>\n",
       "      <td>Medium</td>\n",
       "    </tr>\n",
       "    <tr>\n",
       "      <th>10</th>\n",
       "      <td>H11</td>\n",
       "      <td>False</td>\n",
       "      <td>Low</td>\n",
       "    </tr>\n",
       "  </tbody>\n",
       "</table>\n",
       "</div>"
      ],
      "text/plain": [
       "   Hypotheses Conclusion Relevance\n",
       "0          H1       True      High\n",
       "1          H2      False    Medium\n",
       "2          H3      False       Low\n",
       "3          H4      False       Low\n",
       "4          H5      False       Low\n",
       "5          H6      False       Low\n",
       "6          H7      False      High\n",
       "7          H8       True    Medium\n",
       "8          H9       True    Medium\n",
       "9         H10      False    Medium\n",
       "10        H11      False       Low"
      ]
     },
     "execution_count": 29,
     "metadata": {},
     "output_type": "execute_result"
    }
   ],
   "source": [
    "tab=[\n",
    "    ['H1','True' ,'High'],\n",
    "    ['H2','False','Medium'],\n",
    "    ['H3','False','Low'],\n",
    "    ['H4','False','Low'],\n",
    "    ['H5','False','Low'],\n",
    "    ['H6','False','Low'],\n",
    "    ['H7','False','High'],\n",
    "    ['H8','True','Medium'],\n",
    "    ['H9','True','Medium'],\n",
    "    ['H10','False','Medium'],\n",
    "    ['H11','False','Low'],\n",
    "    ]\n",
    "#a = tabulate(tab, headers='firstrow')\n",
    "b = pd.DataFrame(data= tab, columns=['Hypotheses','Conclusion','Relevance'])\n",
    "b\n"
   ]
  },
  {
   "cell_type": "markdown",
   "id": "committed-indian",
   "metadata": {
    "ExecuteTime": {
     "end_time": "2021-04-05T21:17:18.129707Z",
     "start_time": "2021-04-05T21:17:18.080332Z"
    },
    "heading_collapsed": true,
    "hide_input": false
   },
   "source": [
    "## 4.3  Multivariate Analysis"
   ]
  },
  {
   "cell_type": "markdown",
   "id": "affiliated-retailer",
   "metadata": {
    "heading_collapsed": true,
    "hidden": true
   },
   "source": [
    "###  4.3.1 Numerical Attributes"
   ]
  },
  {
   "cell_type": "code",
   "execution_count": null,
   "id": "hispanic-executive",
   "metadata": {
    "ExecuteTime": {
     "end_time": "2021-04-12T22:05:14.461747Z",
     "start_time": "2021-04-12T22:05:13.451185Z"
    },
    "hidden": true,
    "hide_input": true
   },
   "outputs": [],
   "source": [
    "corr = num_att.corr(method='pearson')\n",
    "sns.heatmap(corr, annot=True)"
   ]
  },
  {
   "cell_type": "markdown",
   "id": "bridal-equality",
   "metadata": {
    "heading_collapsed": true,
    "hidden": true
   },
   "source": [
    "### 4.3.2 Categorical Attributes "
   ]
  },
  {
   "cell_type": "code",
   "execution_count": null,
   "id": "starting-construction",
   "metadata": {
    "ExecuteTime": {
     "end_time": "2021-04-12T22:05:15.621305Z",
     "start_time": "2021-04-12T22:05:14.462675Z"
    },
    "hidden": true,
    "hide_input": true
   },
   "outputs": [],
   "source": [
    "# only categorical data\n",
    "a = df4.select_dtypes( include='object' )\n",
    "\n",
    "# Calculate cramer V\n",
    "a1 = cramer_v( a['state_holiday'], a['state_holiday'] )\n",
    "a2 = cramer_v( a['state_holiday'], a['store_type'] )\n",
    "a3 = cramer_v( a['state_holiday'], a['assortment'] )\n",
    "\n",
    "a4 = cramer_v( a['store_type'], a['state_holiday'] )\n",
    "a5 = cramer_v( a['store_type'], a['store_type'] )\n",
    "a6 = cramer_v( a['store_type'], a['assortment'] )\n",
    "\n",
    "a7 = cramer_v( a['assortment'], a['state_holiday'] )\n",
    "a8 = cramer_v( a['assortment'], a['store_type'] )\n",
    "a9 = cramer_v( a['assortment'], a['assortment'] )\n",
    "\n",
    "# Final dataset\n",
    "d = pd.DataFrame( {'state_holiday': [a1, a2, a3], \n",
    "               'store_type': [a4, a5, a6],\n",
    "               'assortment': [a7, a8, a9]  })\n",
    "d = d.set_index( d.columns )\n",
    "\n",
    "sns.heatmap( d, annot=True )"
   ]
  },
  {
   "cell_type": "markdown",
   "id": "incredible-isaac",
   "metadata": {
    "heading_collapsed": true
   },
   "source": [
    "# 5.0 Data Preparation"
   ]
  },
  {
   "cell_type": "code",
   "execution_count": 31,
   "id": "bound-gilbert",
   "metadata": {
    "ExecuteTime": {
     "end_time": "2021-05-01T00:09:05.003311Z",
     "start_time": "2021-05-01T00:09:04.949910Z"
    },
    "hidden": true
   },
   "outputs": [],
   "source": [
    "df5 = df4.copy()"
   ]
  },
  {
   "cell_type": "markdown",
   "id": "hazardous-foster",
   "metadata": {
    "heading_collapsed": true,
    "hidden": true
   },
   "source": [
    "## 5.1 Select Features"
   ]
  },
  {
   "cell_type": "code",
   "execution_count": 32,
   "id": "durable-walker",
   "metadata": {
    "ExecuteTime": {
     "end_time": "2021-05-01T00:09:05.070069Z",
     "start_time": "2021-05-01T00:09:05.004259Z"
    },
    "hidden": true
   },
   "outputs": [
    {
     "data": {
      "text/html": [
       "<div>\n",
       "<style scoped>\n",
       "    .dataframe tbody tr th:only-of-type {\n",
       "        vertical-align: middle;\n",
       "    }\n",
       "\n",
       "    .dataframe tbody tr th {\n",
       "        vertical-align: top;\n",
       "    }\n",
       "\n",
       "    .dataframe thead th {\n",
       "        text-align: right;\n",
       "    }\n",
       "</style>\n",
       "<table border=\"1\" class=\"dataframe\">\n",
       "  <thead>\n",
       "    <tr style=\"text-align: right;\">\n",
       "      <th></th>\n",
       "      <th>store</th>\n",
       "      <th>day_of_week</th>\n",
       "      <th>sales</th>\n",
       "      <th>promo</th>\n",
       "      <th>school_holiday</th>\n",
       "      <th>competition_distance</th>\n",
       "      <th>competition_open_since_month</th>\n",
       "      <th>competition_open_since_year</th>\n",
       "      <th>promo2</th>\n",
       "      <th>promo2_since_week</th>\n",
       "      <th>promo2_since_year</th>\n",
       "      <th>is_promo</th>\n",
       "      <th>year</th>\n",
       "      <th>month</th>\n",
       "      <th>day</th>\n",
       "      <th>week_of_year</th>\n",
       "      <th>competition_time_month</th>\n",
       "      <th>promo_time_week</th>\n",
       "    </tr>\n",
       "  </thead>\n",
       "  <tbody>\n",
       "    <tr>\n",
       "      <th>244576</th>\n",
       "      <td>860</td>\n",
       "      <td>2</td>\n",
       "      <td>12728</td>\n",
       "      <td>0</td>\n",
       "      <td>1</td>\n",
       "      <td>5980.00</td>\n",
       "      <td>2</td>\n",
       "      <td>2010</td>\n",
       "      <td>0</td>\n",
       "      <td>52</td>\n",
       "      <td>2014</td>\n",
       "      <td>0</td>\n",
       "      <td>2014</td>\n",
       "      <td>12</td>\n",
       "      <td>23</td>\n",
       "      <td>52</td>\n",
       "      <td>59</td>\n",
       "      <td>0</td>\n",
       "    </tr>\n",
       "    <tr>\n",
       "      <th>144062</th>\n",
       "      <td>228</td>\n",
       "      <td>2</td>\n",
       "      <td>5897</td>\n",
       "      <td>0</td>\n",
       "      <td>0</td>\n",
       "      <td>10800.00</td>\n",
       "      <td>3</td>\n",
       "      <td>2015</td>\n",
       "      <td>1</td>\n",
       "      <td>18</td>\n",
       "      <td>2011</td>\n",
       "      <td>0</td>\n",
       "      <td>2015</td>\n",
       "      <td>3</td>\n",
       "      <td>24</td>\n",
       "      <td>13</td>\n",
       "      <td>0</td>\n",
       "      <td>204</td>\n",
       "    </tr>\n",
       "    <tr>\n",
       "      <th>873131</th>\n",
       "      <td>872</td>\n",
       "      <td>5</td>\n",
       "      <td>10198</td>\n",
       "      <td>0</td>\n",
       "      <td>0</td>\n",
       "      <td>3860.00</td>\n",
       "      <td>9</td>\n",
       "      <td>2014</td>\n",
       "      <td>1</td>\n",
       "      <td>23</td>\n",
       "      <td>2015</td>\n",
       "      <td>0</td>\n",
       "      <td>2013</td>\n",
       "      <td>5</td>\n",
       "      <td>10</td>\n",
       "      <td>19</td>\n",
       "      <td>-16</td>\n",
       "      <td>-108</td>\n",
       "    </tr>\n",
       "  </tbody>\n",
       "</table>\n",
       "</div>"
      ],
      "text/plain": [
       "        store  day_of_week  sales  promo  school_holiday  competition_distance  competition_open_since_month  competition_open_since_year  promo2  promo2_since_week  promo2_since_year  is_promo  year  month  day  week_of_year  competition_time_month  promo_time_week\n",
       "244576    860            2  12728      0               1               5980.00                             2                         2010       0                 52               2014         0  2014     12   23            52                      59                0\n",
       "144062    228            2   5897      0               0              10800.00                             3                         2015       1                 18               2011         0  2015      3   24            13                       0              204\n",
       "873131    872            5  10198      0               0               3860.00                             9                         2014       1                 23               2015         0  2013      5   10            19                     -16             -108"
      ]
     },
     "execution_count": 32,
     "metadata": {},
     "output_type": "execute_result"
    }
   ],
   "source": [
    "aux51 = df5.select_dtypes( include=['int64','float64'])\n",
    "aux51.sample(3)"
   ]
  },
  {
   "cell_type": "markdown",
   "id": "threaded-prospect",
   "metadata": {
    "hidden": true
   },
   "source": [
    "Features selected for **Rescaling**:\n",
    "   - competition distance\n",
    "   - year\n",
    "   - competition time month\n",
    "   - promo time week\n",
    "\n",
    "Features selected for **Transformation**:\n",
    "   - Month\n",
    "   - Day\n",
    "   - Week of year\n",
    "   - Day of week"
   ]
  },
  {
   "cell_type": "markdown",
   "id": "behind-natural",
   "metadata": {
    "heading_collapsed": true,
    "hidden": true
   },
   "source": [
    "## 5.2 Rescaling "
   ]
  },
  {
   "cell_type": "code",
   "execution_count": 33,
   "id": "accepted-championship",
   "metadata": {
    "ExecuteTime": {
     "end_time": "2021-05-01T00:09:05.782491Z",
     "start_time": "2021-05-01T00:09:05.071145Z"
    },
    "hidden": true,
    "hide_input": true
   },
   "outputs": [
    {
     "data": {
      "image/png": "[encoded data removed]",
      "text/plain": [
       "<Figure size 1440x720 with 4 Axes>"
      ]
     },
     "metadata": {},
     "output_type": "display_data"
    }
   ],
   "source": [
    "plt.subplot(2,2,1)\n",
    "sns.boxplot(df5['year']);\n",
    "\n",
    "plt.subplot(2,2,2)\n",
    "sns.boxplot(df5['competition_distance']);\n",
    "\n",
    "\n",
    "plt.subplot(2,2,3)\n",
    "sns.boxplot(df5['competition_time_month']);\n",
    "\n",
    "plt.subplot(2,2,4)\n",
    "sns.boxplot(df5['promo_time_week']);"
   ]
  },
  {
   "cell_type": "markdown",
   "id": "analyzed-renaissance",
   "metadata": {
    "hidden": true
   },
   "source": [
    "**Rosbust Scaler**:\n",
    "    \n",
    "   - Competition Distance\n",
    "   - Competition time month\n",
    "\n",
    "**Min Max Scaler**:\n",
    "   - promo time week\n",
    "   - year"
   ]
  },
  {
   "cell_type": "code",
   "execution_count": 34,
   "id": "sunset-account",
   "metadata": {
    "ExecuteTime": {
     "end_time": "2021-05-01T00:09:05.964412Z",
     "start_time": "2021-05-01T00:09:05.783610Z"
    },
    "hidden": true
   },
   "outputs": [],
   "source": [
    "#instantiate scalers\n",
    "rs = RobustScaler()\n",
    "mms = MinMaxScaler()\n",
    "\n",
    "#Competition Distance\n",
    "df5['competition_distance'] = rs.fit_transform( df5[['competition_distance']].values )\n",
    "pickle.dump( rs, open('parameter/competition_distance' , 'wb' )  )\n",
    "\n",
    "#Competition Time Month\n",
    "df5['competition_time_month'] = rs.fit_transform( df5[['competition_time_month']].values )\n",
    "\n",
    "pickle.dump( rs, open('parameter/competition_time_month' , 'wb' )  )\n",
    "\n",
    "#Promo Time Week\n",
    "df5['promo_time_week'] = mms.fit_transform( df5[['promo_time_week']].values )\n",
    "\n",
    "pickle.dump( mms, open('parameter/promo_time_week' , 'wb' )  )\n",
    "\n",
    "#Year\n",
    "df5['year'] = mms.fit_transform( df5[['year']].values )\n",
    "\n",
    "pickle.dump( mms, open('parameter/year_scaler' , 'wb' )  )"
   ]
  },
  {
   "cell_type": "markdown",
   "id": "modular-weather",
   "metadata": {
    "hidden": true
   },
   "source": [
    "## 5.3 Transformation"
   ]
  },
  {
   "cell_type": "markdown",
   "id": "certified-savings",
   "metadata": {
    "heading_collapsed": true,
    "hidden": true
   },
   "source": [
    "### 5.3.1 Encoding "
   ]
  },
  {
   "cell_type": "code",
   "execution_count": 35,
   "id": "secondary-office",
   "metadata": {
    "ExecuteTime": {
     "end_time": "2021-05-01T00:09:06.327583Z",
     "start_time": "2021-05-01T00:09:05.965391Z"
    },
    "hidden": true
   },
   "outputs": [],
   "source": [
    "#state_holiday - One Hot Encoding\n",
    "df5 = pd.get_dummies( df5, prefix=['state_holiday'], columns=['state_holiday'] )\n",
    "\n",
    "#store type - Label Encoding\n",
    "le = LabelEncoder()\n",
    "df5['store_type'] = le.fit_transform( df5['store_type'] )\n",
    "pickle.dump( le, open('parameter/store_type' , 'wb' )  )\n",
    "\n",
    "#assortment - Ordinal Encoding\n",
    "assort = {'basic': 1, 'extra':2 , 'extended':3 }\n",
    "df5['assortment'] = df5['assortment'].map( assort )\n",
    "\n"
   ]
  },
  {
   "cell_type": "markdown",
   "id": "supreme-relaxation",
   "metadata": {
    "heading_collapsed": true,
    "hidden": true
   },
   "source": [
    "### 5.3.2 Response Variable "
   ]
  },
  {
   "cell_type": "code",
   "execution_count": 37,
   "id": "hearing-favor",
   "metadata": {
    "ExecuteTime": {
     "end_time": "2021-05-01T00:09:06.359262Z",
     "start_time": "2021-05-01T00:09:06.346759Z"
    },
    "hidden": true
   },
   "outputs": [],
   "source": [
    "df5['sales'] = np.log1p( df5['sales'] )"
   ]
  },
  {
   "cell_type": "markdown",
   "id": "bridal-boston",
   "metadata": {
    "heading_collapsed": true,
    "hidden": true
   },
   "source": [
    "### 5.3.3 Nature Transformation "
   ]
  },
  {
   "cell_type": "code",
   "execution_count": 38,
   "id": "valued-fraction",
   "metadata": {
    "ExecuteTime": {
     "end_time": "2021-05-01T00:09:15.772254Z",
     "start_time": "2021-05-01T00:09:06.362139Z"
    },
    "hidden": true
   },
   "outputs": [],
   "source": [
    "#month\n",
    "df5['month_sin'] = df5['month'].apply( lambda x: np.sin( x *( 2. * np.pi/12 ) ) )\n",
    "df5['month_cos'] = df5['month'].apply( lambda x: np.cos( x *( 2. * np.pi/12 ) ) )\n",
    "\n",
    "\n",
    "#day\n",
    "df5['day_sin'] = df5['day'].apply( lambda x: np.sin( x *( 2. * np.pi/30 ) ) )\n",
    "df5['day_cos'] = df5['day'].apply( lambda x: np.cos( x *( 2. * np.pi/30 ) ) )\n",
    "\n",
    "#week of year'\n",
    "\n",
    "df5['week_of_year_sin'] = df5['week_of_year'].apply( lambda x: np.sin( x *( 2. * np.pi/52 ) ) )\n",
    "df5['week_of_year_cos'] = df5['week_of_year'].apply( lambda x: np.cos( x *( 2. * np.pi/52 ) ) )\n",
    "# day of week\n",
    "\n",
    "df5['day_of_week_sin'] = df5['day_of_week'].apply( lambda x: np.sin( x *( 2. * np.pi/7 ) ) )\n",
    "df5['day_of_week_cos'] = df5['day_of_week'].apply( lambda x: np.cos( x *( 2. * np.pi/7 ) ) )\n"
   ]
  },
  {
   "cell_type": "markdown",
   "id": "alternate-table",
   "metadata": {
    "ExecuteTime": {
     "end_time": "2021-04-09T21:44:01.503334Z",
     "start_time": "2021-04-09T21:44:01.484456Z"
    },
    "heading_collapsed": true
   },
   "source": [
    "# 6.0 Feature Selection "
   ]
  },
  {
   "cell_type": "markdown",
   "id": "gentle-silicon",
   "metadata": {
    "heading_collapsed": true,
    "hidden": true
   },
   "source": [
    "## 6.1 CheckPoint"
   ]
  },
  {
   "cell_type": "code",
   "execution_count": 91,
   "id": "pacific-portugal",
   "metadata": {
    "ExecuteTime": {
     "end_time": "2021-05-01T15:39:19.019609Z",
     "start_time": "2021-05-01T15:39:17.088995Z"
    },
    "hidden": true
   },
   "outputs": [],
   "source": [
    "#df5.to_csv('Data/df_checkpoint.csv')\n",
    "df6 = pd.read_csv('Data/df_checkpoint.csv')\n",
    "#df6 = df5.copy()\n",
    "\n",
    "df6['date'] = pd.to_datetime( df6['date'] )"
   ]
  },
  {
   "cell_type": "markdown",
   "id": "acting-requirement",
   "metadata": {
    "heading_collapsed": true,
    "hidden": true
   },
   "source": [
    "## 6.2 Split training and test "
   ]
  },
  {
   "cell_type": "code",
   "execution_count": 92,
   "id": "uniform-homework",
   "metadata": {
    "ExecuteTime": {
     "end_time": "2021-05-01T15:39:19.088915Z",
     "start_time": "2021-05-01T15:39:19.020637Z"
    },
    "hidden": true
   },
   "outputs": [],
   "source": [
    "cols_drop = ['week_of_year' , 'day' , 'month' , 'day_of_week' ,'promo_since' ,'competition_since', 'year_week']\n",
    "df6 = df6.drop( cols_drop ,axis=1)"
   ]
  },
  {
   "cell_type": "code",
   "execution_count": 93,
   "id": "automated-chapel",
   "metadata": {
    "ExecuteTime": {
     "end_time": "2021-05-01T15:39:19.178299Z",
     "start_time": "2021-05-01T15:39:19.090178Z"
    },
    "hidden": true
   },
   "outputs": [
    {
     "name": "stdout",
     "output_type": "stream",
     "text": [
      "Train min date 2013-01-01 00:00:00\n",
      "Train max date 2015-06-18 00:00:00\n",
      "\n",
      "test min date 2015-06-19 00:00:00\n",
      "test max date 2015-07-31 00:00:00\n"
     ]
    }
   ],
   "source": [
    "#train dataset\n",
    "x_train = df6[df6['date'] < '2015-06-19']\n",
    "y_train = x_train['sales']\n",
    "\n",
    "\n",
    "#train dataset\n",
    "X_test = df6[df6['date'] >= '2015-06-19']\n",
    "y_test = X_test['sales']\n",
    "\n",
    "print( 'Train min date {}'.format(  x_train['date'].min() ) )                                                          \n",
    "print( 'Train max date {}'.format(  x_train['date'].max() ) )\n",
    "\n",
    "print( '\\ntest min date {}'.format(  X_test['date'].min() ) )\n",
    "print( 'test max date {}'.format(  X_test['date'].max() ) )"
   ]
  },
  {
   "cell_type": "markdown",
   "id": "ethical-management",
   "metadata": {
    "heading_collapsed": true,
    "hidden": true
   },
   "source": [
    "## 6.2 Boruta as Feature Selector"
   ]
  },
  {
   "cell_type": "raw",
   "id": "respected-phenomenon",
   "metadata": {
    "ExecuteTime": {
     "end_time": "2021-04-12T22:51:00.803070Z",
     "start_time": "2021-04-12T22:50:57.295656Z"
    },
    "hidden": true
   },
   "source": [
    "#define random forest\n",
    "rf = RandomForestRegressor( n_estimators = 40 ,n_jobs=-1)\n",
    "\n",
    "#dataset for boruta\n",
    "x_train_boruta = x_train.drop( ['date','sales'], axis=1 ).values\n",
    "y_train_boruta = y_train.values.ravel()\n",
    "\n",
    "#boruta\n",
    "boruta = BorutaPy( rf, n_estimators=40 , verbose=2 , random_state= 33 ).fit(x_train_boruta, y_train_boruta )"
   ]
  },
  {
   "cell_type": "raw",
   "id": "disciplinary-george",
   "metadata": {
    "ExecuteTime": {
     "end_time": "2021-04-12T22:31:40.306823Z",
     "start_time": "2021-04-12T22:31:40.242392Z"
    },
    "hidden": true
   },
   "source": [
    "cols_boruta = boruta.support_.tolist()\n",
    "\n",
    "#best features\n",
    "x_train_fs = x_train.drop( ['date','sales'], axis=1 )\n",
    "cols_selected_boruta = x_train_fs.iloc[: , cols_boruta].columns.to_list()\n",
    "\n",
    "#features not selected\n",
    "cols_not_selec = list( np.setdiff1d( x_train_fs.columns, cols_selected_boruta ) )"
   ]
  },
  {
   "cell_type": "raw",
   "id": "twenty-hurricane",
   "metadata": {
    "ExecuteTime": {
     "end_time": "2021-04-12T22:32:29.326377Z",
     "start_time": "2021-04-12T22:32:29.322478Z"
    },
    "hidden": true
   },
   "source": [
    "cols_selected_boruta"
   ]
  },
  {
   "cell_type": "markdown",
   "id": "severe-flesh",
   "metadata": {
    "hidden": true
   },
   "source": [
    "## 6.3 Manual Feature Selection"
   ]
  },
  {
   "cell_type": "code",
   "execution_count": 94,
   "id": "dominican-morgan",
   "metadata": {
    "ExecuteTime": {
     "end_time": "2021-05-01T15:39:22.827638Z",
     "start_time": "2021-05-01T15:39:22.824966Z"
    },
    "hidden": true
   },
   "outputs": [],
   "source": [
    "cols = ['store',\n",
    "        'promo',\n",
    "        'store_type',\n",
    "        'assortment',\n",
    "        'competition_distance',\n",
    "        'competition_open_since_month',\n",
    "        'competition_open_since_year',\n",
    "        'promo2',\n",
    "        'promo2_since_week',\n",
    "        'promo2_since_year',\n",
    "        'competition_time_month',\n",
    "        'promo_time_week',\n",
    "        'month_cos',\n",
    "        'day_sin',\n",
    "        'day_cos',\n",
    "        'week_of_year_cos',\n",
    "        'day_of_week_sin',\n",
    "        'day_of_week_cos']\n",
    "\n",
    "#features removed on cycle 2 = year\n",
    "#columns to add\n",
    "feat = ['date','sales']\n",
    "cols_full = cols.copy()\n",
    "cols_full.extend( feat )\n"
   ]
  },
  {
   "cell_type": "markdown",
   "id": "speaking-judge",
   "metadata": {
    "heading_collapsed": true
   },
   "source": [
    "# 7.0 Machine Learning"
   ]
  },
  {
   "cell_type": "code",
   "execution_count": 95,
   "id": "announced-barcelona",
   "metadata": {
    "ExecuteTime": {
     "end_time": "2021-05-01T15:39:23.626496Z",
     "start_time": "2021-05-01T15:39:23.545135Z"
    },
    "hidden": true
   },
   "outputs": [],
   "source": [
    "#data set cross validation\n",
    "x_training = x_train[cols_full ]\n",
    "\n",
    "#dataset\n",
    "x_train = x_train[ cols ]\n",
    "x_test = X_test[cols]\n"
   ]
  },
  {
   "cell_type": "markdown",
   "id": "dietary-method",
   "metadata": {
    "hidden": true
   },
   "source": [
    "## 7.1 Base Line - Average Model"
   ]
  },
  {
   "cell_type": "code",
   "execution_count": 96,
   "id": "great-antique",
   "metadata": {
    "ExecuteTime": {
     "end_time": "2021-05-01T15:39:25.182700Z",
     "start_time": "2021-05-01T15:39:25.145919Z"
    },
    "hidden": true
   },
   "outputs": [
    {
     "data": {
      "text/html": [
       "<div>\n",
       "<style scoped>\n",
       "    .dataframe tbody tr th:only-of-type {\n",
       "        vertical-align: middle;\n",
       "    }\n",
       "\n",
       "    .dataframe tbody tr th {\n",
       "        vertical-align: top;\n",
       "    }\n",
       "\n",
       "    .dataframe thead th {\n",
       "        text-align: right;\n",
       "    }\n",
       "</style>\n",
       "<table border=\"1\" class=\"dataframe\">\n",
       "  <thead>\n",
       "    <tr style=\"text-align: right;\">\n",
       "      <th></th>\n",
       "      <th>Model Name</th>\n",
       "      <th>MAE</th>\n",
       "      <th>MAPE</th>\n",
       "      <th>RMSE</th>\n",
       "      <th>MPE</th>\n",
       "    </tr>\n",
       "  </thead>\n",
       "  <tbody>\n",
       "    <tr>\n",
       "      <th>0</th>\n",
       "      <td>Average Model</td>\n",
       "      <td>1354.80</td>\n",
       "      <td>0.21</td>\n",
       "      <td>1835.14</td>\n",
       "      <td>-0.03</td>\n",
       "    </tr>\n",
       "  </tbody>\n",
       "</table>\n",
       "</div>"
      ],
      "text/plain": [
       "      Model Name     MAE  MAPE    RMSE   MPE\n",
       "0  Average Model 1354.80  0.21 1835.14 -0.03"
      ]
     },
     "execution_count": 96,
     "metadata": {},
     "output_type": "execute_result"
    }
   ],
   "source": [
    "aux1 = x_test.copy()\n",
    "aux1['sales'] = y_test.copy()\n",
    "\n",
    "#prediction\n",
    "aux2 = aux1[['store','sales']].groupby( 'store' ).mean().reset_index().rename( columns={ 'sales': 'predictions'} )\n",
    "aux1 = pd.merge( aux1 , aux2 ,  how='left', on='store')\n",
    "yhat_baseline = aux1['predictions']\n",
    "\n",
    "#perfomance\n",
    "baseline_result = ml_error( 'Average Model', np.expm1( y_test ), np.expm1( yhat_baseline ) )\n",
    "baseline_result\n"
   ]
  },
  {
   "cell_type": "markdown",
   "id": "adopted-orleans",
   "metadata": {
    "heading_collapsed": true,
    "hidden": true
   },
   "source": [
    "## 7.2 Machine Learning Models "
   ]
  },
  {
   "cell_type": "code",
   "execution_count": 48,
   "id": "following-judge",
   "metadata": {
    "ExecuteTime": {
     "end_time": "2021-04-30T13:59:55.377161Z",
     "start_time": "2021-04-30T13:51:22.847067Z"
    },
    "hidden": true
   },
   "outputs": [
    {
     "name": "stdout",
     "output_type": "stream",
     "text": [
      "Training LinearRegression ...\n",
      "Training Lasso ...\n",
      "Training RandomForestRegressor ...\n",
      "Training KNeighborsRegressor ...\n",
      "Training CatBoostRegressor ...\n"
     ]
    }
   ],
   "source": [
    "#define models\n",
    "lr  = LinearRegression( )\n",
    "lrr = Lasso( alpha=0.01 )\n",
    "rf  = RandomForestRegressor( n_estimators = 20, n_jobs=-1, random_state = 42) \n",
    "knr = KNeighborsRegressor( n_neighbors = 2)\n",
    "cat = CatBoostRegressor(verbose=False)\n",
    "\n",
    "models= [lr , lrr, rf ,  knr,  cat]\n",
    "#prediction\n",
    "df_performance , yhat = get_model_performance(models, x_train, y_train, x_test, y_test )\n",
    "df_performance = pd.concat([df_performance ,  baseline_result ]).reset_index().drop( 'index', axis=1)\n",
    "\n",
    "\n",
    "\n"
   ]
  },
  {
   "cell_type": "markdown",
   "id": "stainless-reflection",
   "metadata": {
    "heading_collapsed": true,
    "hidden": true
   },
   "source": [
    "## 7.3 Compare Model's Performance "
   ]
  },
  {
   "cell_type": "code",
   "execution_count": 49,
   "id": "colored-discussion",
   "metadata": {
    "ExecuteTime": {
     "end_time": "2021-04-30T13:59:55.436068Z",
     "start_time": "2021-04-30T13:59:55.378182Z"
    },
    "hidden": true,
    "hide_input": false
   },
   "outputs": [
    {
     "data": {
      "text/html": [
       "<style  type=\"text/css\" >\n",
       "#T_a9169_row0_col4,#T_a9169_row2_col1,#T_a9169_row2_col2,#T_a9169_row2_col3{\n",
       "            background-color:  yellow;\n",
       "        }</style><table id=\"T_a9169_\" ><thead>    <tr>        <th class=\"blank level0\" ></th>        <th class=\"col_heading level0 col0\" >Model Name</th>        <th class=\"col_heading level0 col1\" >MAE</th>        <th class=\"col_heading level0 col2\" >MAPE</th>        <th class=\"col_heading level0 col3\" >RMSE</th>        <th class=\"col_heading level0 col4\" >MPE</th>    </tr></thead><tbody>\n",
       "                <tr>\n",
       "                        <th id=\"T_a9169_level0_row0\" class=\"row_heading level0 row0\" >0</th>\n",
       "                        <td id=\"T_a9169_row0_col0\" class=\"data row0 col0\" >LinearRegression</td>\n",
       "                        <td id=\"T_a9169_row0_col1\" class=\"data row0 col1\" >1869.920000</td>\n",
       "                        <td id=\"T_a9169_row0_col2\" class=\"data row0 col2\" >0.300000</td>\n",
       "                        <td id=\"T_a9169_row0_col3\" class=\"data row0 col3\" >2667.520000</td>\n",
       "                        <td id=\"T_a9169_row0_col4\" class=\"data row0 col4\" >-0.090000</td>\n",
       "            </tr>\n",
       "            <tr>\n",
       "                        <th id=\"T_a9169_level0_row1\" class=\"row_heading level0 row1\" >1</th>\n",
       "                        <td id=\"T_a9169_row1_col0\" class=\"data row1 col0\" >Lasso</td>\n",
       "                        <td id=\"T_a9169_row1_col1\" class=\"data row1 col1\" >1891.190000</td>\n",
       "                        <td id=\"T_a9169_row1_col2\" class=\"data row1 col2\" >0.290000</td>\n",
       "                        <td id=\"T_a9169_row1_col3\" class=\"data row1 col3\" >2741.000000</td>\n",
       "                        <td id=\"T_a9169_row1_col4\" class=\"data row1 col4\" >-0.060000</td>\n",
       "            </tr>\n",
       "            <tr>\n",
       "                        <th id=\"T_a9169_level0_row2\" class=\"row_heading level0 row2\" >2</th>\n",
       "                        <td id=\"T_a9169_row2_col0\" class=\"data row2 col0\" >RandomForestRegressor</td>\n",
       "                        <td id=\"T_a9169_row2_col1\" class=\"data row2 col1\" >740.770000</td>\n",
       "                        <td id=\"T_a9169_row2_col2\" class=\"data row2 col2\" >0.110000</td>\n",
       "                        <td id=\"T_a9169_row2_col3\" class=\"data row2 col3\" >1089.200000</td>\n",
       "                        <td id=\"T_a9169_row2_col4\" class=\"data row2 col4\" >-0.040000</td>\n",
       "            </tr>\n",
       "            <tr>\n",
       "                        <th id=\"T_a9169_level0_row3\" class=\"row_heading level0 row3\" >3</th>\n",
       "                        <td id=\"T_a9169_row3_col0\" class=\"data row3 col0\" >KNeighborsRegressor</td>\n",
       "                        <td id=\"T_a9169_row3_col1\" class=\"data row3 col1\" >771.780000</td>\n",
       "                        <td id=\"T_a9169_row3_col2\" class=\"data row3 col2\" >0.120000</td>\n",
       "                        <td id=\"T_a9169_row3_col3\" class=\"data row3 col3\" >1134.570000</td>\n",
       "                        <td id=\"T_a9169_row3_col4\" class=\"data row3 col4\" >-0.010000</td>\n",
       "            </tr>\n",
       "            <tr>\n",
       "                        <th id=\"T_a9169_level0_row4\" class=\"row_heading level0 row4\" >4</th>\n",
       "                        <td id=\"T_a9169_row4_col0\" class=\"data row4 col0\" >CatBoostRegressor</td>\n",
       "                        <td id=\"T_a9169_row4_col1\" class=\"data row4 col1\" >818.130000</td>\n",
       "                        <td id=\"T_a9169_row4_col2\" class=\"data row4 col2\" >0.120000</td>\n",
       "                        <td id=\"T_a9169_row4_col3\" class=\"data row4 col3\" >1162.030000</td>\n",
       "                        <td id=\"T_a9169_row4_col4\" class=\"data row4 col4\" >-0.030000</td>\n",
       "            </tr>\n",
       "            <tr>\n",
       "                        <th id=\"T_a9169_level0_row5\" class=\"row_heading level0 row5\" >5</th>\n",
       "                        <td id=\"T_a9169_row5_col0\" class=\"data row5 col0\" >Average Model</td>\n",
       "                        <td id=\"T_a9169_row5_col1\" class=\"data row5 col1\" >1354.800000</td>\n",
       "                        <td id=\"T_a9169_row5_col2\" class=\"data row5 col2\" >0.210000</td>\n",
       "                        <td id=\"T_a9169_row5_col3\" class=\"data row5 col3\" >1835.140000</td>\n",
       "                        <td id=\"T_a9169_row5_col4\" class=\"data row5 col4\" >-0.030000</td>\n",
       "            </tr>\n",
       "    </tbody></table>"
      ],
      "text/plain": [
       "<pandas.io.formats.style.Styler at 0x7f7dacf93820>"
      ]
     },
     "execution_count": 49,
     "metadata": {},
     "output_type": "execute_result"
    }
   ],
   "source": [
    "df_performance.style.highlight_min(color='yellow')"
   ]
  },
  {
   "cell_type": "markdown",
   "id": "middle-diesel",
   "metadata": {
    "heading_collapsed": true,
    "hidden": true
   },
   "source": [
    "## 7.4 Cross Validation "
   ]
  },
  {
   "cell_type": "code",
   "execution_count": 50,
   "id": "coastal-angel",
   "metadata": {
    "ExecuteTime": {
     "end_time": "2021-04-30T14:37:59.281648Z",
     "start_time": "2021-04-30T13:59:55.437308Z"
    },
    "hidden": true
   },
   "outputs": [
    {
     "name": "stdout",
     "output_type": "stream",
     "text": [
      "Training... LinearRegression...\n",
      "Iteration 5\n",
      "Iteration 4\n",
      "Iteration 3\n",
      "Iteration 2\n",
      "Iteration 1\n",
      "Training... Lasso...\n",
      "Iteration 5\n",
      "Iteration 4\n",
      "Iteration 3\n",
      "Iteration 2\n",
      "Iteration 1\n",
      "Training... RandomForestRegressor...\n",
      "Iteration 5\n",
      "Iteration 4\n",
      "Iteration 3\n",
      "Iteration 2\n",
      "Iteration 1\n",
      "Training... KNeighborsRegressor...\n",
      "Iteration 5\n",
      "Iteration 4\n",
      "Iteration 3\n",
      "Iteration 2\n",
      "Iteration 1\n",
      "Training... CatBoostRegressor...\n",
      "Iteration 5\n",
      "Iteration 4\n",
      "Iteration 3\n",
      "Iteration 2\n",
      "Iteration 1\n"
     ]
    }
   ],
   "source": [
    "#models\n",
    "\n",
    "models = [ lr ,lrr, rf , knr, cat ]\n",
    "#prediction\n",
    "df = models_cross_validation(models, x_training  )"
   ]
  },
  {
   "cell_type": "markdown",
   "id": "portuguese-montreal",
   "metadata": {
    "heading_collapsed": true,
    "hidden": true
   },
   "source": [
    "## 7.5 Cross Validation Performance"
   ]
  },
  {
   "cell_type": "code",
   "execution_count": 51,
   "id": "exempt-yugoslavia",
   "metadata": {
    "ExecuteTime": {
     "end_time": "2021-04-30T14:37:59.299551Z",
     "start_time": "2021-04-30T14:37:59.282637Z"
    },
    "hidden": true,
    "hide_input": false
   },
   "outputs": [
    {
     "data": {
      "text/html": [
       "<div>\n",
       "<style scoped>\n",
       "    .dataframe tbody tr th:only-of-type {\n",
       "        vertical-align: middle;\n",
       "    }\n",
       "\n",
       "    .dataframe tbody tr th {\n",
       "        vertical-align: top;\n",
       "    }\n",
       "\n",
       "    .dataframe thead th {\n",
       "        text-align: right;\n",
       "    }\n",
       "</style>\n",
       "<table border=\"1\" class=\"dataframe\">\n",
       "  <thead>\n",
       "    <tr style=\"text-align: right;\">\n",
       "      <th></th>\n",
       "      <th>Model Name</th>\n",
       "      <th>MAE</th>\n",
       "      <th>MAPE</th>\n",
       "      <th>RMSE</th>\n",
       "      <th>MPE</th>\n",
       "    </tr>\n",
       "  </thead>\n",
       "  <tbody>\n",
       "    <tr>\n",
       "      <th>0</th>\n",
       "      <td>LinearRegression  KFold: 5</td>\n",
       "      <td>2654.81</td>\n",
       "      <td>0.31</td>\n",
       "      <td>3834.19</td>\n",
       "      <td>0.05</td>\n",
       "    </tr>\n",
       "    <tr>\n",
       "      <th>1</th>\n",
       "      <td>LinearRegression  KFold: 4</td>\n",
       "      <td>1884.43</td>\n",
       "      <td>0.32</td>\n",
       "      <td>2565.78</td>\n",
       "      <td>-0.16</td>\n",
       "    </tr>\n",
       "    <tr>\n",
       "      <th>2</th>\n",
       "      <td>LinearRegression  KFold: 3</td>\n",
       "      <td>1795.06</td>\n",
       "      <td>0.3</td>\n",
       "      <td>2532.21</td>\n",
       "      <td>-0.09</td>\n",
       "    </tr>\n",
       "    <tr>\n",
       "      <th>3</th>\n",
       "      <td>LinearRegression  KFold: 2</td>\n",
       "      <td>2078.7</td>\n",
       "      <td>0.28</td>\n",
       "      <td>3027.31</td>\n",
       "      <td>-0.02</td>\n",
       "    </tr>\n",
       "    <tr>\n",
       "      <th>4</th>\n",
       "      <td>LinearRegression  KFold: 1</td>\n",
       "      <td>1983.42</td>\n",
       "      <td>0.28</td>\n",
       "      <td>2845.85</td>\n",
       "      <td>-0.03</td>\n",
       "    </tr>\n",
       "    <tr>\n",
       "      <th>5</th>\n",
       "      <td>LinearRegression - Cross-Validation</td>\n",
       "      <td>2079.28 +/- 303.04</td>\n",
       "      <td>0.3 +/- 0.02</td>\n",
       "      <td>2961.07 +/- 473.32</td>\n",
       "      <td>-0.05 +/- 0.07</td>\n",
       "    </tr>\n",
       "    <tr>\n",
       "      <th>6</th>\n",
       "      <td>Lasso  KFold: 5</td>\n",
       "      <td>2752.8</td>\n",
       "      <td>0.31</td>\n",
       "      <td>3978.23</td>\n",
       "      <td>0.08</td>\n",
       "    </tr>\n",
       "    <tr>\n",
       "      <th>7</th>\n",
       "      <td>Lasso  KFold: 4</td>\n",
       "      <td>1846.35</td>\n",
       "      <td>0.29</td>\n",
       "      <td>2631.48</td>\n",
       "      <td>-0.07</td>\n",
       "    </tr>\n",
       "    <tr>\n",
       "      <th>8</th>\n",
       "      <td>Lasso  KFold: 3</td>\n",
       "      <td>1808.66</td>\n",
       "      <td>0.29</td>\n",
       "      <td>2596.6</td>\n",
       "      <td>-0.05</td>\n",
       "    </tr>\n",
       "    <tr>\n",
       "      <th>9</th>\n",
       "      <td>Lasso  KFold: 2</td>\n",
       "      <td>2162.07</td>\n",
       "      <td>0.28</td>\n",
       "      <td>3170.67</td>\n",
       "      <td>0.01</td>\n",
       "    </tr>\n",
       "    <tr>\n",
       "      <th>10</th>\n",
       "      <td>Lasso  KFold: 1</td>\n",
       "      <td>2015.04</td>\n",
       "      <td>0.28</td>\n",
       "      <td>2920.08</td>\n",
       "      <td>-0.0</td>\n",
       "    </tr>\n",
       "    <tr>\n",
       "      <th>11</th>\n",
       "      <td>Lasso - Cross-Validation</td>\n",
       "      <td>2116.98 +/- 342.05</td>\n",
       "      <td>0.29 +/- 0.01</td>\n",
       "      <td>3059.41 +/- 504.65</td>\n",
       "      <td>-0.01 +/- 0.05</td>\n",
       "    </tr>\n",
       "    <tr>\n",
       "      <th>12</th>\n",
       "      <td>RandomForestRegressor  KFold: 5</td>\n",
       "      <td>1231.52</td>\n",
       "      <td>0.15</td>\n",
       "      <td>1819.59</td>\n",
       "      <td>0.01</td>\n",
       "    </tr>\n",
       "    <tr>\n",
       "      <th>13</th>\n",
       "      <td>RandomForestRegressor  KFold: 4</td>\n",
       "      <td>929.13</td>\n",
       "      <td>0.14</td>\n",
       "      <td>1414.86</td>\n",
       "      <td>-0.05</td>\n",
       "    </tr>\n",
       "    <tr>\n",
       "      <th>14</th>\n",
       "      <td>RandomForestRegressor  KFold: 3</td>\n",
       "      <td>560.33</td>\n",
       "      <td>0.09</td>\n",
       "      <td>856.73</td>\n",
       "      <td>0.02</td>\n",
       "    </tr>\n",
       "    <tr>\n",
       "      <th>15</th>\n",
       "      <td>RandomForestRegressor  KFold: 2</td>\n",
       "      <td>864.96</td>\n",
       "      <td>0.11</td>\n",
       "      <td>1316.27</td>\n",
       "      <td>0.03</td>\n",
       "    </tr>\n",
       "    <tr>\n",
       "      <th>16</th>\n",
       "      <td>RandomForestRegressor  KFold: 1</td>\n",
       "      <td>714.7</td>\n",
       "      <td>0.1</td>\n",
       "      <td>1028.37</td>\n",
       "      <td>0.02</td>\n",
       "    </tr>\n",
       "    <tr>\n",
       "      <th>17</th>\n",
       "      <td>RandomForestRegressor - Cross-Validation</td>\n",
       "      <td>860.13 +/- 225.28</td>\n",
       "      <td>0.12 +/- 0.02</td>\n",
       "      <td>1287.16 +/- 332.53</td>\n",
       "      <td>0.01 +/- 0.03</td>\n",
       "    </tr>\n",
       "    <tr>\n",
       "      <th>18</th>\n",
       "      <td>KNeighborsRegressor  KFold: 5</td>\n",
       "      <td>1455.18</td>\n",
       "      <td>0.19</td>\n",
       "      <td>2023.89</td>\n",
       "      <td>0.03</td>\n",
       "    </tr>\n",
       "    <tr>\n",
       "      <th>19</th>\n",
       "      <td>KNeighborsRegressor  KFold: 4</td>\n",
       "      <td>1216.74</td>\n",
       "      <td>0.19</td>\n",
       "      <td>1673.02</td>\n",
       "      <td>-0.04</td>\n",
       "    </tr>\n",
       "    <tr>\n",
       "      <th>20</th>\n",
       "      <td>KNeighborsRegressor  KFold: 3</td>\n",
       "      <td>741.54</td>\n",
       "      <td>0.12</td>\n",
       "      <td>1095.38</td>\n",
       "      <td>0.01</td>\n",
       "    </tr>\n",
       "    <tr>\n",
       "      <th>21</th>\n",
       "      <td>KNeighborsRegressor  KFold: 2</td>\n",
       "      <td>1051.21</td>\n",
       "      <td>0.14</td>\n",
       "      <td>1522.98</td>\n",
       "      <td>0.01</td>\n",
       "    </tr>\n",
       "    <tr>\n",
       "      <th>22</th>\n",
       "      <td>KNeighborsRegressor  KFold: 1</td>\n",
       "      <td>914.74</td>\n",
       "      <td>0.13</td>\n",
       "      <td>1294.19</td>\n",
       "      <td>0.01</td>\n",
       "    </tr>\n",
       "    <tr>\n",
       "      <th>23</th>\n",
       "      <td>KNeighborsRegressor - Cross-Validation</td>\n",
       "      <td>1075.88 +/- 245.79</td>\n",
       "      <td>0.15 +/- 0.03</td>\n",
       "      <td>1521.89 +/- 318.94</td>\n",
       "      <td>0.0 +/- 0.02</td>\n",
       "    </tr>\n",
       "    <tr>\n",
       "      <th>24</th>\n",
       "      <td>CatBoostRegressor  KFold: 5</td>\n",
       "      <td>1241.19</td>\n",
       "      <td>0.15</td>\n",
       "      <td>1839.15</td>\n",
       "      <td>0.01</td>\n",
       "    </tr>\n",
       "    <tr>\n",
       "      <th>25</th>\n",
       "      <td>CatBoostRegressor  KFold: 4</td>\n",
       "      <td>966.32</td>\n",
       "      <td>0.14</td>\n",
       "      <td>1398.51</td>\n",
       "      <td>0.02</td>\n",
       "    </tr>\n",
       "    <tr>\n",
       "      <th>26</th>\n",
       "      <td>CatBoostRegressor  KFold: 3</td>\n",
       "      <td>805.86</td>\n",
       "      <td>0.12</td>\n",
       "      <td>1167.72</td>\n",
       "      <td>0.02</td>\n",
       "    </tr>\n",
       "    <tr>\n",
       "      <th>27</th>\n",
       "      <td>CatBoostRegressor  KFold: 2</td>\n",
       "      <td>1074.27</td>\n",
       "      <td>0.14</td>\n",
       "      <td>1569.27</td>\n",
       "      <td>0.01</td>\n",
       "    </tr>\n",
       "    <tr>\n",
       "      <th>28</th>\n",
       "      <td>CatBoostRegressor  KFold: 1</td>\n",
       "      <td>874.89</td>\n",
       "      <td>0.12</td>\n",
       "      <td>1235.31</td>\n",
       "      <td>0.01</td>\n",
       "    </tr>\n",
       "    <tr>\n",
       "      <th>29</th>\n",
       "      <td>CatBoostRegressor - Cross-Validation</td>\n",
       "      <td>992.51 +/- 153.55</td>\n",
       "      <td>0.13 +/- 0.01</td>\n",
       "      <td>1441.99 +/- 242.39</td>\n",
       "      <td>0.01 +/- 0.0</td>\n",
       "    </tr>\n",
       "  </tbody>\n",
       "</table>\n",
       "</div>"
      ],
      "text/plain": [
       "                                   Model Name                 MAE           MAPE                RMSE             MPE\n",
       "0                  LinearRegression  KFold: 5             2654.81           0.31             3834.19            0.05\n",
       "1                  LinearRegression  KFold: 4             1884.43           0.32             2565.78           -0.16\n",
       "2                  LinearRegression  KFold: 3             1795.06            0.3             2532.21           -0.09\n",
       "3                  LinearRegression  KFold: 2              2078.7           0.28             3027.31           -0.02\n",
       "4                  LinearRegression  KFold: 1             1983.42           0.28             2845.85           -0.03\n",
       "5        LinearRegression - Cross-Validation   2079.28 +/- 303.04   0.3 +/- 0.02  2961.07 +/- 473.32  -0.05 +/- 0.07\n",
       "6                             Lasso  KFold: 5              2752.8           0.31             3978.23            0.08\n",
       "7                             Lasso  KFold: 4             1846.35           0.29             2631.48           -0.07\n",
       "8                             Lasso  KFold: 3             1808.66           0.29              2596.6           -0.05\n",
       "9                             Lasso  KFold: 2             2162.07           0.28             3170.67            0.01\n",
       "10                            Lasso  KFold: 1             2015.04           0.28             2920.08            -0.0\n",
       "11                  Lasso - Cross-Validation   2116.98 +/- 342.05  0.29 +/- 0.01  3059.41 +/- 504.65  -0.01 +/- 0.05\n",
       "12            RandomForestRegressor  KFold: 5             1231.52           0.15             1819.59            0.01\n",
       "13            RandomForestRegressor  KFold: 4              929.13           0.14             1414.86           -0.05\n",
       "14            RandomForestRegressor  KFold: 3              560.33           0.09              856.73            0.02\n",
       "15            RandomForestRegressor  KFold: 2              864.96           0.11             1316.27            0.03\n",
       "16            RandomForestRegressor  KFold: 1               714.7            0.1             1028.37            0.02\n",
       "17  RandomForestRegressor - Cross-Validation    860.13 +/- 225.28  0.12 +/- 0.02  1287.16 +/- 332.53   0.01 +/- 0.03\n",
       "18              KNeighborsRegressor  KFold: 5             1455.18           0.19             2023.89            0.03\n",
       "19              KNeighborsRegressor  KFold: 4             1216.74           0.19             1673.02           -0.04\n",
       "20              KNeighborsRegressor  KFold: 3              741.54           0.12             1095.38            0.01\n",
       "21              KNeighborsRegressor  KFold: 2             1051.21           0.14             1522.98            0.01\n",
       "22              KNeighborsRegressor  KFold: 1              914.74           0.13             1294.19            0.01\n",
       "23    KNeighborsRegressor - Cross-Validation   1075.88 +/- 245.79  0.15 +/- 0.03  1521.89 +/- 318.94    0.0 +/- 0.02\n",
       "24                CatBoostRegressor  KFold: 5             1241.19           0.15             1839.15            0.01\n",
       "25                CatBoostRegressor  KFold: 4              966.32           0.14             1398.51            0.02\n",
       "26                CatBoostRegressor  KFold: 3              805.86           0.12             1167.72            0.02\n",
       "27                CatBoostRegressor  KFold: 2             1074.27           0.14             1569.27            0.01\n",
       "28                CatBoostRegressor  KFold: 1              874.89           0.12             1235.31            0.01\n",
       "29      CatBoostRegressor - Cross-Validation    992.51 +/- 153.55  0.13 +/- 0.01  1441.99 +/- 242.39    0.01 +/- 0.0"
      ]
     },
     "execution_count": 51,
     "metadata": {},
     "output_type": "execute_result"
    }
   ],
   "source": [
    "df"
   ]
  },
  {
   "cell_type": "markdown",
   "id": "logical-bryan",
   "metadata": {
    "hidden": true
   },
   "source": [
    "As observed, **Random Forest Regressor** has lower **RMSE**, but for the sake of computational effort we will proceed with **CatBoostRegressor**"
   ]
  },
  {
   "cell_type": "markdown",
   "id": "taken-cosmetic",
   "metadata": {
    "heading_collapsed": true
   },
   "source": [
    "# 8.0 Hyperparameter Fine Tuning"
   ]
  },
  {
   "cell_type": "markdown",
   "id": "double-woman",
   "metadata": {
    "heading_collapsed": true,
    "hidden": true
   },
   "source": [
    "## 8.1 Random Search "
   ]
  },
  {
   "cell_type": "raw",
   "id": "periodic-customs",
   "metadata": {
    "ExecuteTime": {
     "end_time": "2021-04-30T16:26:58.941124Z",
     "start_time": "2021-04-30T16:26:58.936363Z"
    },
    "hidden": true
   },
   "source": [
    "\n",
    "iterations = [ 1000, 1500, 2000, 2500, 3000, 3500 , 4000 ]\n",
    "\n",
    "\n",
    "depth = [2, 4 ,6 ,8 ]\n",
    "\n",
    "learning_rate = [0.03, 0.06 , 0.1 ]\n",
    "\n",
    "rsm = [0.1, 0.3 , 0.5, 0.7 ,0.9 ]\n",
    "\n",
    "l2_leaf_reg = [ 1, 3, 5, 7 ]\n",
    "\n",
    "\n",
    "grid = {\n",
    "        'depth': depth,\n",
    "        'iterations' : iterations,\n",
    "        'learning_rate': learning_rate,\n",
    "        'rsm': rsm,\n",
    "        'l2_leaf_reg': l2_leaf_reg\n",
    "}\n",
    "\n"
   ]
  },
  {
   "cell_type": "raw",
   "id": "false-windsor",
   "metadata": {
    "ExecuteTime": {
     "end_time": "2021-04-30T18:00:39.320468Z",
     "start_time": "2021-04-30T16:27:14.847929Z"
    },
    "hidden": true
   },
   "source": [
    "#define model\n",
    "cat = CatBoostRegressor()\n",
    "\n",
    "cat.randomized_search( grid,\n",
    "                       X=x_train,\n",
    "                       y=y_train,\n",
    "                       plot = True)"
   ]
  },
  {
   "cell_type": "code",
   "execution_count": 15,
   "id": "wrong-bridal",
   "metadata": {
    "ExecuteTime": {
     "end_time": "2021-05-01T12:42:06.588895Z",
     "start_time": "2021-05-01T12:42:06.585787Z"
    },
    "hidden": true
   },
   "outputs": [],
   "source": [
    "grid_tuned = {\n",
    "              'depth': 8,\n",
    "              'iterations' : 3500,\n",
    "              'learning_rate': 0.1,\n",
    "              'rsm': 0.3,\n",
    "              'l2_leaf_reg': 3\n",
    "}\n"
   ]
  },
  {
   "cell_type": "markdown",
   "id": "wrong-indonesian",
   "metadata": {
    "hidden": true
   },
   "source": [
    "## 8.2 Final Model "
   ]
  },
  {
   "cell_type": "code",
   "execution_count": 101,
   "id": "outdoor-flash",
   "metadata": {
    "ExecuteTime": {
     "end_time": "2021-05-01T16:26:08.233014Z",
     "start_time": "2021-05-01T15:42:05.214729Z"
    },
    "hidden": true
   },
   "outputs": [
    {
     "name": "stdout",
     "output_type": "stream",
     "text": [
      "Training... CatBoostRegressor...\n",
      "Iteration 5\n",
      "Iteration 4\n",
      "Iteration 3\n",
      "Iteration 2\n",
      "Iteration 1\n"
     ]
    },
    {
     "data": {
      "text/html": [
       "<div>\n",
       "<style scoped>\n",
       "    .dataframe tbody tr th:only-of-type {\n",
       "        vertical-align: middle;\n",
       "    }\n",
       "\n",
       "    .dataframe tbody tr th {\n",
       "        vertical-align: top;\n",
       "    }\n",
       "\n",
       "    .dataframe thead th {\n",
       "        text-align: right;\n",
       "    }\n",
       "</style>\n",
       "<table border=\"1\" class=\"dataframe\">\n",
       "  <thead>\n",
       "    <tr style=\"text-align: right;\">\n",
       "      <th></th>\n",
       "      <th>Model Name</th>\n",
       "      <th>MAE</th>\n",
       "      <th>MAPE</th>\n",
       "      <th>RMSE</th>\n",
       "      <th>MPE</th>\n",
       "    </tr>\n",
       "  </thead>\n",
       "  <tbody>\n",
       "    <tr>\n",
       "      <th>0</th>\n",
       "      <td>CatBoostRegressor  KFold: 5</td>\n",
       "      <td>1072.22</td>\n",
       "      <td>0.14</td>\n",
       "      <td>1676.49</td>\n",
       "      <td>0.02</td>\n",
       "    </tr>\n",
       "    <tr>\n",
       "      <th>1</th>\n",
       "      <td>CatBoostRegressor  KFold: 4</td>\n",
       "      <td>829.88</td>\n",
       "      <td>0.12</td>\n",
       "      <td>1193.91</td>\n",
       "      <td>0.01</td>\n",
       "    </tr>\n",
       "    <tr>\n",
       "      <th>2</th>\n",
       "      <td>CatBoostRegressor  KFold: 3</td>\n",
       "      <td>664.35</td>\n",
       "      <td>0.1</td>\n",
       "      <td>963.24</td>\n",
       "      <td>0.04</td>\n",
       "    </tr>\n",
       "    <tr>\n",
       "      <th>3</th>\n",
       "      <td>CatBoostRegressor  KFold: 2</td>\n",
       "      <td>951.45</td>\n",
       "      <td>0.12</td>\n",
       "      <td>1383.2</td>\n",
       "      <td>0.01</td>\n",
       "    </tr>\n",
       "    <tr>\n",
       "      <th>4</th>\n",
       "      <td>CatBoostRegressor  KFold: 1</td>\n",
       "      <td>751.31</td>\n",
       "      <td>0.11</td>\n",
       "      <td>1053.05</td>\n",
       "      <td>0.02</td>\n",
       "    </tr>\n",
       "    <tr>\n",
       "      <th>5</th>\n",
       "      <td>CatBoostRegressor - Cross-Validation</td>\n",
       "      <td>853.84 +/- 144.37</td>\n",
       "      <td>0.12 +/- 0.01</td>\n",
       "      <td>1253.98 +/- 254.45</td>\n",
       "      <td>0.02 +/- 0.01</td>\n",
       "    </tr>\n",
       "  </tbody>\n",
       "</table>\n",
       "</div>"
      ],
      "text/plain": [
       "                              Model Name                MAE           MAPE                RMSE            MPE\n",
       "0            CatBoostRegressor  KFold: 5            1072.22           0.14             1676.49           0.02\n",
       "1            CatBoostRegressor  KFold: 4             829.88           0.12             1193.91           0.01\n",
       "2            CatBoostRegressor  KFold: 3             664.35            0.1              963.24           0.04\n",
       "3            CatBoostRegressor  KFold: 2             951.45           0.12              1383.2           0.01\n",
       "4            CatBoostRegressor  KFold: 1             751.31           0.11             1053.05           0.02\n",
       "5  CatBoostRegressor - Cross-Validation   853.84 +/- 144.37  0.12 +/- 0.01  1253.98 +/- 254.45  0.02 +/- 0.01"
      ]
     },
     "execution_count": 101,
     "metadata": {},
     "output_type": "execute_result"
    }
   ],
   "source": [
    "#model\n",
    "cat_tuned = CatBoostRegressor(random_state = 42,\n",
    "                              depth = grid_tuned['depth'],\n",
    "                              iterations = grid_tuned['iterations'],\n",
    "                              learning_rate = grid_tuned['learning_rate'],\n",
    "                              rsm = grid_tuned['rsm'],\n",
    "                              l2_leaf_reg = grid_tuned['l2_leaf_reg'],\n",
    "                              verbose= False\n",
    "                             )\n",
    "\n",
    "\n",
    "             \n",
    "models = [cat_tuned]\n",
    "\n",
    "#prediction\n",
    "df_performance = models_cross_validation(models, x_training )\n",
    "df_performance  "
   ]
  },
  {
   "cell_type": "markdown",
   "id": "korean-press",
   "metadata": {
    "hidden": true
   },
   "source": [
    "### 8.2.1 Saving the final model"
   ]
  },
  {
   "cell_type": "code",
   "execution_count": 102,
   "id": "hourly-short",
   "metadata": {
    "ExecuteTime": {
     "end_time": "2021-05-01T16:26:38.509913Z",
     "start_time": "2021-05-01T16:26:38.458647Z"
    },
    "hidden": true
   },
   "outputs": [],
   "source": [
    "#savind model\n",
    "path = '/home/alexandremagno/repos/rossmann/model/model_rossmann.pkl'\n",
    "pickle.dump( cat_tuned, open( path, 'wb') )"
   ]
  },
  {
   "cell_type": "markdown",
   "id": "coral-panel",
   "metadata": {
    "hidden": true
   },
   "source": [
    "## 8.3 Predictions with the final model"
   ]
  },
  {
   "cell_type": "code",
   "execution_count": 98,
   "id": "established-reservoir",
   "metadata": {
    "ExecuteTime": {
     "end_time": "2021-05-01T15:41:28.354597Z",
     "start_time": "2021-05-01T15:40:30.970185Z"
    },
    "cell_style": "center",
    "hidden": true
   },
   "outputs": [
    {
     "name": "stdout",
     "output_type": "stream",
     "text": [
      "Training CatBoostRegressor ...\n"
     ]
    },
    {
     "ename": "KeyboardInterrupt",
     "evalue": "",
     "output_type": "error",
     "traceback": [
      "\u001b[0;31m---------------------------------------------------------------------------\u001b[0m",
      "\u001b[0;31mKeyboardInterrupt\u001b[0m                         Traceback (most recent call last)",
      "\u001b[0;32m<ipython-input-98-8a397779c6ee>\u001b[0m in \u001b[0;36m<module>\u001b[0;34m\u001b[0m\n\u001b[1;32m      1\u001b[0m \u001b[0;31m#predictions\u001b[0m\u001b[0;34m\u001b[0m\u001b[0;34m\u001b[0m\u001b[0;34m\u001b[0m\u001b[0m\n\u001b[0;32m----> 2\u001b[0;31m \u001b[0mdf_performance\u001b[0m \u001b[0;34m,\u001b[0m \u001b[0myhat\u001b[0m \u001b[0;34m=\u001b[0m \u001b[0mget_model_performance\u001b[0m\u001b[0;34m(\u001b[0m\u001b[0;34m[\u001b[0m\u001b[0mcat_tuned\u001b[0m\u001b[0;34m]\u001b[0m\u001b[0;34m,\u001b[0m \u001b[0mx_train\u001b[0m\u001b[0;34m,\u001b[0m \u001b[0my_train\u001b[0m\u001b[0;34m,\u001b[0m \u001b[0mx_test\u001b[0m\u001b[0;34m,\u001b[0m \u001b[0my_test\u001b[0m \u001b[0;34m)\u001b[0m\u001b[0;34m\u001b[0m\u001b[0;34m\u001b[0m\u001b[0m\n\u001b[0m",
      "\u001b[0;32m<ipython-input-4-9b2f01388a90>\u001b[0m in \u001b[0;36mget_model_performance\u001b[0;34m(models, x_train, y_train, x_test, y_test)\u001b[0m\n\u001b[1;32m      9\u001b[0m \u001b[0;34m\u001b[0m\u001b[0m\n\u001b[1;32m     10\u001b[0m         \u001b[0;31m#fit model\u001b[0m\u001b[0;34m\u001b[0m\u001b[0;34m\u001b[0m\u001b[0;34m\u001b[0m\u001b[0m\n\u001b[0;32m---> 11\u001b[0;31m         \u001b[0mmodel\u001b[0m\u001b[0;34m.\u001b[0m\u001b[0mfit\u001b[0m\u001b[0;34m(\u001b[0m \u001b[0mx_train\u001b[0m\u001b[0;34m,\u001b[0m \u001b[0my_train\u001b[0m \u001b[0;34m)\u001b[0m\u001b[0;34m\u001b[0m\u001b[0;34m\u001b[0m\u001b[0m\n\u001b[0m\u001b[1;32m     12\u001b[0m \u001b[0;34m\u001b[0m\u001b[0m\n\u001b[1;32m     13\u001b[0m         \u001b[0;31m#prediction\u001b[0m\u001b[0;34m\u001b[0m\u001b[0;34m\u001b[0m\u001b[0;34m\u001b[0m\u001b[0m\n",
      "\u001b[0;32m~/.pyenv/versions/3.8.0/envs/rossmann_sales/lib/python3.8/site-packages/catboost/core.py\u001b[0m in \u001b[0;36mfit\u001b[0;34m(self, X, y, cat_features, sample_weight, baseline, use_best_model, eval_set, verbose, logging_level, plot, column_description, verbose_eval, metric_period, silent, early_stopping_rounds, save_snapshot, snapshot_file, snapshot_interval, init_model)\u001b[0m\n\u001b[1;32m   5084\u001b[0m             \u001b[0mself\u001b[0m\u001b[0;34m.\u001b[0m\u001b[0m_check_is_regressor_loss\u001b[0m\u001b[0;34m(\u001b[0m\u001b[0mparams\u001b[0m\u001b[0;34m[\u001b[0m\u001b[0;34m'loss_function'\u001b[0m\u001b[0;34m]\u001b[0m\u001b[0;34m)\u001b[0m\u001b[0;34m\u001b[0m\u001b[0;34m\u001b[0m\u001b[0m\n\u001b[1;32m   5085\u001b[0m \u001b[0;34m\u001b[0m\u001b[0m\n\u001b[0;32m-> 5086\u001b[0;31m         return self._fit(X, y, cat_features, None, None, None, sample_weight, None, None, None, None, baseline,\n\u001b[0m\u001b[1;32m   5087\u001b[0m                          \u001b[0muse_best_model\u001b[0m\u001b[0;34m,\u001b[0m \u001b[0meval_set\u001b[0m\u001b[0;34m,\u001b[0m \u001b[0mverbose\u001b[0m\u001b[0;34m,\u001b[0m \u001b[0mlogging_level\u001b[0m\u001b[0;34m,\u001b[0m \u001b[0mplot\u001b[0m\u001b[0;34m,\u001b[0m \u001b[0mcolumn_description\u001b[0m\u001b[0;34m,\u001b[0m\u001b[0;34m\u001b[0m\u001b[0;34m\u001b[0m\u001b[0m\n\u001b[1;32m   5088\u001b[0m                          \u001b[0mverbose_eval\u001b[0m\u001b[0;34m,\u001b[0m \u001b[0mmetric_period\u001b[0m\u001b[0;34m,\u001b[0m \u001b[0msilent\u001b[0m\u001b[0;34m,\u001b[0m \u001b[0mearly_stopping_rounds\u001b[0m\u001b[0;34m,\u001b[0m\u001b[0;34m\u001b[0m\u001b[0;34m\u001b[0m\u001b[0m\n",
      "\u001b[0;32m~/.pyenv/versions/3.8.0/envs/rossmann_sales/lib/python3.8/site-packages/catboost/core.py\u001b[0m in \u001b[0;36m_fit\u001b[0;34m(self, X, y, cat_features, text_features, embedding_features, pairs, sample_weight, group_id, group_weight, subgroup_id, pairs_weight, baseline, use_best_model, eval_set, verbose, logging_level, plot, column_description, verbose_eval, metric_period, silent, early_stopping_rounds, save_snapshot, snapshot_file, snapshot_interval, init_model)\u001b[0m\n\u001b[1;32m   1916\u001b[0m \u001b[0;34m\u001b[0m\u001b[0m\n\u001b[1;32m   1917\u001b[0m         \u001b[0;32mwith\u001b[0m \u001b[0mlog_fixup\u001b[0m\u001b[0;34m(\u001b[0m\u001b[0;34m)\u001b[0m\u001b[0;34m,\u001b[0m \u001b[0mplot_wrapper\u001b[0m\u001b[0;34m(\u001b[0m\u001b[0mplot\u001b[0m\u001b[0;34m,\u001b[0m \u001b[0;34m[\u001b[0m\u001b[0m_get_train_dir\u001b[0m\u001b[0;34m(\u001b[0m\u001b[0mself\u001b[0m\u001b[0;34m.\u001b[0m\u001b[0mget_params\u001b[0m\u001b[0;34m(\u001b[0m\u001b[0;34m)\u001b[0m\u001b[0;34m)\u001b[0m\u001b[0;34m]\u001b[0m\u001b[0;34m)\u001b[0m\u001b[0;34m:\u001b[0m\u001b[0;34m\u001b[0m\u001b[0;34m\u001b[0m\u001b[0m\n\u001b[0;32m-> 1918\u001b[0;31m             self._train(\n\u001b[0m\u001b[1;32m   1919\u001b[0m                 \u001b[0mtrain_pool\u001b[0m\u001b[0;34m,\u001b[0m\u001b[0;34m\u001b[0m\u001b[0;34m\u001b[0m\u001b[0m\n\u001b[1;32m   1920\u001b[0m                 \u001b[0mtrain_params\u001b[0m\u001b[0;34m[\u001b[0m\u001b[0;34m\"eval_sets\"\u001b[0m\u001b[0;34m]\u001b[0m\u001b[0;34m,\u001b[0m\u001b[0;34m\u001b[0m\u001b[0;34m\u001b[0m\u001b[0m\n",
      "\u001b[0;32m~/.pyenv/versions/3.8.0/envs/rossmann_sales/lib/python3.8/site-packages/catboost/core.py\u001b[0m in \u001b[0;36m_train\u001b[0;34m(self, train_pool, test_pool, params, allow_clear_pool, init_model)\u001b[0m\n\u001b[1;32m   1364\u001b[0m \u001b[0;34m\u001b[0m\u001b[0m\n\u001b[1;32m   1365\u001b[0m     \u001b[0;32mdef\u001b[0m \u001b[0m_train\u001b[0m\u001b[0;34m(\u001b[0m\u001b[0mself\u001b[0m\u001b[0;34m,\u001b[0m \u001b[0mtrain_pool\u001b[0m\u001b[0;34m,\u001b[0m \u001b[0mtest_pool\u001b[0m\u001b[0;34m,\u001b[0m \u001b[0mparams\u001b[0m\u001b[0;34m,\u001b[0m \u001b[0mallow_clear_pool\u001b[0m\u001b[0;34m,\u001b[0m \u001b[0minit_model\u001b[0m\u001b[0;34m)\u001b[0m\u001b[0;34m:\u001b[0m\u001b[0;34m\u001b[0m\u001b[0;34m\u001b[0m\u001b[0m\n\u001b[0;32m-> 1366\u001b[0;31m         \u001b[0mself\u001b[0m\u001b[0;34m.\u001b[0m\u001b[0m_object\u001b[0m\u001b[0;34m.\u001b[0m\u001b[0m_train\u001b[0m\u001b[0;34m(\u001b[0m\u001b[0mtrain_pool\u001b[0m\u001b[0;34m,\u001b[0m \u001b[0mtest_pool\u001b[0m\u001b[0;34m,\u001b[0m \u001b[0mparams\u001b[0m\u001b[0;34m,\u001b[0m \u001b[0mallow_clear_pool\u001b[0m\u001b[0;34m,\u001b[0m \u001b[0minit_model\u001b[0m\u001b[0;34m.\u001b[0m\u001b[0m_object\u001b[0m \u001b[0;32mif\u001b[0m \u001b[0minit_model\u001b[0m \u001b[0;32melse\u001b[0m \u001b[0;32mNone\u001b[0m\u001b[0;34m)\u001b[0m\u001b[0;34m\u001b[0m\u001b[0;34m\u001b[0m\u001b[0m\n\u001b[0m\u001b[1;32m   1367\u001b[0m         \u001b[0mself\u001b[0m\u001b[0;34m.\u001b[0m\u001b[0m_set_trained_model_attributes\u001b[0m\u001b[0;34m(\u001b[0m\u001b[0;34m)\u001b[0m\u001b[0;34m\u001b[0m\u001b[0;34m\u001b[0m\u001b[0m\n\u001b[1;32m   1368\u001b[0m \u001b[0;34m\u001b[0m\u001b[0m\n",
      "\u001b[0;32m_catboost.pyx\u001b[0m in \u001b[0;36m_catboost._CatBoost._train\u001b[0;34m()\u001b[0m\n",
      "\u001b[0;32m_catboost.pyx\u001b[0m in \u001b[0;36m_catboost._CatBoost._train\u001b[0;34m()\u001b[0m\n",
      "\u001b[0;31mKeyboardInterrupt\u001b[0m: "
     ]
    }
   ],
   "source": [
    "#predictions\n",
    "#df_performance , yhat = get_model_performance([cat_tuned], x_train, y_train, x_test, y_test )"
   ]
  },
  {
   "cell_type": "code",
   "execution_count": 20,
   "id": "smaller-transfer",
   "metadata": {
    "ExecuteTime": {
     "end_time": "2021-05-01T13:00:17.497469Z",
     "start_time": "2021-05-01T13:00:17.483784Z"
    },
    "hidden": true,
    "hide_input": true
   },
   "outputs": [
    {
     "data": {
      "text/html": [
       "<div>\n",
       "<style scoped>\n",
       "    .dataframe tbody tr th:only-of-type {\n",
       "        vertical-align: middle;\n",
       "    }\n",
       "\n",
       "    .dataframe tbody tr th {\n",
       "        vertical-align: top;\n",
       "    }\n",
       "\n",
       "    .dataframe thead th {\n",
       "        text-align: right;\n",
       "    }\n",
       "</style>\n",
       "<table border=\"1\" class=\"dataframe\">\n",
       "  <thead>\n",
       "    <tr style=\"text-align: right;\">\n",
       "      <th></th>\n",
       "      <th>Model Name</th>\n",
       "      <th>MAE</th>\n",
       "      <th>MAPE</th>\n",
       "      <th>RMSE</th>\n",
       "      <th>MPE</th>\n",
       "    </tr>\n",
       "  </thead>\n",
       "  <tbody>\n",
       "    <tr>\n",
       "      <th>0</th>\n",
       "      <td>CatBoostRegressor</td>\n",
       "      <td>687.67</td>\n",
       "      <td>0.10</td>\n",
       "      <td>986.95</td>\n",
       "      <td>-0.01</td>\n",
       "    </tr>\n",
       "  </tbody>\n",
       "</table>\n",
       "</div>"
      ],
      "text/plain": [
       "          Model Name    MAE  MAPE   RMSE   MPE\n",
       "0  CatBoostRegressor 687.67  0.10 986.95 -0.01"
      ]
     },
     "execution_count": 20,
     "metadata": {},
     "output_type": "execute_result"
    }
   ],
   "source": [
    "#performance \n",
    "df_performance"
   ]
  },
  {
   "cell_type": "markdown",
   "id": "aware-desktop",
   "metadata": {
    "heading_collapsed": true
   },
   "source": [
    "# 9.0 Business Performance"
   ]
  },
  {
   "cell_type": "code",
   "execution_count": 21,
   "id": "finnish-vulnerability",
   "metadata": {
    "ExecuteTime": {
     "end_time": "2021-05-01T13:00:17.505205Z",
     "start_time": "2021-05-01T13:00:17.498848Z"
    },
    "hidden": true
   },
   "outputs": [],
   "source": [
    "df9 = X_test[cols_full]\n",
    "\n",
    "#rescale\n",
    "df9['sales'] = np.expm1( df9['sales'] )\n",
    "df9['predictions'] = np.expm1( yhat )"
   ]
  },
  {
   "cell_type": "markdown",
   "id": "bronze-color",
   "metadata": {
    "heading_collapsed": true,
    "hidden": true
   },
   "source": [
    "## 9.1 Business Performance"
   ]
  },
  {
   "cell_type": "code",
   "execution_count": 68,
   "id": "corrected-guyana",
   "metadata": {
    "ExecuteTime": {
     "end_time": "2021-04-30T19:25:03.434287Z",
     "start_time": "2021-04-30T19:25:02.694455Z"
    },
    "hidden": true
   },
   "outputs": [],
   "source": [
    "# group and sum predictions\n",
    "df91 = df9[['store','predictions']].groupby( 'store' ).sum().reset_index()\n",
    "\n",
    "# MAE- MAPE\n",
    "aux1 = df9[['store','sales','predictions']].groupby( 'store').apply( lambda x: mean_absolute_error(x['sales'], x['predictions'] ) ).reset_index().rename(columns={0:'MAE'}) \n",
    "\n",
    "aux2 = df9[['store','sales','predictions']].groupby( 'store').apply( lambda x: mape2(x['sales'], x['predictions'] ) ).reset_index().rename(columns={0:'MAPE'}) \n",
    "\n",
    "#merge\n",
    "aux3 = pd.merge( aux1, aux2 , how='inner', on='store')\n",
    "df_result = pd.merge ( df91, aux3, how='inner', on='store')\n",
    "df_result['MAPE'] = np.round( df_result['MAPE']*100 , 2 ).astype( str ) + \"%\"\n",
    "\n",
    "#Scenarios\n",
    "df_result['worst_scenario'] = df_result['predictions'] - df_result['MAE']\n",
    "df_result['best_scenario']  = df_result['predictions'] + df_result['MAE']\n",
    "\n",
    "df_result = df_result[['store','predictions','best_scenario','worst_scenario','MAE','MAPE']]\n"
   ]
  },
  {
   "cell_type": "markdown",
   "id": "published-scout",
   "metadata": {
    "heading_collapsed": true,
    "hidden": true
   },
   "source": [
    "## 9.2 Total Performance "
   ]
  },
  {
   "cell_type": "code",
   "execution_count": 74,
   "id": "asian-diamond",
   "metadata": {
    "ExecuteTime": {
     "end_time": "2021-04-30T19:25:52.268394Z",
     "start_time": "2021-04-30T19:25:52.255280Z"
    },
    "hidden": true
   },
   "outputs": [
    {
     "data": {
      "text/html": [
       "<div>\n",
       "<style scoped>\n",
       "    .dataframe tbody tr th:only-of-type {\n",
       "        vertical-align: middle;\n",
       "    }\n",
       "\n",
       "    .dataframe tbody tr th {\n",
       "        vertical-align: top;\n",
       "    }\n",
       "\n",
       "    .dataframe thead th {\n",
       "        text-align: right;\n",
       "    }\n",
       "</style>\n",
       "<table border=\"1\" class=\"dataframe\">\n",
       "  <thead>\n",
       "    <tr style=\"text-align: right;\">\n",
       "      <th></th>\n",
       "      <th>Scenario</th>\n",
       "      <th>Values</th>\n",
       "    </tr>\n",
       "  </thead>\n",
       "  <tbody>\n",
       "    <tr>\n",
       "      <th>0</th>\n",
       "      <td>predictions</td>\n",
       "      <td>R$288,892,331.70</td>\n",
       "    </tr>\n",
       "    <tr>\n",
       "      <th>1</th>\n",
       "      <td>worst_scenario</td>\n",
       "      <td>R$288,121,548.68</td>\n",
       "    </tr>\n",
       "    <tr>\n",
       "      <th>2</th>\n",
       "      <td>best_scenario</td>\n",
       "      <td>R$289,663,114.72</td>\n",
       "    </tr>\n",
       "  </tbody>\n",
       "</table>\n",
       "</div>"
      ],
      "text/plain": [
       "         Scenario            Values\n",
       "0     predictions  R$288,892,331.70\n",
       "1  worst_scenario  R$288,121,548.68\n",
       "2   best_scenario  R$289,663,114.72"
      ]
     },
     "execution_count": 74,
     "metadata": {},
     "output_type": "execute_result"
    }
   ],
   "source": [
    "df92 = df_result[['predictions','worst_scenario' ,'best_scenario']].apply( lambda x: np.sum(x ), axis=0).reset_index().rename(columns={'index':'Scenario',0:'Values'})\n",
    "df92['Values'] = df92['Values'].map( 'R${:,.2f}'.format )\n",
    "df92"
   ]
  },
  {
   "cell_type": "markdown",
   "id": "informed-stage",
   "metadata": {
    "heading_collapsed": true,
    "hidden": true
   },
   "source": [
    "## 9.3 Machine Learning Performance "
   ]
  },
  {
   "cell_type": "code",
   "execution_count": 75,
   "id": "sixth-experience",
   "metadata": {
    "ExecuteTime": {
     "end_time": "2021-04-30T19:25:58.475670Z",
     "start_time": "2021-04-30T19:25:58.471112Z"
    },
    "hidden": true
   },
   "outputs": [],
   "source": [
    "df9['error'] = df9['sales'] - df9['predictions']\n",
    "df9['error_rate'] = df9['predictions'] / df9['sales']"
   ]
  },
  {
   "cell_type": "code",
   "execution_count": 76,
   "id": "portuguese-maldives",
   "metadata": {
    "ExecuteTime": {
     "end_time": "2021-04-30T19:26:03.458644Z",
     "start_time": "2021-04-30T19:25:58.840163Z"
    },
    "hidden": true,
    "hide_input": true
   },
   "outputs": [
    {
     "data": {
      "image/png": "[encoded data removed]",
      "text/plain": [
       "<Figure size 1440x720 with 4 Axes>"
      ]
     },
     "metadata": {},
     "output_type": "display_data"
    }
   ],
   "source": [
    "plt.subplot( 2, 2, 1 )\n",
    "sns.lineplot( x=df9['date'], y=df9['sales'], label='Sales')\n",
    "sns.lineplot( x=df9['date'], y=df9['predictions'], label='Predictions')\n",
    "\n",
    "plt.subplot( 2, 2, 2 )\n",
    "sns.lineplot( x=df9['date'], y=df9['error_rate'] )\n",
    "plt.axhline( 1, linestyle='--')\n",
    "plt.subplot( 2, 2, 3 )\n",
    "sns.distplot( df9['error'] )\n",
    "\n",
    "plt.subplot( 2, 2, 4 )\n",
    "sns.scatterplot( df9['predictions'], df9['error'] );\n"
   ]
  },
  {
   "cell_type": "markdown",
   "id": "immune-punch",
   "metadata": {},
   "source": [
    "# 10.0 Deploy Model"
   ]
  },
  {
   "cell_type": "markdown",
   "id": "literary-excellence",
   "metadata": {},
   "source": [
    "## 10.1 Rossmann Class"
   ]
  },
  {
   "cell_type": "code",
   "execution_count": 22,
   "id": "metallic-contrary",
   "metadata": {
    "ExecuteTime": {
     "end_time": "2021-05-01T13:00:17.534190Z",
     "start_time": "2021-05-01T13:00:17.506225Z"
    }
   },
   "outputs": [],
   "source": [
    "import pickle\n",
    "import inflection\n",
    "import pandas as pd\n",
    "import numpy as np\n",
    "import math\n",
    "import datetime\n",
    "\n",
    "class Rossmann( object ):\n",
    "    def __init__( self ):\n",
    "        self.home_path='/home/alexandremagno/repos/rossmann/'\n",
    "        self.competition_distance_scaler   = pickle.load( open( self.home_path + 'parameter/competition_distance.pkl', 'rb') )\n",
    "        self.competition_time_month_scaler = pickle.load( open( self.home_path + 'parameter/competition_time_month.pkl', 'rb') )\n",
    "        self.promo_time_week_scaler        = pickle.load( open( self.home_path + 'parameter/promo_time_week.pkl', 'rb') )\n",
    "        self.year_scaler                   = pickle.load( open( self.home_path + 'parameter/year_scaler.pkl', 'rb') )\n",
    "        self.store_type_scaler             = pickle.load( open( self.home_path + 'parameter/store_type.pkl', 'rb') )\n",
    "        \n",
    "        \n",
    "    def data_cleaning( self, df1 ): \n",
    "        \n",
    "        ## 1.1. Rename Columns\n",
    "        cols_old = ['Store', 'DayOfWeek', 'Date', 'Open', 'Promo', 'StateHoliday', 'SchoolHoliday', \n",
    "                    'StoreType', 'Assortment', 'CompetitionDistance', 'CompetitionOpenSinceMonth',\n",
    "                    'CompetitionOpenSinceYear', 'Promo2', 'Promo2SinceWeek', 'Promo2SinceYear', 'PromoInterval']\n",
    "\n",
    "        snakecase = lambda x: inflection.underscore( x )\n",
    "\n",
    "        cols_new = list( map( snakecase, cols_old ) )\n",
    "\n",
    "        # rename\n",
    "        df1.columns = cols_new\n",
    "\n",
    "        ## 1.3. Data Types\n",
    "        df1['date'] = pd.to_datetime( df1['date'] )\n",
    "\n",
    "        ## 1.5. Fillout NA\n",
    "        #competition_distance        \n",
    "        df1['competition_distance'] = df1['competition_distance'].apply( lambda x: 200000.0 if math.isnan( x ) else x )\n",
    "\n",
    "        #competition_open_since_month\n",
    "        df1['competition_open_since_month'] = df1.apply( lambda x: x['date'].month if math.isnan( x['competition_open_since_month'] ) else x['competition_open_since_month'], axis=1 )\n",
    "\n",
    "        #competition_open_since_year \n",
    "        df1['competition_open_since_year'] = df1.apply( lambda x: x['date'].year if math.isnan( x['competition_open_since_year'] ) else x['competition_open_since_year'], axis=1 )\n",
    "\n",
    "        #promo2_since_week           \n",
    "        df1['promo2_since_week'] = df1.apply( lambda x: x['date'].week if math.isnan( x['promo2_since_week'] ) else x['promo2_since_week'], axis=1 )\n",
    "\n",
    "        #promo2_since_year           \n",
    "        df1['promo2_since_year'] = df1.apply( lambda x: x['date'].year if math.isnan( x['promo2_since_year'] ) else x['promo2_since_year'], axis=1 )\n",
    "\n",
    "        #promo_interval              \n",
    "        month_map = {1: 'Jan',  2: 'Fev',  3: 'Mar',  4: 'Apr',  5: 'May',  6: 'Jun',  7: 'Jul',  8: 'Aug',  9: 'Sep',  10: 'Oct', 11: 'Nov', 12: 'Dec'}\n",
    "\n",
    "        df1['promo_interval'].fillna(0, inplace=True )\n",
    "\n",
    "        df1['month_map'] = df1['date'].dt.month.map( month_map )\n",
    "\n",
    "        df1['is_promo'] = df1[['promo_interval', 'month_map']].apply( lambda x: 0 if x['promo_interval'] == 0 else 1 if x['month_map'] in x['promo_interval'].split( ',' ) else 0, axis=1 )\n",
    "\n",
    "        ## 1.6. Change Data Types\n",
    "        # competiton\n",
    "        df1['competition_open_since_month'] = df1['competition_open_since_month'].astype( int )\n",
    "        df1['competition_open_since_year'] = df1['competition_open_since_year'].astype( int )\n",
    "\n",
    "        # promo2\n",
    "        df1['promo2_since_week'] = df1['promo2_since_week'].astype( int )\n",
    "        df1['promo2_since_year'] = df1['promo2_since_year'].astype( int )\n",
    "        \n",
    "        return df1 \n",
    "\n",
    "\n",
    "    def feature_engineering( self, df2 ):\n",
    "\n",
    "        # year\n",
    "        df2['year'] = df2['date'].dt.year\n",
    "\n",
    "        # month\n",
    "        df2['month'] = df2['date'].dt.month\n",
    "\n",
    "        # day\n",
    "        df2['day'] = df2['date'].dt.day\n",
    "\n",
    "        # week of year\n",
    "        df2['week_of_year'] = df2['date'].dt.weekofyear\n",
    "\n",
    "        # year week\n",
    "        df2['year_week'] = df2['date'].dt.strftime( '%Y-%W' )\n",
    "\n",
    "        # competition since\n",
    "        df2['competition_since'] = df2.apply( lambda x: datetime.datetime( year=x['competition_open_since_year'], month=x['competition_open_since_month'],day=1 ), axis=1 )\n",
    "        df2['competition_time_month'] = ( ( df2['date'] - df2['competition_since'] )/30 ).apply( lambda x: x.days ).astype( int )\n",
    "\n",
    "        # promo since\n",
    "        df2['promo_since'] = df2['promo2_since_year'].astype( str ) + '-' + df2['promo2_since_week'].astype( str )\n",
    "        df2['promo_since'] = df2['promo_since'].apply( lambda x: datetime.datetime.strptime( x + '-1', '%Y-%W-%w' ) - datetime.timedelta( days=7 ) )\n",
    "        df2['promo_time_week'] = ( ( df2['date'] - df2['promo_since'] )/7 ).apply( lambda x: x.days ).astype( int )\n",
    "\n",
    "        # assortment\n",
    "        df2['assortment'] = df2['assortment'].apply( lambda x: 'basic' if x == 'a' else 'extra' if x == 'b' else 'extended' )\n",
    "\n",
    "        # state holiday\n",
    "        df2['state_holiday'] = df2['state_holiday'].apply( lambda x: 'public_holiday' if x == 'a' else 'easter_holiday' if x == 'b' else 'christmas' if x == 'c' else 'regular_day' )\n",
    "\n",
    "        # 3.0. PASSO 03 - FILTRAGEM DE VARIÁVEIS\n",
    "        ## 3.1. Filtragem das Linhas\n",
    "        df2 = df2[df2['open'] != 0]\n",
    "\n",
    "        ## 3.2. Selecao das Colunas\n",
    "        cols_drop = ['open', 'promo_interval', 'month_map']\n",
    "        df2 = df2.drop( cols_drop, axis=1 )\n",
    "        \n",
    "        return df2\n",
    "\n",
    "\n",
    "    def data_preparation( self, df5 ):\n",
    "\n",
    "        ## 5.2. Rescaling \n",
    "        # competition distance\n",
    "        df5['competition_distance'] = self.competition_distance_scaler.fit_transform( df5[['competition_distance']].values )\n",
    "    \n",
    "        # competition time month\n",
    "        df5['competition_time_month'] = self.competition_time_month_scaler.fit_transform( df5[['competition_time_month']].values )\n",
    "\n",
    "        # promo time week\n",
    "        df5['promo_time_week'] = self.promo_time_week_scaler.fit_transform( df5[['promo_time_week']].values )\n",
    "        \n",
    "        # year\n",
    "        df5['year'] = self.year_scaler.fit_transform( df5[['year']].values )\n",
    "\n",
    "        ### 5.3.1. Encoding\n",
    "        # state_holiday - One Hot Encoding\n",
    "        df5 = pd.get_dummies( df5, prefix=['state_holiday'], columns=['state_holiday'] )\n",
    "\n",
    "        # store_type - Label Encoding\n",
    "        df5['store_type'] = self.store_type_scaler.fit_transform( df5['store_type'] )\n",
    "\n",
    "        # assortment - Ordinal Encoding\n",
    "        assortment_dict = {'basic': 1,  'extra': 2, 'extended': 3}\n",
    "        df5['assortment'] = df5['assortment'].map( assortment_dict )\n",
    "\n",
    "        \n",
    "        ### 5.3.3. Nature Transformation\n",
    "        # day of week\n",
    "        df5['day_of_week_sin'] = df5['day_of_week'].apply( lambda x: np.sin( x * ( 2. * np.pi/7 ) ) )\n",
    "        df5['day_of_week_cos'] = df5['day_of_week'].apply( lambda x: np.cos( x * ( 2. * np.pi/7 ) ) )\n",
    "\n",
    "        # month\n",
    "        df5['month_sin'] = df5['month'].apply( lambda x: np.sin( x * ( 2. * np.pi/12 ) ) )\n",
    "        df5['month_cos'] = df5['month'].apply( lambda x: np.cos( x * ( 2. * np.pi/12 ) ) )\n",
    "\n",
    "        # day \n",
    "        df5['day_sin'] = df5['day'].apply( lambda x: np.sin( x * ( 2. * np.pi/30 ) ) )\n",
    "        df5['day_cos'] = df5['day'].apply( lambda x: np.cos( x * ( 2. * np.pi/30 ) ) )\n",
    "\n",
    "        # week of year\n",
    "        df5['week_of_year_sin'] = df5['week_of_year'].apply( lambda x: np.sin( x * ( 2. * np.pi/52 ) ) )\n",
    "        df5['week_of_year_cos'] = df5['week_of_year'].apply( lambda x: np.cos( x * ( 2. * np.pi/52 ) ) )\n",
    "        \n",
    "        \n",
    "        cols_selected = [ 'store', 'promo', 'store_type', 'assortment', 'competition_distance', 'competition_open_since_month',\n",
    "            'competition_open_since_year', 'promo2', 'promo2_since_week', 'promo2_since_year', 'competition_time_month', 'promo_time_week',\n",
    "            'day_of_week_sin', 'day_of_week_cos', 'month_sin', 'month_cos', 'day_sin', 'day_cos', 'week_of_year_sin', 'week_of_year_cos']\n",
    "        \n",
    "        return df5[ cols_selected ]\n",
    "    \n",
    "    \n",
    "    def get_prediction( self,  model, original_data, test_data ):\n",
    "        \n",
    "        #prediction\n",
    "        pred = model.predict( test_data)\n",
    "            \n",
    "        #join pred into original data\n",
    "        original_data['prediction'] =  np.expm1( pred ) \n",
    "        \n",
    "        \n",
    "        return original_data.to_json( orient='records', date_format='iso' )\n",
    "        "
   ]
  },
  {
   "cell_type": "markdown",
   "id": "informal-chain",
   "metadata": {},
   "source": [
    "## 10.2 API Handler"
   ]
  },
  {
   "cell_type": "code",
   "execution_count": 43,
   "id": "mineral-purse",
   "metadata": {
    "ExecuteTime": {
     "end_time": "2021-05-01T15:10:32.758524Z",
     "start_time": "2021-05-01T15:10:32.745052Z"
    }
   },
   "outputs": [
    {
     "ename": "ModuleNotFoundError",
     "evalue": "No module named 'rossmann'",
     "output_type": "error",
     "traceback": [
      "\u001b[0;31m---------------------------------------------------------------------------\u001b[0m",
      "\u001b[0;31mModuleNotFoundError\u001b[0m                       Traceback (most recent call last)",
      "\u001b[0;32m<ipython-input-43-2c6c2c7eca23>\u001b[0m in \u001b[0;36m<module>\u001b[0;34m\u001b[0m\n\u001b[1;32m      1\u001b[0m \u001b[0;32mfrom\u001b[0m \u001b[0mflask\u001b[0m \u001b[0;32mimport\u001b[0m \u001b[0mFlask\u001b[0m\u001b[0;34m,\u001b[0m \u001b[0mrequest\u001b[0m\u001b[0;34m,\u001b[0m \u001b[0mResponse\u001b[0m\u001b[0;34m\u001b[0m\u001b[0;34m\u001b[0m\u001b[0m\n\u001b[1;32m      2\u001b[0m \u001b[0;32mimport\u001b[0m \u001b[0mpandas\u001b[0m \u001b[0;32mas\u001b[0m \u001b[0mpd\u001b[0m\u001b[0;34m\u001b[0m\u001b[0;34m\u001b[0m\u001b[0m\n\u001b[0;32m----> 3\u001b[0;31m \u001b[0;32mfrom\u001b[0m \u001b[0mrossmann\u001b[0m\u001b[0;34m.\u001b[0m\u001b[0mRossmann\u001b[0m \u001b[0;32mimport\u001b[0m \u001b[0mRossmann\u001b[0m\u001b[0;34m\u001b[0m\u001b[0;34m\u001b[0m\u001b[0m\n\u001b[0m\u001b[1;32m      4\u001b[0m \u001b[0;32mimport\u001b[0m \u001b[0mpickle\u001b[0m\u001b[0;34m\u001b[0m\u001b[0;34m\u001b[0m\u001b[0m\n\u001b[1;32m      5\u001b[0m \u001b[0;34m\u001b[0m\u001b[0m\n",
      "\u001b[0;31mModuleNotFoundError\u001b[0m: No module named 'rossmann'"
     ]
    }
   ],
   "source": [
    "from flask import Flask, request, Response\n",
    "import pandas as pd\n",
    "from rossmann.Rossmann import Rossmann\n",
    "import pickle\n",
    "\n",
    "#model\n",
    "path = '/home/alexandremagno/repos/rossmann/model/model_rossmann.pkl'\n",
    "model = pickle.load( open( path , 'rb') )\n",
    "\n",
    "#initialize API\n",
    "app = Flask( __name__)\n",
    "\n",
    "\n",
    "\n",
    "@app.route( '/rossmann/predict', methods=['POST'] )\n",
    "def rossmann_predict():\n",
    "    \n",
    "    test_json = request.get_json()\n",
    "    \n",
    "    if test_json: #there is data\n",
    "        \n",
    "        if isinstance( test_json, dict ): #unique\n",
    "            test_raw = pd.DataFrame( test_json, index=[0] )\n",
    "            \n",
    "            \n",
    "        else: #multuiple\n",
    "            test_raw = pd.DataFrame( test_json, columns=test_json[0].keys() )\n",
    "            \n",
    "            \n",
    "        #instantiate rossmann class\n",
    "        pipeline = Rossmann()\n",
    "        \n",
    "        #data cleaning\n",
    "        df1 = pipeline.data_cleaning( test_raw )\n",
    "        \n",
    "        #feature engineering\n",
    "        df2 = pipeline.feature_engineering( df1 )\n",
    "        \n",
    "        #data preparation\n",
    "        df3 = pipeline.data_preparation( df2 )\n",
    "        \n",
    "        #prediction\n",
    "        df_response = pipeline.get_prediction( model, test_raw, df3 )\n",
    "        \n",
    "        return df_response\n",
    "    \n",
    "    else:\n",
    "        return Response( '{}' ,status = 200, mimetype = 'application/json' )\n",
    "    \n",
    "    \n",
    "    \n",
    "if __name__ == '__main__':\n",
    "    app.run( '0.0.0.0')\n",
    "    \n",
    "\n",
    "\n",
    "\n",
    "\n",
    "\n"
   ]
  },
  {
   "cell_type": "markdown",
   "id": "hydraulic-harvey",
   "metadata": {},
   "source": [
    "## 10.3 API Tester"
   ]
  },
  {
   "cell_type": "code",
   "execution_count": 19,
   "id": "demographic-sitting",
   "metadata": {
    "ExecuteTime": {
     "end_time": "2021-05-02T16:30:12.086447Z",
     "start_time": "2021-05-02T16:30:12.062756Z"
    }
   },
   "outputs": [],
   "source": [
    "#loading test dataset\n",
    "df10 = pd.read_csv('/home/alexandremagno/repos/rossmann/Data/test.csv')"
   ]
  },
  {
   "cell_type": "code",
   "execution_count": 32,
   "id": "leading-johns",
   "metadata": {
    "ExecuteTime": {
     "end_time": "2021-05-02T16:36:21.028781Z",
     "start_time": "2021-05-02T16:36:21.000420Z"
    }
   },
   "outputs": [],
   "source": [
    "#merge test + store\n",
    "df_test = pd.merge(df10, df_store_raw, how='left', on='Store' )\n",
    "\n",
    "#choose store\n",
    "df_test = df_test[df_test['Store'].isin([28,111,12,73, 101]) ]\n",
    "\n",
    "#remove closed day\n",
    "df_test = df_test[df_test['Open'] != 0  ]\n",
    "df_test = df_test[~df_test['Open'].isnull()  ]\n",
    "df_test = df_test.drop( 'Id', axis=1 )\n",
    "\n"
   ]
  },
  {
   "cell_type": "code",
   "execution_count": 33,
   "id": "threatened-bobby",
   "metadata": {
    "ExecuteTime": {
     "end_time": "2021-05-02T16:36:21.373906Z",
     "start_time": "2021-05-02T16:36:21.366681Z"
    }
   },
   "outputs": [],
   "source": [
    "#convert Dataframe to json\n",
    "data = json.dumps( df_test.to_dict( orient = 'records') )"
   ]
  },
  {
   "cell_type": "code",
   "execution_count": 34,
   "id": "trained-princess",
   "metadata": {
    "ExecuteTime": {
     "end_time": "2021-05-02T16:36:21.626928Z",
     "start_time": "2021-05-02T16:36:21.623672Z"
    }
   },
   "outputs": [],
   "source": [
    "import flask\n",
    "import requests"
   ]
  },
  {
   "cell_type": "code",
   "execution_count": 41,
   "id": "suburban-costs",
   "metadata": {
    "ExecuteTime": {
     "end_time": "2021-05-02T22:13:13.232143Z",
     "start_time": "2021-05-02T22:12:32.655393Z"
    }
   },
   "outputs": [
    {
     "name": "stdout",
     "output_type": "stream",
     "text": [
      "Status Code 200\n"
     ]
    }
   ],
   "source": [
    "#API Call\n",
    "#url = 'http://0.0.0.0:5000/rossmann/predict'\n",
    "\n",
    "url = 'https://rossmann-api-model.herokuapp.com/rossmann/predict'\n",
    "header = { 'Content-type' : 'application/json' }\n",
    "\n",
    "data = data\n",
    "\n",
    "r = requests.post( url, data=data, headers=header )\n",
    "\n",
    "print( 'Status Code {}'.format( r.status_code ) )\n",
    "\n",
    "\n"
   ]
  },
  {
   "cell_type": "code",
   "execution_count": 42,
   "id": "equivalent-fifteen",
   "metadata": {
    "ExecuteTime": {
     "end_time": "2021-05-02T22:13:13.242382Z",
     "start_time": "2021-05-02T22:13:13.233184Z"
    }
   },
   "outputs": [],
   "source": [
    "d1 = pd.DataFrame( r.json(), columns = r.json()[0].keys() )"
   ]
  },
  {
   "cell_type": "code",
   "execution_count": 44,
   "id": "accepted-possession",
   "metadata": {
    "ExecuteTime": {
     "end_time": "2021-05-02T22:13:44.883007Z",
     "start_time": "2021-05-02T22:13:44.872217Z"
    }
   },
   "outputs": [
    {
     "name": "stdout",
     "output_type": "stream",
     "text": [
      "Store number 12 will sell R$280,066.79 in the next 6 weeks\n",
      "Store number 73 will sell R$249,288.18 in the next 6 weeks\n",
      "Store number 101 will sell R$278,787.43 in the next 6 weeks\n",
      "Store number 111 will sell R$422,255.87 in the next 6 weeks\n"
     ]
    }
   ],
   "source": [
    "d2 = d1[['store','prediction']].groupby( 'store').sum().reset_index()\n",
    "\n",
    "for i in range( len(d2 )):\n",
    "    print( 'Store number {} will sell R${:,.2f} in the next 6 weeks'.format(\n",
    "            d2.loc[i,'store'],\n",
    "            d2.loc[i,'prediction']) )"
   ]
  },
  {
   "cell_type": "code",
   "execution_count": 39,
   "id": "prescribed-promotion",
   "metadata": {
    "ExecuteTime": {
     "end_time": "2021-05-02T17:35:47.643085Z",
     "start_time": "2021-05-02T17:35:47.637484Z"
    }
   },
   "outputs": [
    {
     "data": {
      "text/html": [
       "<div>\n",
       "<style scoped>\n",
       "    .dataframe tbody tr th:only-of-type {\n",
       "        vertical-align: middle;\n",
       "    }\n",
       "\n",
       "    .dataframe tbody tr th {\n",
       "        vertical-align: top;\n",
       "    }\n",
       "\n",
       "    .dataframe thead th {\n",
       "        text-align: right;\n",
       "    }\n",
       "</style>\n",
       "<table border=\"1\" class=\"dataframe\">\n",
       "  <thead>\n",
       "    <tr style=\"text-align: right;\">\n",
       "      <th></th>\n",
       "      <th>store</th>\n",
       "      <th>prediction</th>\n",
       "    </tr>\n",
       "  </thead>\n",
       "  <tbody>\n",
       "    <tr>\n",
       "      <th>0</th>\n",
       "      <td>12</td>\n",
       "      <td>280066.79</td>\n",
       "    </tr>\n",
       "    <tr>\n",
       "      <th>1</th>\n",
       "      <td>73</td>\n",
       "      <td>249288.18</td>\n",
       "    </tr>\n",
       "    <tr>\n",
       "      <th>2</th>\n",
       "      <td>101</td>\n",
       "      <td>278787.43</td>\n",
       "    </tr>\n",
       "    <tr>\n",
       "      <th>3</th>\n",
       "      <td>111</td>\n",
       "      <td>422255.87</td>\n",
       "    </tr>\n",
       "  </tbody>\n",
       "</table>\n",
       "</div>"
      ],
      "text/plain": [
       "   store  prediction\n",
       "0     12   280066.79\n",
       "1     73   249288.18\n",
       "2    101   278787.43\n",
       "3    111   422255.87"
      ]
     },
     "execution_count": 39,
     "metadata": {},
     "output_type": "execute_result"
    }
   ],
   "source": [
    "d2"
   ]
  },
  {
   "cell_type": "code",
   "execution_count": null,
   "id": "peripheral-understanding",
   "metadata": {},
   "outputs": [],
   "source": []
  },
  {
   "cell_type": "code",
   "execution_count": null,
   "id": "enabling-problem",
   "metadata": {},
   "outputs": [],
   "source": []
  },
  {
   "cell_type": "code",
   "execution_count": null,
   "id": "filled-newport",
   "metadata": {},
   "outputs": [],
   "source": []
  }
 ],
 "metadata": {
  "kernelspec": {
   "display_name": "Python 3",
   "language": "python",
   "name": "python3"
  },
  "language_info": {
   "codemirror_mode": {
    "name": "ipython",
    "version": 3
   },
   "file_extension": ".py",
   "mimetype": "text/x-python",
   "name": "python",
   "nbconvert_exporter": "python",
   "pygments_lexer": "ipython3",
   "version": "3.8.0"
  }
 },
 "nbformat": 4,
 "nbformat_minor": 5
}
