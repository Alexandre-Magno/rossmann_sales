{
 "cells": [
  {
   "cell_type": "markdown",
   "id": "instructional-hotel",
   "metadata": {},
   "source": [
    "# 0.0 Imports "
   ]
  },
  {
   "cell_type": "code",
   "execution_count": 2,
   "id": "european-graham",
   "metadata": {
    "ExecuteTime": {
     "end_time": "2021-04-12T23:07:57.229126Z",
     "start_time": "2021-04-12T23:07:55.720770Z"
    }
   },
   "outputs": [],
   "source": [
    "import numpy   as np\n",
    "import pandas  as pd\n",
    "import seaborn as sns\n",
    "import xgboost as xgb\n",
    "\n",
    "import math\n",
    "import random\n",
    "import datetime\n",
    "import warnings\n",
    "import inflection\n",
    "\n",
    "\n",
    "from scipy                 import stats  as ss\n",
    "from boruta                import BorutaPy\n",
    "from sklearn               import svm\n",
    "from tabulate              import tabulate\n",
    "from catboost              import CatBoostRegressor\n",
    "from matplotlib            import pyplot as plt\n",
    "from sklearn.metrics       import mean_absolute_percentage_error,mean_absolute_error, mean_squared_error\n",
    "from IPython.display       import Image\n",
    "from sklearn.ensemble      import RandomForestRegressor\n",
    "from sklearn.neighbors     import KNeighborsRegressor\n",
    "from sklearn.linear_model  import LinearRegression,Lasso\n",
    "from IPython.core.display  import HTML\n",
    "from sklearn.preprocessing import RobustScaler,MinMaxScaler,LabelEncoder\n"
   ]
  },
  {
   "cell_type": "markdown",
   "id": "remarkable-democracy",
   "metadata": {},
   "source": [
    "## 0.1 Loading Data"
   ]
  },
  {
   "cell_type": "code",
   "execution_count": 3,
   "id": "featured-setup",
   "metadata": {
    "ExecuteTime": {
     "end_time": "2021-04-12T23:07:57.922874Z",
     "start_time": "2021-04-12T23:07:57.230152Z"
    }
   },
   "outputs": [],
   "source": [
    "df_store_raw = pd.read_csv('Data/store.csv', low_memory = False )\n",
    "\n",
    "df_train_raw = pd.read_csv('Data/train.csv' , low_memory = False )\n",
    "\n",
    "#merge\n",
    "df_raw = pd.merge( df_train_raw , df_store_raw, how = 'left', on='Store')"
   ]
  },
  {
   "cell_type": "markdown",
   "id": "charming-tattoo",
   "metadata": {},
   "source": [
    "## 0.2 Helper Functions "
   ]
  },
  {
   "cell_type": "code",
   "execution_count": 4,
   "id": "silent-damages",
   "metadata": {
    "ExecuteTime": {
     "end_time": "2021-04-12T23:07:58.619176Z",
     "start_time": "2021-04-12T23:07:58.609571Z"
    }
   },
   "outputs": [],
   "source": [
    "def jupyter_settings():\n",
    "    %matplotlib inline\n",
    "    %pylab inline\n",
    " \n",
    "    plt.style.use( 'bmh' )\n",
    "    plt.rcParams['figure.figsize'] = [20,10]\n",
    "    plt.rcParams['font.size'] = 24\n",
    "  \n",
    "    display( HTML( '<style>.container { width:100% !important; }</style>') )\n",
    "    pd.options.display.max_columns = None\n",
    "    pd.options.display.max_rows = None\n",
    "    pd.set_option( 'display.expand_frame_repr', False )\n",
    "  \n",
    "    sns.set()\n",
    "def cramer_v( x, y ):\n",
    "    cm = pd.crosstab( x, y ).to_numpy()\n",
    "    n = cm.sum()\n",
    "    r, k = cm.shape\n",
    "    \n",
    "    chi2 = ss.chi2_contingency( cm )[0]\n",
    "    chi2corr = max( 0, chi2 - (k-1)*(r-1)/(n-1) )\n",
    "    \n",
    "    kcorr = k - (k-1)**2/(n-1)\n",
    "    rcorr = r - (r-1)**2/(n-1)\n",
    "    \n",
    "    return np.sqrt( (chi2corr/n) / ( min( kcorr-1, rcorr-1 ) ) )\n",
    "    \n",
    "   "
   ]
  },
  {
   "cell_type": "code",
   "execution_count": 5,
   "id": "desperate-disco",
   "metadata": {
    "ExecuteTime": {
     "end_time": "2021-04-12T23:07:59.048680Z",
     "start_time": "2021-04-12T23:07:59.042597Z"
    }
   },
   "outputs": [],
   "source": [
    "def mape2( y, yhat ):\n",
    "    return np.mean( np.abs( (y - yhat) / y ) )\n",
    "\n",
    "def mpe2( y, yhat ):\n",
    "    return np.mean(  (y - yhat) / y ) \n",
    "\n",
    "def ml_error( model, y , yhat):\n",
    "    mae  = np.round( mean_absolute_error( y , yhat) , 2 ) \n",
    "    mape = np.round( mape2( y , yhat ) , 2)\n",
    "    rmse = np.round( np.sqrt( mean_squared_error(y , yhat ) ) , 2)\n",
    "    mpe  = np.round( mpe2( y, yhat ) , 2 )\n",
    "    \n",
    "    return pd.DataFrame( {'Model Name': model,\n",
    "                          'MAE': mae,\n",
    "                          'MAPE': mape,\n",
    "                          'RMSE': rmse,\n",
    "                          'MPE': mpe}, index=[0])\n",
    "    \n",
    "    "
   ]
  },
  {
   "cell_type": "code",
   "execution_count": 6,
   "id": "square-router",
   "metadata": {
    "ExecuteTime": {
     "end_time": "2021-04-12T23:07:59.392524Z",
     "start_time": "2021-04-12T23:07:59.387162Z"
    }
   },
   "outputs": [],
   "source": [
    "def get_model_performance(models, x_train,y_train,x_test,y_test):\n",
    "    \n",
    "    #create dataframe\n",
    "    df_performance = pd.DataFrame()\n",
    "    \n",
    "    for model in models:\n",
    "        \n",
    "        print(\"Training \" + type(model).__name__ + \" ...\")\n",
    "        \n",
    "        #fit model\n",
    "        model.fit( x_train, y_train )\n",
    "        \n",
    "        #prediction\n",
    "        yhat = model.predict( x_test )\n",
    "        \n",
    "        #performance\n",
    "        df = ml_error(type(model).__name__ , np.expm1( y_test ), np.expm1( yhat ) )\n",
    "        \n",
    "        #concat\n",
    "        df_performance = pd.concat( [df_performance, df ] )\n",
    "        \n",
    "        #reset index\n",
    "        df_performance = df_performance.reset_index()\n",
    "        \n",
    "        # drops index\n",
    "        df_performance.drop('index', axis=1, inplace=True)\n",
    "        \n",
    "\n",
    "        \n",
    "    return df_performance, yhat\n"
   ]
  },
  {
   "cell_type": "code",
   "execution_count": 7,
   "id": "incorporate-highland",
   "metadata": {
    "ExecuteTime": {
     "end_time": "2021-04-12T23:07:59.788952Z",
     "start_time": "2021-04-12T23:07:59.773601Z"
    }
   },
   "outputs": [],
   "source": [
    "def models_cross_validation(models, x_training):\n",
    "    \n",
    "    df_performance = pd.DataFrame()\n",
    "    \n",
    "    for model in models:\n",
    "    \n",
    "        print(\"Training... \" +type(model).__name__ + \"...\" )\n",
    "        mae  = []\n",
    "        mape = []\n",
    "        rmse = []\n",
    "        for k in reversed(range(1 , 6 ) ):\n",
    "\n",
    "\n",
    "            print(\"Iteration {}\".format( k ))\n",
    "\n",
    "            valid_start = x_training['date'].max() - datetime.timedelta( days = k*6*7)\n",
    "            valid_end = x_training['date'].max() - datetime.timedelta( days = (k-1)*6*7)\n",
    "\n",
    "            #filtering dataset\n",
    "            training = x_training[x_training['date'] < valid_start]\n",
    "            validation = x_training[ ( x_training['date'] >=valid_start ) & ( x_training['date'] <= valid_end ) ]\n",
    "\n",
    "            #train and validation dataset\n",
    "            #training\n",
    "            xtrain = training.drop( ['date','sales'], axis=1 )\n",
    "            ytrain = training['sales']\n",
    "\n",
    "            #validation\n",
    "            xvalid = validation.drop( [ 'date','sales'], axis=1)\n",
    "            yvalid = validation['sales']\n",
    "\n",
    "            #model\n",
    "            model.fit( xtrain, ytrain )\n",
    "\n",
    "            #predict\n",
    "            yhat = model.predict( xvalid)\n",
    "\n",
    "            #performance\n",
    "            df = ml_error((type(model).__name__  + \"  KFold: {}\".format(k) ), np.expm1( yvalid ), np.expm1( yhat ) )\n",
    "            \n",
    "            mae.append( df['MAE'] )\n",
    "            mape.append( df['MAPE'] )\n",
    "            rmse.append( df['RMSE'] )\n",
    "            #concat\n",
    "            df_performance = pd.concat( [df_performance, df ] )\n",
    "\n",
    "            #reset index\n",
    "            df_performance = df_performance.reset_index()\n",
    "\n",
    "            # drops index\n",
    "            df_performance.drop('index', axis=1, inplace=True)\n",
    "        \n",
    "        mae_cv  = np.round( np.mean( mae ) , 2 ).astype( str ) + ' +/- ' + np.round( np.std( mae ) , 2 ).astype( str )\n",
    "        mape_cv = np.round( np.mean( mape ), 2 ).astype( str ) + ' +/- ' + np.round( np.std( mape ) , 2 ).astype( str )\n",
    "        rmse_cv = np.round( np.mean( rmse ), 2 ).astype( str ) + \" +/- \" + np.round( np.std( rmse ) , 2 ).astype( str )\n",
    "        \n",
    "        df_cv =  pd.DataFrame( {\n",
    "        'Model Name': ( type(model).__name__ + \" - Cross-Validation \"),    \n",
    "        'MAE':mae_cv ,\n",
    "        'MAPE':mape_cv  ,\n",
    "        'RMSE':rmse_cv }\n",
    "            , index=[0])\n",
    "    \n",
    "        #concat\n",
    "        df_performance = pd.concat( [df_performance, df_cv ] )\n",
    "        \n",
    "        #reset index\n",
    "        df_performance = df_performance.reset_index()\n",
    "\n",
    "        # drops index\n",
    "        df_performance.drop('index', axis=1, inplace=True)\n",
    "\n",
    "    \n",
    "    return df_performance\n"
   ]
  },
  {
   "cell_type": "code",
   "execution_count": 8,
   "id": "illegal-couple",
   "metadata": {
    "ExecuteTime": {
     "end_time": "2021-04-12T23:08:00.589995Z",
     "start_time": "2021-04-12T23:08:00.578486Z"
    }
   },
   "outputs": [
    {
     "name": "stdout",
     "output_type": "stream",
     "text": [
      "Populating the interactive namespace from numpy and matplotlib\n"
     ]
    },
    {
     "name": "stderr",
     "output_type": "stream",
     "text": [
      "/home/alexandremagno/.pyenv/versions/3.8.0/envs/rossmann_sales/lib/python3.8/site-packages/IPython/core/magics/pylab.py:159: UserWarning: pylab import has clobbered these variables: ['random']\n",
      "`%matplotlib` prevents importing * from pylab and numpy\n",
      "  warn(\"pylab import has clobbered these variables: %s\"  % clobbered +\n"
     ]
    },
    {
     "data": {
      "text/html": [
       "<style>.container { width:100% !important; }</style>"
      ],
      "text/plain": [
       "<IPython.core.display.HTML object>"
      ]
     },
     "metadata": {},
     "output_type": "display_data"
    }
   ],
   "source": [
    "jupyter_settings()\n",
    "warnings.filterwarnings('ignore')\n",
    "pd.set_option('display.float_format', lambda x: '%.2f' % x)"
   ]
  },
  {
   "cell_type": "markdown",
   "id": "attempted-soviet",
   "metadata": {
    "heading_collapsed": true
   },
   "source": [
    "# 1.0 Data Description"
   ]
  },
  {
   "cell_type": "code",
   "execution_count": 8,
   "id": "nervous-burst",
   "metadata": {
    "ExecuteTime": {
     "end_time": "2021-04-12T22:46:25.378395Z",
     "start_time": "2021-04-12T22:46:25.339063Z"
    },
    "hidden": true
   },
   "outputs": [],
   "source": [
    "df1 = df_raw.copy()"
   ]
  },
  {
   "cell_type": "markdown",
   "id": "demographic-solution",
   "metadata": {
    "heading_collapsed": true,
    "hidden": true
   },
   "source": [
    "## 1.1 Rename Columns "
   ]
  },
  {
   "cell_type": "code",
   "execution_count": 9,
   "id": "endless-working",
   "metadata": {
    "ExecuteTime": {
     "end_time": "2021-04-12T22:46:25.734027Z",
     "start_time": "2021-04-12T22:46:25.730934Z"
    },
    "hidden": true
   },
   "outputs": [
    {
     "data": {
      "text/plain": [
       "Index(['Store', 'DayOfWeek', 'Date', 'Sales', 'Customers', 'Open', 'Promo',\n",
       "       'StateHoliday', 'SchoolHoliday', 'StoreType', 'Assortment',\n",
       "       'CompetitionDistance', 'CompetitionOpenSinceMonth',\n",
       "       'CompetitionOpenSinceYear', 'Promo2', 'Promo2SinceWeek',\n",
       "       'Promo2SinceYear', 'PromoInterval'],\n",
       "      dtype='object')"
      ]
     },
     "execution_count": 9,
     "metadata": {},
     "output_type": "execute_result"
    }
   ],
   "source": [
    "df1.columns"
   ]
  },
  {
   "cell_type": "code",
   "execution_count": 10,
   "id": "legendary-divorce",
   "metadata": {
    "ExecuteTime": {
     "end_time": "2021-04-12T22:46:25.951855Z",
     "start_time": "2021-04-12T22:46:25.947249Z"
    },
    "hidden": true
   },
   "outputs": [
    {
     "data": {
      "text/plain": [
       "Index(['store', 'day_of_week', 'date', 'sales', 'customers', 'open', 'promo',\n",
       "       'state_holiday', 'school_holiday', 'store_type', 'assortment',\n",
       "       'competition_distance', 'competition_open_since_month',\n",
       "       'competition_open_since_year', 'promo2', 'promo2_since_week',\n",
       "       'promo2_since_year', 'promo_interval'],\n",
       "      dtype='object')"
      ]
     },
     "execution_count": 10,
     "metadata": {},
     "output_type": "execute_result"
    }
   ],
   "source": [
    "cols_old = ['Store', 'DayOfWeek', 'Date', 'Sales', 'Customers', 'Open', 'Promo',\n",
    "       'StateHoliday', 'SchoolHoliday', 'StoreType', 'Assortment',\n",
    "       'CompetitionDistance', 'CompetitionOpenSinceMonth',\n",
    "       'CompetitionOpenSinceYear', 'Promo2', 'Promo2SinceWeek',\n",
    "       'Promo2SinceYear', 'PromoInterval']\n",
    "\n",
    "snakecase = lambda x: inflection.underscore( x )\n",
    "\n",
    "cols_new = list( map( snakecase, cols_old ) )\n",
    "\n",
    "df1.columns = cols_new\n",
    "\n",
    "df1.columns\n"
   ]
  },
  {
   "cell_type": "markdown",
   "id": "clinical-plastic",
   "metadata": {
    "hidden": true
   },
   "source": [
    "## 1.2 Data Dimensions "
   ]
  },
  {
   "cell_type": "code",
   "execution_count": 11,
   "id": "breeding-transfer",
   "metadata": {
    "ExecuteTime": {
     "end_time": "2021-04-12T22:46:26.429700Z",
     "start_time": "2021-04-12T22:46:26.426212Z"
    },
    "hidden": true
   },
   "outputs": [
    {
     "name": "stdout",
     "output_type": "stream",
     "text": [
      " Number of rows 1017209\n",
      " Number of cols 18\n"
     ]
    }
   ],
   "source": [
    "print(\" Number of rows {}\".format( df1.shape[0] ) )\n",
    "print(\" Number of cols {}\".format( df1.shape[1] ) )"
   ]
  },
  {
   "cell_type": "markdown",
   "id": "mobile-makeup",
   "metadata": {
    "heading_collapsed": true,
    "hidden": true
   },
   "source": [
    "## 1.3 Data Types "
   ]
  },
  {
   "cell_type": "code",
   "execution_count": 12,
   "id": "anticipated-slave",
   "metadata": {
    "ExecuteTime": {
     "end_time": "2021-04-12T22:46:26.870012Z",
     "start_time": "2021-04-12T22:46:26.866325Z"
    },
    "hidden": true
   },
   "outputs": [
    {
     "data": {
      "text/plain": [
       "store                             int64\n",
       "day_of_week                       int64\n",
       "date                             object\n",
       "sales                             int64\n",
       "customers                         int64\n",
       "open                              int64\n",
       "promo                             int64\n",
       "state_holiday                    object\n",
       "school_holiday                    int64\n",
       "store_type                       object\n",
       "assortment                       object\n",
       "competition_distance            float64\n",
       "competition_open_since_month    float64\n",
       "competition_open_since_year     float64\n",
       "promo2                            int64\n",
       "promo2_since_week               float64\n",
       "promo2_since_year               float64\n",
       "promo_interval                   object\n",
       "dtype: object"
      ]
     },
     "execution_count": 12,
     "metadata": {},
     "output_type": "execute_result"
    }
   ],
   "source": [
    "df1.dtypes"
   ]
  },
  {
   "cell_type": "markdown",
   "id": "certain-territory",
   "metadata": {
    "hidden": true
   },
   "source": [
    "Let's change the date variable to the datetime type"
   ]
  },
  {
   "cell_type": "code",
   "execution_count": 13,
   "id": "opening-shadow",
   "metadata": {
    "ExecuteTime": {
     "end_time": "2021-04-12T22:46:27.470775Z",
     "start_time": "2021-04-12T22:46:27.338783Z"
    },
    "hidden": true
   },
   "outputs": [
    {
     "data": {
      "text/plain": [
       "store                                    int64\n",
       "day_of_week                              int64\n",
       "date                            datetime64[ns]\n",
       "sales                                    int64\n",
       "customers                                int64\n",
       "open                                     int64\n",
       "promo                                    int64\n",
       "state_holiday                           object\n",
       "school_holiday                           int64\n",
       "store_type                              object\n",
       "assortment                              object\n",
       "competition_distance                   float64\n",
       "competition_open_since_month           float64\n",
       "competition_open_since_year            float64\n",
       "promo2                                   int64\n",
       "promo2_since_week                      float64\n",
       "promo2_since_year                      float64\n",
       "promo_interval                          object\n",
       "dtype: object"
      ]
     },
     "execution_count": 13,
     "metadata": {},
     "output_type": "execute_result"
    }
   ],
   "source": [
    "df1['date'] = pd.to_datetime( df1['date'] )\n",
    "df1.dtypes"
   ]
  },
  {
   "cell_type": "markdown",
   "id": "electoral-citizen",
   "metadata": {
    "heading_collapsed": true,
    "hidden": true
   },
   "source": [
    "## 1.4. Check NA"
   ]
  },
  {
   "cell_type": "code",
   "execution_count": 14,
   "id": "turkish-bullet",
   "metadata": {
    "ExecuteTime": {
     "end_time": "2021-04-12T22:46:27.942878Z",
     "start_time": "2021-04-12T22:46:27.802676Z"
    },
    "hidden": true
   },
   "outputs": [
    {
     "data": {
      "text/plain": [
       "store                                0\n",
       "day_of_week                          0\n",
       "date                                 0\n",
       "sales                                0\n",
       "customers                            0\n",
       "open                                 0\n",
       "promo                                0\n",
       "state_holiday                        0\n",
       "school_holiday                       0\n",
       "store_type                           0\n",
       "assortment                           0\n",
       "competition_distance              2642\n",
       "competition_open_since_month    323348\n",
       "competition_open_since_year     323348\n",
       "promo2                               0\n",
       "promo2_since_week               508031\n",
       "promo2_since_year               508031\n",
       "promo_interval                  508031\n",
       "dtype: int64"
      ]
     },
     "execution_count": 14,
     "metadata": {},
     "output_type": "execute_result"
    }
   ],
   "source": [
    "df1.isna().sum()"
   ]
  },
  {
   "cell_type": "markdown",
   "id": "therapeutic-exchange",
   "metadata": {
    "heading_collapsed": true,
    "hidden": true
   },
   "source": [
    "## 1.5 Fillout NA"
   ]
  },
  {
   "cell_type": "markdown",
   "id": "engaged-backup",
   "metadata": {
    "hidden": true
   },
   "source": [
    "In **competition distance** I will assume that for NA values it is because there is no competitor around so I will put a much higher value than the maximum.\n"
   ]
  },
  {
   "cell_type": "code",
   "execution_count": 15,
   "id": "robust-interim",
   "metadata": {
    "ExecuteTime": {
     "end_time": "2021-04-12T22:47:32.424004Z",
     "start_time": "2021-04-12T22:46:28.470964Z"
    },
    "hidden": true
   },
   "outputs": [],
   "source": [
    "# competition_distance              \n",
    "df1['competition_distance'] = df1['competition_distance'].apply(lambda x: 200000.0 if math.isnan( x ) else x )\n",
    "\n",
    "# competition_open_since_month    \n",
    "df1['competition_open_since_month'] = df1.apply(lambda x: x['date'].month if math.isnan( x['competition_open_since_month'] ) else x['competition_open_since_month'] , axis =1 )\n",
    "\n",
    "\n",
    "# competition_open_since_year     \n",
    "\n",
    "df1['competition_open_since_year'] = df1.apply(lambda x: x['date'].year if math.isnan( x['competition_open_since_year'] ) else x['competition_open_since_year'] , axis =1 )\n",
    "\n",
    "#promo2_since_week                               \n",
    "df1['promo2_since_week'] = df1.apply(lambda x: x['date'].week if math.isnan( x['promo2_since_week'] ) else x['promo2_since_week'] , axis =1 )\n",
    "\n",
    "# promo2_since_year               \n",
    "df1['promo2_since_year'] = df1.apply(lambda x: x['date'].year if math.isnan( x['promo2_since_year'] ) else x['promo2_since_year'] , axis =1 )\n",
    "\n",
    "# promo_interval                  \n",
    "month_map = {1:  'Jan', 2:  'Feb',3:  'Mar', 4:  'Apr', 5:  'May', 6:  'Jun', 7:  'Jul', 8:  'Aug', 9:  'Sep', 10: 'Oct', 11: 'Nov', 12: 'Dec'} \n",
    "\n",
    "df1['promo_interval'].fillna(0 , inplace=True)\n",
    "\n",
    "df1['month_map'] = df1['date'].dt.month.map( month_map )\n",
    "\n",
    "df1['is_promo'] = df1[['promo_interval','month_map']].apply(lambda x: 0 if x['promo_interval'] == 0 else 1 if x['month_map'] in x ['promo_interval'].split( ',' ) else 0 , axis = 1 )\n",
    "\n",
    "\n",
    "\n",
    "\n"
   ]
  },
  {
   "cell_type": "code",
   "execution_count": 16,
   "id": "annoying-devil",
   "metadata": {
    "ExecuteTime": {
     "end_time": "2021-04-12T22:47:32.575911Z",
     "start_time": "2021-04-12T22:47:32.425342Z"
    },
    "hidden": true
   },
   "outputs": [
    {
     "data": {
      "text/plain": [
       "store                           0\n",
       "day_of_week                     0\n",
       "date                            0\n",
       "sales                           0\n",
       "customers                       0\n",
       "open                            0\n",
       "promo                           0\n",
       "state_holiday                   0\n",
       "school_holiday                  0\n",
       "store_type                      0\n",
       "assortment                      0\n",
       "competition_distance            0\n",
       "competition_open_since_month    0\n",
       "competition_open_since_year     0\n",
       "promo2                          0\n",
       "promo2_since_week               0\n",
       "promo2_since_year               0\n",
       "promo_interval                  0\n",
       "month_map                       0\n",
       "is_promo                        0\n",
       "dtype: int64"
      ]
     },
     "execution_count": 16,
     "metadata": {},
     "output_type": "execute_result"
    }
   ],
   "source": [
    "df1.isna().sum()"
   ]
  },
  {
   "cell_type": "markdown",
   "id": "applied-party",
   "metadata": {
    "hidden": true
   },
   "source": [
    "As observed, we treat all NA in dataset"
   ]
  },
  {
   "cell_type": "markdown",
   "id": "joint-commerce",
   "metadata": {
    "ExecuteTime": {
     "end_time": "2021-04-01T16:06:49.883832Z",
     "start_time": "2021-04-01T16:06:49.880065Z"
    },
    "heading_collapsed": true,
    "hidden": true
   },
   "source": [
    "## 1.6 Change Types "
   ]
  },
  {
   "cell_type": "code",
   "execution_count": 17,
   "id": "elect-perry",
   "metadata": {
    "ExecuteTime": {
     "end_time": "2021-04-12T22:47:32.607301Z",
     "start_time": "2021-04-12T22:47:32.577272Z"
    },
    "hidden": true
   },
   "outputs": [],
   "source": [
    "df1['competition_open_since_month'] = df1['competition_open_since_month'].astype( int )\n",
    "\n",
    "df1['competition_open_since_year'] = df1['competition_open_since_year'].astype( int )\n",
    "\n",
    "df1['promo2_since_week'] = df1['promo2_since_week'].astype( int )\n",
    "df1['promo2_since_year'] = df1['promo2_since_year'].astype( int )\n",
    "\n"
   ]
  },
  {
   "cell_type": "markdown",
   "id": "laughing-inspection",
   "metadata": {
    "ExecuteTime": {
     "end_time": "2021-04-01T16:06:49.883832Z",
     "start_time": "2021-04-01T16:06:49.880065Z"
    },
    "heading_collapsed": true,
    "hidden": true
   },
   "source": [
    "## 1.7 Descriptive Statistical "
   ]
  },
  {
   "cell_type": "code",
   "execution_count": 18,
   "id": "bridal-letter",
   "metadata": {
    "ExecuteTime": {
     "end_time": "2021-04-12T22:47:32.699723Z",
     "start_time": "2021-04-12T22:47:32.608492Z"
    },
    "hidden": true
   },
   "outputs": [],
   "source": [
    "num_att = df1.select_dtypes( include = ['int64' , 'float64'] )\n",
    "cat_att = df1.select_dtypes( exclude = ['int64' , 'float64', 'datetime64[ns]'] )\n"
   ]
  },
  {
   "cell_type": "markdown",
   "id": "thermal-candle",
   "metadata": {
    "ExecuteTime": {
     "end_time": "2021-04-01T16:16:54.382050Z",
     "start_time": "2021-04-01T16:16:54.341604Z"
    },
    "heading_collapsed": true,
    "hidden": true
   },
   "source": [
    "### 1.7.1 Numerical Attributes "
   ]
  },
  {
   "cell_type": "code",
   "execution_count": 19,
   "id": "rental-lending",
   "metadata": {
    "ExecuteTime": {
     "end_time": "2021-04-12T22:47:36.461742Z",
     "start_time": "2021-04-12T22:47:32.700621Z"
    },
    "hidden": true
   },
   "outputs": [
    {
     "data": {
      "text/html": [
       "<div>\n",
       "<style scoped>\n",
       "    .dataframe tbody tr th:only-of-type {\n",
       "        vertical-align: middle;\n",
       "    }\n",
       "\n",
       "    .dataframe tbody tr th {\n",
       "        vertical-align: top;\n",
       "    }\n",
       "\n",
       "    .dataframe thead th {\n",
       "        text-align: right;\n",
       "    }\n",
       "</style>\n",
       "<table border=\"1\" class=\"dataframe\">\n",
       "  <thead>\n",
       "    <tr style=\"text-align: right;\">\n",
       "      <th></th>\n",
       "      <th>attributes</th>\n",
       "      <th>min</th>\n",
       "      <th>max</th>\n",
       "      <th>range</th>\n",
       "      <th>mean</th>\n",
       "      <th>median</th>\n",
       "      <th>std</th>\n",
       "      <th>skew</th>\n",
       "      <th>kurtosis</th>\n",
       "    </tr>\n",
       "  </thead>\n",
       "  <tbody>\n",
       "    <tr>\n",
       "      <th>0</th>\n",
       "      <td>store</td>\n",
       "      <td>1.00</td>\n",
       "      <td>1115.00</td>\n",
       "      <td>1114.00</td>\n",
       "      <td>558.43</td>\n",
       "      <td>558.00</td>\n",
       "      <td>321.91</td>\n",
       "      <td>-0.00</td>\n",
       "      <td>-1.20</td>\n",
       "    </tr>\n",
       "    <tr>\n",
       "      <th>1</th>\n",
       "      <td>day_of_week</td>\n",
       "      <td>1.00</td>\n",
       "      <td>7.00</td>\n",
       "      <td>6.00</td>\n",
       "      <td>4.00</td>\n",
       "      <td>4.00</td>\n",
       "      <td>2.00</td>\n",
       "      <td>0.00</td>\n",
       "      <td>-1.25</td>\n",
       "    </tr>\n",
       "    <tr>\n",
       "      <th>2</th>\n",
       "      <td>sales</td>\n",
       "      <td>0.00</td>\n",
       "      <td>41551.00</td>\n",
       "      <td>41551.00</td>\n",
       "      <td>5773.82</td>\n",
       "      <td>5744.00</td>\n",
       "      <td>3849.92</td>\n",
       "      <td>0.64</td>\n",
       "      <td>1.78</td>\n",
       "    </tr>\n",
       "    <tr>\n",
       "      <th>3</th>\n",
       "      <td>customers</td>\n",
       "      <td>0.00</td>\n",
       "      <td>7388.00</td>\n",
       "      <td>7388.00</td>\n",
       "      <td>633.15</td>\n",
       "      <td>609.00</td>\n",
       "      <td>464.41</td>\n",
       "      <td>1.60</td>\n",
       "      <td>7.09</td>\n",
       "    </tr>\n",
       "    <tr>\n",
       "      <th>4</th>\n",
       "      <td>open</td>\n",
       "      <td>0.00</td>\n",
       "      <td>1.00</td>\n",
       "      <td>1.00</td>\n",
       "      <td>0.83</td>\n",
       "      <td>1.00</td>\n",
       "      <td>0.38</td>\n",
       "      <td>-1.76</td>\n",
       "      <td>1.09</td>\n",
       "    </tr>\n",
       "    <tr>\n",
       "      <th>5</th>\n",
       "      <td>promo</td>\n",
       "      <td>0.00</td>\n",
       "      <td>1.00</td>\n",
       "      <td>1.00</td>\n",
       "      <td>0.38</td>\n",
       "      <td>0.00</td>\n",
       "      <td>0.49</td>\n",
       "      <td>0.49</td>\n",
       "      <td>-1.76</td>\n",
       "    </tr>\n",
       "    <tr>\n",
       "      <th>6</th>\n",
       "      <td>school_holiday</td>\n",
       "      <td>0.00</td>\n",
       "      <td>1.00</td>\n",
       "      <td>1.00</td>\n",
       "      <td>0.18</td>\n",
       "      <td>0.00</td>\n",
       "      <td>0.38</td>\n",
       "      <td>1.68</td>\n",
       "      <td>0.82</td>\n",
       "    </tr>\n",
       "    <tr>\n",
       "      <th>7</th>\n",
       "      <td>competition_distance</td>\n",
       "      <td>20.00</td>\n",
       "      <td>200000.00</td>\n",
       "      <td>199980.00</td>\n",
       "      <td>5935.44</td>\n",
       "      <td>2330.00</td>\n",
       "      <td>12547.65</td>\n",
       "      <td>10.24</td>\n",
       "      <td>147.79</td>\n",
       "    </tr>\n",
       "    <tr>\n",
       "      <th>8</th>\n",
       "      <td>competition_open_since_month</td>\n",
       "      <td>1.00</td>\n",
       "      <td>12.00</td>\n",
       "      <td>11.00</td>\n",
       "      <td>6.79</td>\n",
       "      <td>7.00</td>\n",
       "      <td>3.31</td>\n",
       "      <td>-0.04</td>\n",
       "      <td>-1.23</td>\n",
       "    </tr>\n",
       "    <tr>\n",
       "      <th>9</th>\n",
       "      <td>competition_open_since_year</td>\n",
       "      <td>1900.00</td>\n",
       "      <td>2015.00</td>\n",
       "      <td>115.00</td>\n",
       "      <td>2010.32</td>\n",
       "      <td>2012.00</td>\n",
       "      <td>5.52</td>\n",
       "      <td>-7.24</td>\n",
       "      <td>124.07</td>\n",
       "    </tr>\n",
       "    <tr>\n",
       "      <th>10</th>\n",
       "      <td>promo2</td>\n",
       "      <td>0.00</td>\n",
       "      <td>1.00</td>\n",
       "      <td>1.00</td>\n",
       "      <td>0.50</td>\n",
       "      <td>1.00</td>\n",
       "      <td>0.50</td>\n",
       "      <td>-0.00</td>\n",
       "      <td>-2.00</td>\n",
       "    </tr>\n",
       "    <tr>\n",
       "      <th>11</th>\n",
       "      <td>promo2_since_week</td>\n",
       "      <td>1.00</td>\n",
       "      <td>52.00</td>\n",
       "      <td>51.00</td>\n",
       "      <td>23.62</td>\n",
       "      <td>22.00</td>\n",
       "      <td>14.31</td>\n",
       "      <td>0.18</td>\n",
       "      <td>-1.18</td>\n",
       "    </tr>\n",
       "    <tr>\n",
       "      <th>12</th>\n",
       "      <td>promo2_since_year</td>\n",
       "      <td>2009.00</td>\n",
       "      <td>2015.00</td>\n",
       "      <td>6.00</td>\n",
       "      <td>2012.79</td>\n",
       "      <td>2013.00</td>\n",
       "      <td>1.66</td>\n",
       "      <td>-0.78</td>\n",
       "      <td>-0.21</td>\n",
       "    </tr>\n",
       "    <tr>\n",
       "      <th>13</th>\n",
       "      <td>is_promo</td>\n",
       "      <td>0.00</td>\n",
       "      <td>1.00</td>\n",
       "      <td>1.00</td>\n",
       "      <td>0.17</td>\n",
       "      <td>0.00</td>\n",
       "      <td>0.37</td>\n",
       "      <td>1.80</td>\n",
       "      <td>1.22</td>\n",
       "    </tr>\n",
       "  </tbody>\n",
       "</table>\n",
       "</div>"
      ],
      "text/plain": [
       "                      attributes     min       max     range    mean  median      std  skew  kurtosis\n",
       "0                          store    1.00   1115.00   1114.00  558.43  558.00   321.91 -0.00     -1.20\n",
       "1                    day_of_week    1.00      7.00      6.00    4.00    4.00     2.00  0.00     -1.25\n",
       "2                          sales    0.00  41551.00  41551.00 5773.82 5744.00  3849.92  0.64      1.78\n",
       "3                      customers    0.00   7388.00   7388.00  633.15  609.00   464.41  1.60      7.09\n",
       "4                           open    0.00      1.00      1.00    0.83    1.00     0.38 -1.76      1.09\n",
       "5                          promo    0.00      1.00      1.00    0.38    0.00     0.49  0.49     -1.76\n",
       "6                 school_holiday    0.00      1.00      1.00    0.18    0.00     0.38  1.68      0.82\n",
       "7           competition_distance   20.00 200000.00 199980.00 5935.44 2330.00 12547.65 10.24    147.79\n",
       "8   competition_open_since_month    1.00     12.00     11.00    6.79    7.00     3.31 -0.04     -1.23\n",
       "9    competition_open_since_year 1900.00   2015.00    115.00 2010.32 2012.00     5.52 -7.24    124.07\n",
       "10                        promo2    0.00      1.00      1.00    0.50    1.00     0.50 -0.00     -2.00\n",
       "11             promo2_since_week    1.00     52.00     51.00   23.62   22.00    14.31  0.18     -1.18\n",
       "12             promo2_since_year 2009.00   2015.00      6.00 2012.79 2013.00     1.66 -0.78     -0.21\n",
       "13                      is_promo    0.00      1.00      1.00    0.17    0.00     0.37  1.80      1.22"
      ]
     },
     "execution_count": 19,
     "metadata": {},
     "output_type": "execute_result"
    }
   ],
   "source": [
    "#central tendency - mean, meadian\n",
    "\n",
    "ct1 = pd.DataFrame( num_att.apply( np.mean ) ).T\n",
    "ct2 = pd.DataFrame( num_att.apply( np.median ) ).T\n",
    "\n",
    "#Dispersion -std, min , max , range , skew ,kurtosis\n",
    "d1 = pd.DataFrame( num_att.apply( np.std ) ).T\n",
    "d2 = pd.DataFrame( num_att.apply( min ) ).T\n",
    "d3 = pd.DataFrame( num_att.apply( max ) ).T\n",
    "d4 = pd.DataFrame( num_att.apply( lambda x : x.max() - x.min() ) ).T\n",
    "d5 = pd.DataFrame( num_att.apply( lambda x : x.skew() ) ).T\n",
    "d6 = pd.DataFrame( num_att.apply( lambda x : x.kurtosis() ) ).T\n",
    "\n",
    "\n",
    "#concat\n",
    "m = pd.concat( [d2 , d3 , d4,ct1 , ct2 ,d1,d5 ,d6]).T.reset_index()\n",
    "m.columns = ['attributes' , 'min' , 'max' , 'range' ,'mean' ,'median' , 'std', 'skew' , 'kurtosis']\n",
    "\n",
    "m\n"
   ]
  },
  {
   "cell_type": "markdown",
   "id": "distributed-reaction",
   "metadata": {
    "ExecuteTime": {
     "end_time": "2021-04-01T16:16:54.382050Z",
     "start_time": "2021-04-01T16:16:54.341604Z"
    },
    "heading_collapsed": true,
    "hidden": true
   },
   "source": [
    "### 1.7.2 Categorical Attributes "
   ]
  },
  {
   "cell_type": "code",
   "execution_count": 20,
   "id": "joint-rating",
   "metadata": {
    "ExecuteTime": {
     "end_time": "2021-04-12T22:47:36.595612Z",
     "start_time": "2021-04-12T22:47:36.462869Z"
    },
    "hidden": true
   },
   "outputs": [
    {
     "data": {
      "text/plain": [
       "state_holiday      4\n",
       "store_type         4\n",
       "assortment         3\n",
       "promo_interval     4\n",
       "month_map         12\n",
       "dtype: int64"
      ]
     },
     "execution_count": 20,
     "metadata": {},
     "output_type": "execute_result"
    }
   ],
   "source": [
    "cat_att.apply( lambda x: x.unique().shape[0] )"
   ]
  },
  {
   "cell_type": "code",
   "execution_count": 21,
   "id": "signed-surge",
   "metadata": {
    "ExecuteTime": {
     "end_time": "2021-04-12T22:47:37.021279Z",
     "start_time": "2021-04-12T22:47:36.596550Z"
    },
    "hidden": true,
    "hide_input": false
   },
   "outputs": [
    {
     "data": {
      "text/plain": [
       "<AxesSubplot:xlabel='assortment', ylabel='sales'>"
      ]
     },
     "execution_count": 21,
     "metadata": {},
     "output_type": "execute_result"
    },
    {
     "data": {
      "image/png": "[encoded data removed]",
      "text/plain": [
       "<Figure size 1440x720 with 3 Axes>"
      ]
     },
     "metadata": {},
     "output_type": "display_data"
    }
   ],
   "source": [
    "aux1 = df1[(df1['state_holiday'] != '0' ) & (df1['sales'] > 0 ) ]\n",
    "\n",
    "plt.subplot(1 , 3 ,1)\n",
    "sns.boxplot( x='state_holiday' , y = 'sales' ,data = aux1)\n",
    "\n",
    "plt.subplot(1 , 3 ,2)\n",
    "sns.boxplot( x='store_type' , y = 'sales' ,data = aux1)\n",
    "\n",
    "\n",
    "plt.subplot(1 , 3 ,3)\n",
    "sns.boxplot( x='assortment' , y = 'sales' ,data = aux1)"
   ]
  },
  {
   "cell_type": "markdown",
   "id": "median-academy",
   "metadata": {
    "ExecuteTime": {
     "end_time": "2021-04-01T18:18:17.633529Z",
     "start_time": "2021-04-01T18:18:17.629618Z"
    },
    "hidden": true,
    "hide_input": false
   },
   "source": [
    "**Store Type** = B has the highest median sales and **assortment** = b as well "
   ]
  },
  {
   "cell_type": "markdown",
   "id": "pacific-heather",
   "metadata": {
    "ExecuteTime": {
     "end_time": "2021-04-01T18:18:17.633529Z",
     "start_time": "2021-04-01T18:18:17.629618Z"
    },
    "heading_collapsed": true,
    "hide_input": false
   },
   "source": [
    "# 2.0 Feature Engineering "
   ]
  },
  {
   "cell_type": "code",
   "execution_count": 22,
   "id": "social-intensity",
   "metadata": {
    "ExecuteTime": {
     "end_time": "2021-04-12T22:47:37.066220Z",
     "start_time": "2021-04-12T22:47:37.023887Z"
    },
    "hidden": true,
    "hide_input": false
   },
   "outputs": [],
   "source": [
    "df2 = df1.copy()"
   ]
  },
  {
   "cell_type": "markdown",
   "id": "strong-doubt",
   "metadata": {
    "ExecuteTime": {
     "end_time": "2021-04-01T18:18:17.633529Z",
     "start_time": "2021-04-01T18:18:17.629618Z"
    },
    "hidden": true,
    "hide_input": false
   },
   "source": [
    "## 2.1 Mind Map "
   ]
  },
  {
   "cell_type": "code",
   "execution_count": 23,
   "id": "federal-liver",
   "metadata": {
    "ExecuteTime": {
     "end_time": "2021-04-12T22:47:37.072666Z",
     "start_time": "2021-04-12T22:47:37.067657Z"
    },
    "hidden": true,
    "hide_input": false
   },
   "outputs": [
    {
     "data": {
      "image/png": "[encoded data removed]",
      "text/plain": [
       "<IPython.core.display.Image object>"
      ]
     },
     "execution_count": 23,
     "metadata": {},
     "output_type": "execute_result"
    }
   ],
   "source": [
    "\n",
    "Image(filename='img/Sales.png')"
   ]
  },
  {
   "cell_type": "markdown",
   "id": "straight-detection",
   "metadata": {
    "ExecuteTime": {
     "end_time": "2021-04-01T18:18:17.633529Z",
     "start_time": "2021-04-01T18:18:17.629618Z"
    },
    "heading_collapsed": true,
    "hidden": true,
    "hide_input": false
   },
   "source": [
    "## 2.2 Creating Hypotheses"
   ]
  },
  {
   "cell_type": "markdown",
   "id": "growing-grill",
   "metadata": {
    "ExecuteTime": {
     "end_time": "2021-04-01T18:18:17.633529Z",
     "start_time": "2021-04-01T18:18:17.629618Z"
    },
    "heading_collapsed": true,
    "hidden": true,
    "hide_input": false
   },
   "source": [
    "### 2.2.1 Store Hypotheses"
   ]
  },
  {
   "cell_type": "markdown",
   "id": "civilian-spare",
   "metadata": {
    "hidden": true
   },
   "source": [
    "**1.** Stores with a larger number of employees should sell more.\n",
    "\n",
    "**2.** Stores with a higher inventory capacity should sell more.\n",
    "\n",
    "**3.** Larger stores should sell more.\n",
    "\n",
    "**4.** Stores with a larger assortment should sell more.\n",
    "\n",
    "\n",
    "**5.** Stores with closer competitors should sell less.\n",
    "\n",
    "**6.** Stores with longer competitors should sell more."
   ]
  },
  {
   "cell_type": "markdown",
   "id": "tamil-porcelain",
   "metadata": {
    "ExecuteTime": {
     "end_time": "2021-04-01T18:18:17.633529Z",
     "start_time": "2021-04-01T18:18:17.629618Z"
    },
    "heading_collapsed": true,
    "hidden": true,
    "hide_input": false
   },
   "source": [
    "### 2.2.2 Product Hypotheses"
   ]
  },
  {
   "cell_type": "markdown",
   "id": "absolute-newton",
   "metadata": {
    "ExecuteTime": {
     "end_time": "2021-04-05T17:41:12.797472Z",
     "start_time": "2021-04-05T17:41:12.791261Z"
    },
    "hidden": true
   },
   "source": [
    "**1.** Stores that invest more in Marketing should sell more.\n",
    "\n",
    "**2.** Stores with greater product exposure should sell more.\n",
    "\n",
    "**3.** Stores with lower priced products should sell more.\n",
    "\n",
    "**5.** Stores with more aggressive promotions (bigger discounts), should sell more.\n",
    "\n",
    "**6.** Stores with active promotions for longer should sell more.\n",
    "\n",
    "**7.** Stores with more promotion days should sell more.\n",
    "\n",
    "**8.** Stores with more consecutive promotions should sell more"
   ]
  },
  {
   "cell_type": "markdown",
   "id": "interesting-wisconsin",
   "metadata": {
    "ExecuteTime": {
     "end_time": "2021-04-01T18:18:17.633529Z",
     "start_time": "2021-04-01T18:18:17.629618Z"
    },
    "heading_collapsed": true,
    "hidden": true,
    "hide_input": false
   },
   "source": [
    "### 2.2.1 Seasonality Hypotheses"
   ]
  },
  {
   "cell_type": "markdown",
   "id": "explicit-correlation",
   "metadata": {
    "ExecuteTime": {
     "end_time": "2021-04-05T18:07:06.959696Z",
     "start_time": "2021-04-05T18:06:43.638915Z"
    },
    "hidden": true,
    "hide_input": false
   },
   "source": [
    "**1.**Stores open during the Christmas holiday should sell more.\n",
    "\n",
    "**2.**Stores should sell more over the years.\n",
    "\n",
    "**3.**Stores should sell more in the second half of the year.\n",
    "\n",
    "**4.**Stores should sell more after the 10th of each month.\n",
    "\n",
    "**5.**Stores should sell less on weekends.\n",
    "\n",
    "**6.**Stores should sell less during school holidays."
   ]
  },
  {
   "cell_type": "markdown",
   "id": "round-memory",
   "metadata": {
    "ExecuteTime": {
     "end_time": "2021-04-05T18:07:06.959696Z",
     "start_time": "2021-04-05T18:06:43.638915Z"
    },
    "heading_collapsed": true,
    "hidden": true,
    "hide_input": false
   },
   "source": [
    "## 2.3 Final list of hypotheses"
   ]
  },
  {
   "cell_type": "markdown",
   "id": "cooked-liberia",
   "metadata": {
    "ExecuteTime": {
     "end_time": "2021-04-05T18:07:06.959696Z",
     "start_time": "2021-04-05T18:06:43.638915Z"
    },
    "hidden": true,
    "hide_input": false
   },
   "source": [
    "**1.** Stores with a larger assortment should sell more.\n",
    "\n",
    "**2.** Stores with closer competitors should sell less.\n",
    "\n",
    "**3.** Stores with longer competitors should sell more.\n",
    "\n",
    "**4.** Stores with active promotions for longer should sell more.\n",
    "\n",
    "**5.** Stores with more days of promotion should sell more.\n",
    "\n",
    "**6.** Stores with more consecutive promotions should sell more.\n",
    "\n",
    "\n",
    "\n",
    "\n",
    "**7.** Stores open during the Christmas holiday should sell more.\n",
    "\n",
    "**8.** Stores should sell more over the years.\n",
    "\n",
    "**9.** Stores should sell more in the second half of the year.\n",
    "\n",
    "**10**. Stores should sell more after the 10th of each month.\n",
    "\n",
    "**11**. Stores should sell less on weekends.\n",
    "\n",
    "**12**. Stores should sell less during school holidays."
   ]
  },
  {
   "cell_type": "markdown",
   "id": "pacific-chicken",
   "metadata": {
    "ExecuteTime": {
     "end_time": "2021-04-05T18:07:06.959696Z",
     "start_time": "2021-04-05T18:06:43.638915Z"
    },
    "hidden": true,
    "hide_input": false
   },
   "source": [
    "## 2.4 Feature Engineering"
   ]
  },
  {
   "cell_type": "code",
   "execution_count": 24,
   "id": "coupled-adventure",
   "metadata": {
    "ExecuteTime": {
     "end_time": "2021-04-12T22:48:22.655319Z",
     "start_time": "2021-04-12T22:47:37.073373Z"
    },
    "hidden": true,
    "hide_input": false
   },
   "outputs": [],
   "source": [
    "#year\n",
    "df2['year'] = df2['date'].dt.year\n",
    "#month\n",
    "\n",
    "df2['month'] = df2['date'].dt.month\n",
    "#day\n",
    "df2['day'] = df2['date'].dt.day\n",
    "\n",
    "#week of year\n",
    "df2['week_of_year'] = df2['date'].dt.weekofyear\n",
    "\n",
    "#year week\n",
    "df2['year_week'] = df2['date'].dt.strftime( '%Y-%W' )\n",
    "\n",
    "#competition since\n",
    "df2['competition_since'] = df2.apply( lambda x: datetime.datetime( year=x['competition_open_since_year'], month=x['competition_open_since_month'],day=1 ), axis=1 )\n",
    "df2['competition_time_month'] = ( ( df2['date'] - df2['competition_since'] )/30 ).apply( lambda x: x.days ).astype( int )\n",
    "\n",
    "#promo since\n",
    "df2['promo_since']     = df2['promo2_since_year'].astype( str ) + '-' + df2['promo2_since_week'].astype( str )\n",
    "df2['promo_since']     = df2['promo_since'].apply( lambda x: datetime.datetime.strptime( x + '-1', '%Y-%W-%w' ) - datetime.timedelta( days=7 )  )\n",
    "df2['promo_time_week'] = ( ( df2['date'] - df2['promo_since'] ) / 7 ).apply( lambda x: x.days ).astype( int )\n",
    "\n",
    "#assortment \n",
    "df2['assortment'] = df2['assortment'].apply( lambda x: 'basic' if x == 'a' else 'extra' if x == 'b' else 'extended')\n",
    "\n",
    "#state holiday\n",
    "\n",
    "df2['state_holiday'] = df2['state_holiday'].apply( lambda x: 'public_holiday' if x == 'a' else 'easter_holiday' if x == 'b' else 'christmas' if x == 'c' else 'regular_day' )\n",
    "\n",
    "\n"
   ]
  },
  {
   "cell_type": "markdown",
   "id": "perceived-salon",
   "metadata": {
    "ExecuteTime": {
     "end_time": "2021-04-05T18:07:06.959696Z",
     "start_time": "2021-04-05T18:06:43.638915Z"
    },
    "heading_collapsed": true,
    "hide_input": false
   },
   "source": [
    "# 3.0 Data Filtering"
   ]
  },
  {
   "cell_type": "code",
   "execution_count": 25,
   "id": "spiritual-symposium",
   "metadata": {
    "ExecuteTime": {
     "end_time": "2021-04-12T22:48:22.717874Z",
     "start_time": "2021-04-12T22:48:22.656422Z"
    },
    "hidden": true,
    "hide_input": false
   },
   "outputs": [],
   "source": [
    "df3 = df2.copy()"
   ]
  },
  {
   "cell_type": "markdown",
   "id": "promotional-cargo",
   "metadata": {
    "ExecuteTime": {
     "end_time": "2021-04-05T21:46:29.782226Z",
     "start_time": "2021-04-05T21:46:29.742306Z"
    },
    "hidden": true,
    "hide_input": false
   },
   "source": [
    "## 3.1 Rows Filtering  "
   ]
  },
  {
   "cell_type": "code",
   "execution_count": 26,
   "id": "efficient-class",
   "metadata": {
    "ExecuteTime": {
     "end_time": "2021-04-12T22:48:22.878983Z",
     "start_time": "2021-04-12T22:48:22.718790Z"
    },
    "hidden": true
   },
   "outputs": [],
   "source": [
    "df3 = df3[(df3['open'] != 0) & (df3['sales'] > 0)]\n"
   ]
  },
  {
   "cell_type": "markdown",
   "id": "removable-honor",
   "metadata": {
    "ExecuteTime": {
     "end_time": "2021-04-05T21:00:34.164026Z",
     "start_time": "2021-04-05T21:00:34.100976Z"
    },
    "hidden": true,
    "hide_input": false
   },
   "source": [
    "## 3.2 Columns Filtering  "
   ]
  },
  {
   "cell_type": "code",
   "execution_count": 27,
   "id": "fleet-inquiry",
   "metadata": {
    "ExecuteTime": {
     "end_time": "2021-04-12T22:48:22.941758Z",
     "start_time": "2021-04-12T22:48:22.879966Z"
    },
    "hidden": true,
    "hide_input": false
   },
   "outputs": [],
   "source": [
    "cols_drop = ['customers', 'open', 'month_map' , 'promo_interval']\n",
    "df3 = df3.drop( cols_drop, axis=1 )"
   ]
  },
  {
   "cell_type": "markdown",
   "id": "thousand-oasis",
   "metadata": {
    "ExecuteTime": {
     "end_time": "2021-04-05T21:46:29.782226Z",
     "start_time": "2021-04-05T21:46:29.742306Z"
    },
    "heading_collapsed": true,
    "hide_input": false
   },
   "source": [
    "# 4.0 Exploratory Data Analysis "
   ]
  },
  {
   "cell_type": "code",
   "execution_count": 28,
   "id": "signed-petite",
   "metadata": {
    "ExecuteTime": {
     "end_time": "2021-04-12T22:48:22.982462Z",
     "start_time": "2021-04-12T22:48:22.942668Z"
    },
    "hidden": true,
    "hide_input": false
   },
   "outputs": [],
   "source": [
    "df4 = df3.copy()"
   ]
  },
  {
   "cell_type": "markdown",
   "id": "centered-pierre",
   "metadata": {
    "ExecuteTime": {
     "end_time": "2021-04-05T21:46:29.782226Z",
     "start_time": "2021-04-05T21:46:29.742306Z"
    },
    "heading_collapsed": true,
    "hidden": true,
    "hide_input": false
   },
   "source": [
    "## 4.1  Univariate Analysis"
   ]
  },
  {
   "cell_type": "markdown",
   "id": "unique-village",
   "metadata": {
    "heading_collapsed": true,
    "hidden": true
   },
   "source": [
    "### 4.1.1 Response Variable "
   ]
  },
  {
   "cell_type": "code",
   "execution_count": null,
   "id": "dimensional-windows",
   "metadata": {
    "ExecuteTime": {
     "end_time": "2021-04-12T22:04:51.289689Z",
     "start_time": "2021-04-12T22:04:48.249896Z"
    },
    "hidden": true
   },
   "outputs": [],
   "source": [
    "sns.distplot( df4['sales'] );"
   ]
  },
  {
   "cell_type": "markdown",
   "id": "going-policy",
   "metadata": {
    "heading_collapsed": true,
    "hidden": true
   },
   "source": [
    "### 4.1.2 Numerical Variable "
   ]
  },
  {
   "cell_type": "code",
   "execution_count": null,
   "id": "proud-business",
   "metadata": {
    "ExecuteTime": {
     "end_time": "2021-04-12T22:04:53.215216Z",
     "start_time": "2021-04-12T22:04:51.290847Z"
    },
    "hidden": true
   },
   "outputs": [],
   "source": [
    "num_att.hist( bins = 30 );"
   ]
  },
  {
   "cell_type": "markdown",
   "id": "owned-profit",
   "metadata": {
    "heading_collapsed": true,
    "hidden": true
   },
   "source": [
    "### 4.1.3 Categorical Variable "
   ]
  },
  {
   "cell_type": "code",
   "execution_count": null,
   "id": "domestic-holder",
   "metadata": {
    "ExecuteTime": {
     "end_time": "2021-04-12T22:04:59.887544Z",
     "start_time": "2021-04-12T22:04:53.216054Z"
    },
    "hidden": true,
    "hide_input": true
   },
   "outputs": [],
   "source": [
    "#state holiday\n",
    "plt.subplot( 3, 2, 1 ) \n",
    "aux413 = df4[df4['state_holiday'] != 'regular_day' ]\n",
    "sns.countplot( aux413['state_holiday'] );\n",
    "\n",
    "plt.subplot( 3, 2, 2)\n",
    "sns.kdeplot(df4[df4['state_holiday'] == 'public_holiday']['sales'], label = 'public_holiday',shade = True )\n",
    "sns.kdeplot(df4[df4['state_holiday'] == 'easter_holiday']['sales'], label = 'easter_holiday',shade = True )\n",
    "sns.kdeplot(df4[df4['state_holiday'] == 'christmas']['sales'], label = 'christmas',shade = True );\n",
    "\n",
    "\n",
    "#state holiday\n",
    "plt.subplot( 3, 2, 3 ) \n",
    "sns.countplot( aux413['store_type'] );\n",
    "\n",
    "\n",
    "\n",
    "plt.subplot( 3, 2, 4 )\n",
    "sns.kdeplot(df4[df4['store_type'] == 'a']['sales'], label = 'a',shade = True )\n",
    "sns.kdeplot(df4[df4['store_type'] == 'b']['sales'], label = 'b',shade = True )\n",
    "sns.kdeplot(df4[df4['store_type'] == 'c']['sales'], label = 'c',shade = True )\n",
    "sns.kdeplot(df4[df4['store_type'] == 'd']['sales'], label = 'd' ,shade = True )\n",
    "\n",
    "#state holiday\n",
    "plt.subplot( 3, 2, 5 )\n",
    "sns.countplot( aux413['assortment'] );\n",
    "\n",
    "\n",
    "\n",
    "plt.subplot( 3, 2, 6 )\n",
    "sns.kdeplot(df4[df4['assortment'] == 'extended']['sales'], label = 'extended',shade = True )\n",
    "sns.kdeplot(df4[df4['assortment'] == 'basic']['sales'], label = 'basic',shade = True )\n",
    "sns.kdeplot(df4[df4['assortment'] == 'extra']['sales'], label = 'extra',shade = True );\n",
    "\n"
   ]
  },
  {
   "cell_type": "markdown",
   "id": "important-spelling",
   "metadata": {
    "ExecuteTime": {
     "end_time": "2021-04-05T21:17:18.129707Z",
     "start_time": "2021-04-05T21:17:18.080332Z"
    },
    "heading_collapsed": true,
    "hidden": true,
    "hide_input": false
   },
   "source": [
    "## 4.2  Bivariate Analysis"
   ]
  },
  {
   "cell_type": "markdown",
   "id": "twenty-arcade",
   "metadata": {
    "heading_collapsed": true,
    "hidden": true
   },
   "source": [
    "### **H1.** Stores with a larger assortment should sell more on average.\n",
    "###  **True**\n"
   ]
  },
  {
   "cell_type": "code",
   "execution_count": null,
   "id": "composite-persian",
   "metadata": {
    "ExecuteTime": {
     "end_time": "2021-04-12T22:05:00.066252Z",
     "start_time": "2021-04-12T22:04:59.888518Z"
    },
    "hidden": true
   },
   "outputs": [],
   "source": [
    "auxh1 = df4[['assortment','sales']].groupby( 'assortment' ).median().reset_index()\n",
    "\n",
    "sns.barplot(x='assortment' , y= 'sales', data= auxh1 );\n"
   ]
  },
  {
   "cell_type": "markdown",
   "id": "great-arabic",
   "metadata": {
    "heading_collapsed": true,
    "hidden": true
   },
   "source": [
    "### **H2.** Stores with closer competitors should sell less.\n",
    "### **False**\n",
    "\n"
   ]
  },
  {
   "cell_type": "code",
   "execution_count": null,
   "id": "passing-dryer",
   "metadata": {
    "ExecuteTime": {
     "end_time": "2021-04-12T22:05:00.715553Z",
     "start_time": "2021-04-12T22:05:00.067133Z"
    },
    "hidden": true,
    "hide_input": true
   },
   "outputs": [],
   "source": [
    "aux1 = df4[['competition_distance', 'sales']].groupby( 'competition_distance' ).sum().reset_index()\n",
    "\n",
    "plt.subplot( 1, 3, 1 )\n",
    "sns.scatterplot( x ='competition_distance', y='sales', data=aux1 );\n",
    "\n",
    "plt.subplot( 1, 3, 2 )\n",
    "bins = list( np.arange( 0, 20000, 1000) )\n",
    "aux1['competition_distance_binned'] = pd.cut( aux1['competition_distance'], bins=bins )\n",
    "aux2 = aux1[['competition_distance_binned', 'sales']].groupby( 'competition_distance_binned' ).sum().reset_index()\n",
    "sns.barplot( x='competition_distance_binned', y='sales', data=aux2 );\n",
    "plt.xticks( rotation=90 );\n",
    "\n",
    "plt.subplot( 1, 3, 3 )\n",
    "x = sns.heatmap( aux1.corr( method='pearson' ), annot=True );"
   ]
  },
  {
   "cell_type": "markdown",
   "id": "described-movie",
   "metadata": {
    "heading_collapsed": true,
    "hidden": true
   },
   "source": [
    "### **H3.** Stores with longer competitors should sell more.\n",
    "### **False**\n"
   ]
  },
  {
   "cell_type": "code",
   "execution_count": null,
   "id": "outside-valuable",
   "metadata": {
    "ExecuteTime": {
     "end_time": "2021-04-12T22:05:02.947203Z",
     "start_time": "2021-04-12T22:05:00.716613Z"
    },
    "hidden": true,
    "hide_input": true
   },
   "outputs": [],
   "source": [
    "aux3 = df4[['competition_time_month','sales']].groupby( 'competition_time_month').sum().reset_index()\n",
    "aux4 = aux3[( aux3['competition_time_month'] < 120 ) & (aux3['competition_time_month'] != 0 )]\n",
    "sns.barplot( x = 'competition_time_month', y='sales', data=aux4 );\n",
    "plt.xticks(rotation= 90);\n",
    "\n"
   ]
  },
  {
   "cell_type": "code",
   "execution_count": null,
   "id": "formed-closure",
   "metadata": {
    "ExecuteTime": {
     "end_time": "2021-04-12T22:05:03.076447Z",
     "start_time": "2021-04-12T22:05:02.948463Z"
    },
    "hidden": true,
    "hide_input": true
   },
   "outputs": [],
   "source": [
    "plt.figure( figsize=(12,12))\n",
    "sns.heatmap( aux3.corr(method='pearson'), annot=True );"
   ]
  },
  {
   "cell_type": "markdown",
   "id": "perceived-sunday",
   "metadata": {
    "heading_collapsed": true,
    "hidden": true
   },
   "source": [
    "### **H4.** Stores with active promotions for longer should sell more.\n",
    "### **False**\n"
   ]
  },
  {
   "cell_type": "code",
   "execution_count": null,
   "id": "dried-quantum",
   "metadata": {
    "ExecuteTime": {
     "end_time": "2021-04-12T22:05:10.867694Z",
     "start_time": "2021-04-12T22:05:03.077405Z"
    },
    "hidden": true,
    "hide_input": true
   },
   "outputs": [],
   "source": [
    "aux4 = df4[['promo_time_week','sales']].groupby( 'promo_time_week' ).sum().reset_index()\n",
    "\n",
    "grid = GridSpec(2,2)\n",
    "plt.subplot( grid[0,0] )\n",
    "#extended promotion\n",
    "aux2 = aux4[aux4['promo_time_week'] > 0 ]\n",
    "sns.barplot( x='promo_time_week' , y='sales', data=aux2);\n",
    "\n",
    "plt.subplot( grid[1,0] )\n",
    "#regular promotion\n",
    "aux3 = aux4[aux4['promo_time_week'] < 0 ]\n",
    "sns.barplot( x='promo_time_week' , y='sales', data=aux3);\n",
    "\n",
    "plt.subplot( grid[:, 1 ]  )\n",
    "\n",
    "sns.heatmap(aux4.corr(method='pearson'), annot=True);"
   ]
  },
  {
   "cell_type": "code",
   "execution_count": null,
   "id": "metropolitan-administration",
   "metadata": {
    "hidden": true
   },
   "outputs": [],
   "source": []
  },
  {
   "cell_type": "markdown",
   "id": "normal-child",
   "metadata": {
    "heading_collapsed": true,
    "hidden": true
   },
   "source": [
    "### **H5.** Stores with more consecutive promotions should sell more.\n",
    "### False"
   ]
  },
  {
   "cell_type": "code",
   "execution_count": null,
   "id": "attended-bathroom",
   "metadata": {
    "ExecuteTime": {
     "end_time": "2021-04-12T22:05:11.129338Z",
     "start_time": "2021-04-12T22:05:10.868664Z"
    },
    "hidden": true
   },
   "outputs": [],
   "source": [
    "aux1 = df4[( df4['promo'] == 1 ) & ( df4['promo2'] == 1 )][['year_week', 'sales']].groupby( 'year_week' ).sum().reset_index()\n",
    "ax = aux1.plot()\n",
    "\n",
    "aux2 = df4[( df4['promo'] == 1 ) & ( df4['promo2'] == 0 )][['year_week', 'sales']].groupby( 'year_week' ).sum().reset_index()\n",
    "aux2.plot( ax=ax )\n",
    "\n",
    "ax.legend( labels=['Tradicional & Extendida', 'Extendida']);"
   ]
  },
  {
   "cell_type": "markdown",
   "id": "naughty-static",
   "metadata": {
    "heading_collapsed": true,
    "hidden": true
   },
   "source": [
    "### **H6.** Stores open during the Christmas holiday should sell more.\n",
    "### **False**\n"
   ]
  },
  {
   "cell_type": "code",
   "execution_count": null,
   "id": "considered-father",
   "metadata": {
    "ExecuteTime": {
     "end_time": "2021-04-12T22:05:11.278451Z",
     "start_time": "2021-04-12T22:05:11.130251Z"
    },
    "hidden": true
   },
   "outputs": [],
   "source": [
    "aux7 = df4[['state_holiday','sales']].groupby( 'state_holiday' ).mean().reset_index()\n",
    "aux8 = aux7[aux7['state_holiday'] != 'regular_day']\n",
    "\n",
    "sns.barplot(x='state_holiday', y='sales' ,data=aux8);\n"
   ]
  },
  {
   "cell_type": "markdown",
   "id": "rising-reliance",
   "metadata": {
    "heading_collapsed": true,
    "hidden": true
   },
   "source": [
    "### **H7.** Stores should sell more over the years.\n",
    "### **False**"
   ]
  },
  {
   "cell_type": "code",
   "execution_count": null,
   "id": "incredible-vatican",
   "metadata": {
    "ExecuteTime": {
     "end_time": "2021-04-12T22:05:11.511755Z",
     "start_time": "2021-04-12T22:05:11.279262Z"
    },
    "hidden": true
   },
   "outputs": [],
   "source": [
    "aux8 = df4[['sales','year']].groupby('year').sum().reset_index()\n",
    "plt.subplot(1,2,1)\n",
    "sns.barplot(x='year', y='sales', data=aux8);\n",
    "plt.subplot(1,2,2)\n",
    "sns.heatmap(aux8.corr(method='pearson'), annot=True );\n"
   ]
  },
  {
   "cell_type": "markdown",
   "id": "median-attendance",
   "metadata": {
    "ExecuteTime": {
     "end_time": "2021-04-06T18:16:33.042974Z",
     "start_time": "2021-04-06T18:16:33.038884Z"
    },
    "heading_collapsed": true,
    "hidden": true
   },
   "source": [
    "### **H8.** Stores should sell more in the second half of the year.\n",
    "### **True**"
   ]
  },
  {
   "cell_type": "code",
   "execution_count": null,
   "id": "micro-economy",
   "metadata": {
    "ExecuteTime": {
     "end_time": "2021-04-12T22:05:12.036322Z",
     "start_time": "2021-04-12T22:05:11.513210Z"
    },
    "hidden": true
   },
   "outputs": [],
   "source": [
    "aux9 = df4[df4['year'] != 2015 ]\n",
    "\n",
    "aux8 = aux9[['sales','month']].groupby('month').sum().reset_index()\n",
    "plt.subplot(1,3,2)\n",
    "sns.regplot(x='month', y='sales', data=aux8);\n",
    "plt.subplot(1,3,3)\n",
    "sns.heatmap(aux8.corr(method='pearson'), annot=True );\n",
    "\n",
    "plt.subplot(1,3,1)\n",
    "sns.barplot(x='month', y='sales', data=aux8);"
   ]
  },
  {
   "cell_type": "markdown",
   "id": "embedded-listing",
   "metadata": {
    "ExecuteTime": {
     "end_time": "2021-04-06T18:16:33.042974Z",
     "start_time": "2021-04-06T18:16:33.038884Z"
    },
    "heading_collapsed": true,
    "hidden": true
   },
   "source": [
    "### **H9**. Stores should sell more after the 10th of each month.\n",
    " ### **True**\n",
    "\n",
    "\n"
   ]
  },
  {
   "cell_type": "code",
   "execution_count": null,
   "id": "temporal-ultimate",
   "metadata": {
    "ExecuteTime": {
     "end_time": "2021-04-12T22:05:12.473306Z",
     "start_time": "2021-04-12T22:05:12.037644Z"
    },
    "hidden": true
   },
   "outputs": [],
   "source": [
    "\n",
    "aux8 = df4[['sales','day']].groupby('day').sum().reset_index()\n",
    "plt.subplot(1,3,2)\n",
    "\n",
    "sns.regplot(x='day', y='sales', data=aux8);\n",
    "\n",
    "plt.subplot(1,3,3)\n",
    "\n",
    "sns.heatmap(aux8.corr(method='pearson'), annot=True );\n",
    "\n",
    "plt.subplot(1,3,1)\n",
    "\n",
    "aux8['before_after'] = aux8['day'].apply( lambda x: 'before_10' if x <=10 else 'after_10')\n",
    "\n",
    "aux9 = aux8[['before_after','sales']].groupby('before_after').sum().reset_index()\n",
    "\n",
    "sns.barplot(x='before_after', y='sales', data=aux9);"
   ]
  },
  {
   "cell_type": "markdown",
   "id": "bearing-daisy",
   "metadata": {
    "heading_collapsed": true,
    "hidden": true
   },
   "source": [
    "### **H10**. Stores should sell less on weekends on average.\n",
    "###  Sells a lot **less** on **Saturday** but **sells a lot on Sunday**\n"
   ]
  },
  {
   "cell_type": "code",
   "execution_count": null,
   "id": "fancy-hollow",
   "metadata": {
    "ExecuteTime": {
     "end_time": "2021-04-12T22:05:12.941447Z",
     "start_time": "2021-04-12T22:05:12.474396Z"
    },
    "hidden": true
   },
   "outputs": [],
   "source": [
    "\n",
    "aux8 = df4[['sales','day_of_week']].groupby('day_of_week').mean().reset_index()\n",
    "plt.subplot(1,3,2)\n",
    "sns.regplot(x='day_of_week', y='sales', data=aux8);\n",
    "plt.subplot(1,3,3)\n",
    "sns.heatmap(aux8.corr(method='pearson'), annot=True );\n",
    "\n",
    "plt.subplot(1,3,1)\n",
    "sns.barplot(x='day_of_week', y='sales', data=aux8);"
   ]
  },
  {
   "cell_type": "markdown",
   "id": "interesting-warrior",
   "metadata": {
    "heading_collapsed": true,
    "hidden": true
   },
   "source": [
    "### **H11**. Stores should sell less  on average during school holidays \n",
    "### **False** except in December"
   ]
  },
  {
   "cell_type": "code",
   "execution_count": null,
   "id": "secondary-junior",
   "metadata": {
    "ExecuteTime": {
     "end_time": "2021-04-12T22:05:13.440941Z",
     "start_time": "2021-04-12T22:05:12.944247Z"
    },
    "hidden": true
   },
   "outputs": [],
   "source": [
    "\n",
    "aux8 = df4[['sales','school_holiday']].groupby('school_holiday').mean().reset_index()\n",
    "aux9 = df4[['sales','month','school_holiday']].groupby(['month','school_holiday']).mean().reset_index()\n",
    "plt.subplot(2,1,2)\n",
    "sns.barplot(x='month', hue='school_holiday', y='sales', data=aux9);\n",
    "\n",
    "plt.subplot(2,1,1)\n",
    "sns.barplot(x='school_holiday', y='sales', data=aux8);"
   ]
  },
  {
   "cell_type": "markdown",
   "id": "extended-topic",
   "metadata": {
    "hidden": true
   },
   "source": [
    "### 4.2.1 Summary of Hypotheses"
   ]
  },
  {
   "cell_type": "code",
   "execution_count": null,
   "id": "smaller-psychiatry",
   "metadata": {
    "ExecuteTime": {
     "end_time": "2021-04-12T22:05:13.450111Z",
     "start_time": "2021-04-12T22:05:13.441972Z"
    },
    "hidden": true,
    "hide_input": true
   },
   "outputs": [],
   "source": [
    "tab=[\n",
    "    ['H1','True' ,'High'],\n",
    "    ['H2','False','Medium'],\n",
    "    ['H3','False','Low'],\n",
    "    ['H4','False','Low'],\n",
    "    ['H5','False','Low'],\n",
    "    ['H6','False','Low'],\n",
    "    ['H7','False','High'],\n",
    "    ['H8','True','Medium'],\n",
    "    ['H9','True','Medium'],\n",
    "    ['H10','False','Medium'],\n",
    "    ['H11','False','Low'],\n",
    "    ]\n",
    "#a = tabulate(tab, headers='firstrow')\n",
    "b = pd.DataFrame(data= tab, columns=['Hypotheses','Conclusion','Relevance'])\n",
    "b\n"
   ]
  },
  {
   "cell_type": "markdown",
   "id": "committed-indian",
   "metadata": {
    "ExecuteTime": {
     "end_time": "2021-04-05T21:17:18.129707Z",
     "start_time": "2021-04-05T21:17:18.080332Z"
    },
    "heading_collapsed": true,
    "hidden": true,
    "hide_input": false
   },
   "source": [
    "## 4.3  Multivariate Analysis"
   ]
  },
  {
   "cell_type": "markdown",
   "id": "affiliated-retailer",
   "metadata": {
    "heading_collapsed": true,
    "hidden": true
   },
   "source": [
    "###  4.3.1 Numerical Attributes"
   ]
  },
  {
   "cell_type": "code",
   "execution_count": null,
   "id": "hispanic-executive",
   "metadata": {
    "ExecuteTime": {
     "end_time": "2021-04-12T22:05:14.461747Z",
     "start_time": "2021-04-12T22:05:13.451185Z"
    },
    "hidden": true,
    "hide_input": true
   },
   "outputs": [],
   "source": [
    "corr = num_att.corr(method='pearson')\n",
    "sns.heatmap(corr, annot=True)"
   ]
  },
  {
   "cell_type": "markdown",
   "id": "bridal-equality",
   "metadata": {
    "heading_collapsed": true,
    "hidden": true
   },
   "source": [
    "### 4.3.2 Categorical Attributes "
   ]
  },
  {
   "cell_type": "code",
   "execution_count": null,
   "id": "starting-construction",
   "metadata": {
    "ExecuteTime": {
     "end_time": "2021-04-12T22:05:15.621305Z",
     "start_time": "2021-04-12T22:05:14.462675Z"
    },
    "hidden": true,
    "hide_input": true
   },
   "outputs": [],
   "source": [
    "# only categorical data\n",
    "a = df4.select_dtypes( include='object' )\n",
    "\n",
    "# Calculate cramer V\n",
    "a1 = cramer_v( a['state_holiday'], a['state_holiday'] )\n",
    "a2 = cramer_v( a['state_holiday'], a['store_type'] )\n",
    "a3 = cramer_v( a['state_holiday'], a['assortment'] )\n",
    "\n",
    "a4 = cramer_v( a['store_type'], a['state_holiday'] )\n",
    "a5 = cramer_v( a['store_type'], a['store_type'] )\n",
    "a6 = cramer_v( a['store_type'], a['assortment'] )\n",
    "\n",
    "a7 = cramer_v( a['assortment'], a['state_holiday'] )\n",
    "a8 = cramer_v( a['assortment'], a['store_type'] )\n",
    "a9 = cramer_v( a['assortment'], a['assortment'] )\n",
    "\n",
    "# Final dataset\n",
    "d = pd.DataFrame( {'state_holiday': [a1, a2, a3], \n",
    "               'store_type': [a4, a5, a6],\n",
    "               'assortment': [a7, a8, a9]  })\n",
    "d = d.set_index( d.columns )\n",
    "\n",
    "sns.heatmap( d, annot=True )"
   ]
  },
  {
   "cell_type": "markdown",
   "id": "incredible-isaac",
   "metadata": {
    "heading_collapsed": true
   },
   "source": [
    "# 5.0 Data Preparation"
   ]
  },
  {
   "cell_type": "code",
   "execution_count": 29,
   "id": "bound-gilbert",
   "metadata": {
    "ExecuteTime": {
     "end_time": "2021-04-12T22:48:23.024038Z",
     "start_time": "2021-04-12T22:48:22.983430Z"
    },
    "hidden": true
   },
   "outputs": [],
   "source": [
    "df5 = df4.copy()"
   ]
  },
  {
   "cell_type": "markdown",
   "id": "hazardous-foster",
   "metadata": {
    "hidden": true
   },
   "source": [
    "## 5.1 Select Features"
   ]
  },
  {
   "cell_type": "code",
   "execution_count": 30,
   "id": "durable-walker",
   "metadata": {
    "ExecuteTime": {
     "end_time": "2021-04-12T22:48:23.073708Z",
     "start_time": "2021-04-12T22:48:23.024985Z"
    },
    "hidden": true
   },
   "outputs": [
    {
     "data": {
      "text/html": [
       "<div>\n",
       "<style scoped>\n",
       "    .dataframe tbody tr th:only-of-type {\n",
       "        vertical-align: middle;\n",
       "    }\n",
       "\n",
       "    .dataframe tbody tr th {\n",
       "        vertical-align: top;\n",
       "    }\n",
       "\n",
       "    .dataframe thead th {\n",
       "        text-align: right;\n",
       "    }\n",
       "</style>\n",
       "<table border=\"1\" class=\"dataframe\">\n",
       "  <thead>\n",
       "    <tr style=\"text-align: right;\">\n",
       "      <th></th>\n",
       "      <th>store</th>\n",
       "      <th>day_of_week</th>\n",
       "      <th>sales</th>\n",
       "      <th>promo</th>\n",
       "      <th>school_holiday</th>\n",
       "      <th>competition_distance</th>\n",
       "      <th>competition_open_since_month</th>\n",
       "      <th>competition_open_since_year</th>\n",
       "      <th>promo2</th>\n",
       "      <th>promo2_since_week</th>\n",
       "      <th>promo2_since_year</th>\n",
       "      <th>is_promo</th>\n",
       "      <th>year</th>\n",
       "      <th>month</th>\n",
       "      <th>day</th>\n",
       "      <th>week_of_year</th>\n",
       "      <th>competition_time_month</th>\n",
       "      <th>promo_time_week</th>\n",
       "    </tr>\n",
       "  </thead>\n",
       "  <tbody>\n",
       "    <tr>\n",
       "      <th>750246</th>\n",
       "      <td>637</td>\n",
       "      <td>3</td>\n",
       "      <td>8459</td>\n",
       "      <td>1</td>\n",
       "      <td>1</td>\n",
       "      <td>9790.00</td>\n",
       "      <td>8</td>\n",
       "      <td>2013</td>\n",
       "      <td>1</td>\n",
       "      <td>31</td>\n",
       "      <td>2009</td>\n",
       "      <td>1</td>\n",
       "      <td>2013</td>\n",
       "      <td>8</td>\n",
       "      <td>28</td>\n",
       "      <td>35</td>\n",
       "      <td>0</td>\n",
       "      <td>213</td>\n",
       "    </tr>\n",
       "    <tr>\n",
       "      <th>513877</th>\n",
       "      <td>648</td>\n",
       "      <td>5</td>\n",
       "      <td>6122</td>\n",
       "      <td>0</td>\n",
       "      <td>0</td>\n",
       "      <td>2130.00</td>\n",
       "      <td>12</td>\n",
       "      <td>2008</td>\n",
       "      <td>0</td>\n",
       "      <td>13</td>\n",
       "      <td>2014</td>\n",
       "      <td>0</td>\n",
       "      <td>2014</td>\n",
       "      <td>3</td>\n",
       "      <td>28</td>\n",
       "      <td>13</td>\n",
       "      <td>64</td>\n",
       "      <td>0</td>\n",
       "    </tr>\n",
       "    <tr>\n",
       "      <th>269050</th>\n",
       "      <td>1051</td>\n",
       "      <td>4</td>\n",
       "      <td>9760</td>\n",
       "      <td>1</td>\n",
       "      <td>0</td>\n",
       "      <td>200.00</td>\n",
       "      <td>7</td>\n",
       "      <td>1998</td>\n",
       "      <td>1</td>\n",
       "      <td>1</td>\n",
       "      <td>2012</td>\n",
       "      <td>0</td>\n",
       "      <td>2014</td>\n",
       "      <td>11</td>\n",
       "      <td>27</td>\n",
       "      <td>48</td>\n",
       "      <td>199</td>\n",
       "      <td>152</td>\n",
       "    </tr>\n",
       "  </tbody>\n",
       "</table>\n",
       "</div>"
      ],
      "text/plain": [
       "        store  day_of_week  sales  promo  school_holiday  competition_distance  competition_open_since_month  competition_open_since_year  promo2  promo2_since_week  promo2_since_year  is_promo  year  month  day  week_of_year  competition_time_month  promo_time_week\n",
       "750246    637            3   8459      1               1               9790.00                             8                         2013       1                 31               2009         1  2013      8   28            35                       0              213\n",
       "513877    648            5   6122      0               0               2130.00                            12                         2008       0                 13               2014         0  2014      3   28            13                      64                0\n",
       "269050   1051            4   9760      1               0                200.00                             7                         1998       1                  1               2012         0  2014     11   27            48                     199              152"
      ]
     },
     "execution_count": 30,
     "metadata": {},
     "output_type": "execute_result"
    }
   ],
   "source": [
    "aux51 = df5.select_dtypes( include=['int64','float64'])\n",
    "aux51.sample(3)"
   ]
  },
  {
   "cell_type": "markdown",
   "id": "threaded-prospect",
   "metadata": {
    "hidden": true
   },
   "source": [
    "Features selected for **Rescaling**:\n",
    "   - competition distance\n",
    "   - year\n",
    "   - competition time month\n",
    "   - promo time week\n",
    "\n",
    "Features selected for **Transformation**:\n",
    "   - Month\n",
    "   - Day\n",
    "   - Week of year\n",
    "   - Day of week"
   ]
  },
  {
   "cell_type": "markdown",
   "id": "behind-natural",
   "metadata": {
    "hidden": true
   },
   "source": [
    "## 5.2 Rescaling "
   ]
  },
  {
   "cell_type": "code",
   "execution_count": 31,
   "id": "accepted-championship",
   "metadata": {
    "ExecuteTime": {
     "end_time": "2021-04-12T22:48:23.727097Z",
     "start_time": "2021-04-12T22:48:23.074512Z"
    },
    "hidden": true,
    "hide_input": true
   },
   "outputs": [
    {
     "data": {
      "image/png": "[encoded data removed]",
      "text/plain": [
       "<Figure size 1440x720 with 4 Axes>"
      ]
     },
     "metadata": {},
     "output_type": "display_data"
    }
   ],
   "source": [
    "plt.subplot(2,2,1)\n",
    "sns.boxplot(df5['year']);\n",
    "\n",
    "plt.subplot(2,2,2)\n",
    "sns.boxplot(df5['competition_distance']);\n",
    "\n",
    "\n",
    "plt.subplot(2,2,3)\n",
    "sns.boxplot(df5['competition_time_month']);\n",
    "\n",
    "plt.subplot(2,2,4)\n",
    "sns.boxplot(df5['promo_time_week']);"
   ]
  },
  {
   "cell_type": "markdown",
   "id": "analyzed-renaissance",
   "metadata": {
    "hidden": true
   },
   "source": [
    "**Rosbust Scaler**:\n",
    "    \n",
    "   - Competition Distance\n",
    "   - Competition time month\n",
    "\n",
    "**Min Max Scaler**:\n",
    "   - promo time week\n",
    "   - year"
   ]
  },
  {
   "cell_type": "code",
   "execution_count": 32,
   "id": "sunset-account",
   "metadata": {
    "ExecuteTime": {
     "end_time": "2021-04-12T22:48:23.869588Z",
     "start_time": "2021-04-12T22:48:23.728210Z"
    },
    "hidden": true
   },
   "outputs": [],
   "source": [
    "#instantiate scalers\n",
    "rs = RobustScaler()\n",
    "mms = MinMaxScaler()\n",
    "\n",
    "#Competition Distance\n",
    "df5['competition_distance'] = rs.fit_transform( df5[['competition_distance']].values )\n",
    "\n",
    "#Competition Time Month\n",
    "df5['competition_time_month'] = rs.fit_transform( df5[['competition_time_month']].values )\n",
    "\n",
    "\n",
    "#Promo Time Week\n",
    "df5['promo_time_week'] = mms.fit_transform( df5[['promo_time_week']].values )\n",
    "\n",
    "#Year\n",
    "\n",
    "df5['year'] = mms.fit_transform( df5[['year']].values )\n"
   ]
  },
  {
   "cell_type": "markdown",
   "id": "modular-weather",
   "metadata": {
    "hidden": true
   },
   "source": [
    "## 5.3 Transformation"
   ]
  },
  {
   "cell_type": "markdown",
   "id": "certified-savings",
   "metadata": {
    "hidden": true
   },
   "source": [
    "### 5.3.1 Encoding "
   ]
  },
  {
   "cell_type": "code",
   "execution_count": 34,
   "id": "referenced-catering",
   "metadata": {
    "ExecuteTime": {
     "end_time": "2021-04-12T22:48:24.221417Z",
     "start_time": "2021-04-12T22:48:23.928913Z"
    },
    "hidden": true
   },
   "outputs": [],
   "source": [
    "#store type = Target  encoding\n",
    "std_encoding = df5.groupby( ['store_type'] ).agg({'sales':['std'] } ).reset_index()\n",
    "std_encoding['sales'] = np.log1p( std_encoding['sales']['std'] )\n",
    "\n",
    "store = {'a' : std_encoding['sales']['std'][0], 'b' : std_encoding['sales']['std'][1] , 'c': std_encoding['sales']['std'][2], 'd': std_encoding['sales']['std'][3] }\n",
    "\n",
    "df5['store_type'] = df5['store_type'].map( store )\n",
    "\n",
    "#state_holiday - Target encoding\n",
    "\n",
    "std_encoding2 = df5.groupby( ['state_holiday'] ).agg({'sales':['std'] } ).reset_index()\n",
    "std_encoding2['sales'] = np.log1p( std_encoding['sales']['std'] )\n",
    "\n",
    "state = {'regular_day': std_encoding2['sales']['std'][3], 'christmas': std_encoding2['sales']['std'][0], 'easter_holiday': std_encoding2['sales']['std'][1],'public_holiday': std_encoding2['sales']['std'][2] }\n",
    "\n",
    "df5['state_holiday'] = df5['state_holiday'].map( state )\n",
    "\n",
    "#assortment - target encoding\n",
    "\n",
    "std_encoding3 = df5.groupby( ['assortment'] ).agg({'sales':['std'] } ).reset_index()\n",
    "std_encoding3['sales'] = np.log1p( std_encoding['sales']['std'] )\n",
    "\n",
    "\n",
    "assort = {'basic': std_encoding3['sales']['std'][0] ,'extra':std_encoding2['sales']['std'][2] , 'extended':std_encoding2['sales']['std'][1] }\n",
    "df5['assortment'] = df5['assortment'].map( assort )"
   ]
  },
  {
   "cell_type": "raw",
   "id": "consolidated-orbit",
   "metadata": {
    "ExecuteTime": {
     "end_time": "2021-04-11T20:18:58.102244Z",
     "start_time": "2021-04-11T20:18:57.776814Z"
    },
    "hidden": true
   },
   "source": [
    "#state_holiday - One Hot Encoding\n",
    "df5 = pd.get_dummies( df5, prefix=['state_holiday'], columns=['state_holiday'] )\n",
    "\n",
    "#store type - Label Encoding\n",
    "le = LabelEncoder()\n",
    "df5['store_type'] = le.fit_transform( df5['store_type'] )\n",
    "\n",
    "\n",
    "#assortment - Ordinal Encoding\n",
    "assort = {'basic': 1, 'extra':2 , 'extended':3 }\n",
    "df5['assortment'] = df5['assortment'].map( assort )\n",
    "\n"
   ]
  },
  {
   "cell_type": "markdown",
   "id": "supreme-relaxation",
   "metadata": {
    "hidden": true
   },
   "source": [
    "### 5.3.2 Response Variable "
   ]
  },
  {
   "cell_type": "code",
   "execution_count": 36,
   "id": "hearing-favor",
   "metadata": {
    "ExecuteTime": {
     "end_time": "2021-04-12T22:48:24.265275Z",
     "start_time": "2021-04-12T22:48:24.236426Z"
    },
    "hidden": true
   },
   "outputs": [],
   "source": [
    "df5['sales'] = np.log1p( df5['sales'] )"
   ]
  },
  {
   "cell_type": "markdown",
   "id": "bridal-boston",
   "metadata": {
    "hidden": true
   },
   "source": [
    "### 5.3.3 Nature Transformation "
   ]
  },
  {
   "cell_type": "code",
   "execution_count": 37,
   "id": "valued-fraction",
   "metadata": {
    "ExecuteTime": {
     "end_time": "2021-04-12T22:48:32.834675Z",
     "start_time": "2021-04-12T22:48:24.267243Z"
    },
    "hidden": true
   },
   "outputs": [],
   "source": [
    "#month\n",
    "df5['month_sin'] = df5['month'].apply( lambda x: np.sin( x *( 2. * np.pi/12 ) ) )\n",
    "df5['month_cos'] = df5['month'].apply( lambda x: np.cos( x *( 2. * np.pi/12 ) ) )\n",
    "\n",
    "\n",
    "#day\n",
    "df5['day_sin'] = df5['day'].apply( lambda x: np.sin( x *( 2. * np.pi/30 ) ) )\n",
    "df5['day_cos'] = df5['day'].apply( lambda x: np.cos( x *( 2. * np.pi/30 ) ) )\n",
    "\n",
    "#week of year'\n",
    "\n",
    "df5['week_of_year_sin'] = df5['week_of_year'].apply( lambda x: np.sin( x *( 2. * np.pi/52 ) ) )\n",
    "df5['week_of_year_cos'] = df5['week_of_year'].apply( lambda x: np.cos( x *( 2. * np.pi/52 ) ) )\n",
    "# day of week\n",
    "\n",
    "df5['day_of_week_sin'] = df5['day_of_week'].apply( lambda x: np.sin( x *( 2. * np.pi/7 ) ) )\n",
    "df5['day_of_week_cos'] = df5['day_of_week'].apply( lambda x: np.cos( x *( 2. * np.pi/7 ) ) )\n"
   ]
  },
  {
   "cell_type": "markdown",
   "id": "alternate-table",
   "metadata": {
    "ExecuteTime": {
     "end_time": "2021-04-09T21:44:01.503334Z",
     "start_time": "2021-04-09T21:44:01.484456Z"
    }
   },
   "source": [
    "# 6.0 Feature Selection "
   ]
  },
  {
   "cell_type": "markdown",
   "id": "gentle-silicon",
   "metadata": {},
   "source": [
    "## 6.1 CheckPoint"
   ]
  },
  {
   "cell_type": "code",
   "execution_count": 9,
   "id": "pacific-portugal",
   "metadata": {
    "ExecuteTime": {
     "end_time": "2021-04-12T23:08:08.538779Z",
     "start_time": "2021-04-12T23:08:06.179576Z"
    }
   },
   "outputs": [],
   "source": [
    "#df5.to_csv('Data/df_checkpoint.csv')\n",
    "df6 = pd.read_csv('Data/df_checkpoint.csv')\n",
    "#df6 = df5.copy()\n",
    "\n",
    "df6['date'] = pd.to_datetime( df6['date'] )"
   ]
  },
  {
   "cell_type": "markdown",
   "id": "acting-requirement",
   "metadata": {},
   "source": [
    "## 6.2 Split training and test "
   ]
  },
  {
   "cell_type": "code",
   "execution_count": 10,
   "id": "uniform-homework",
   "metadata": {
    "ExecuteTime": {
     "end_time": "2021-04-12T23:08:09.289675Z",
     "start_time": "2021-04-12T23:08:09.237232Z"
    }
   },
   "outputs": [],
   "source": [
    "cols_drop = ['week_of_year' , 'day' , 'month' , 'day_of_week' ,'promo_since' ,'competition_since', 'year_week']\n",
    "df6 = df6.drop( cols_drop ,axis=1)"
   ]
  },
  {
   "cell_type": "code",
   "execution_count": 11,
   "id": "automated-chapel",
   "metadata": {
    "ExecuteTime": {
     "end_time": "2021-04-12T23:08:10.026805Z",
     "start_time": "2021-04-12T23:08:09.953786Z"
    }
   },
   "outputs": [
    {
     "name": "stdout",
     "output_type": "stream",
     "text": [
      "Train min date 2013-01-01 00:00:00\n",
      "Train max date 2015-06-18 00:00:00\n",
      "\n",
      "test min date 2015-06-19 00:00:00\n",
      "test max date 2015-07-31 00:00:00\n"
     ]
    }
   ],
   "source": [
    "#train dataset\n",
    "x_train = df6[df6['date'] < '2015-06-19']\n",
    "y_train = x_train['sales']\n",
    "\n",
    "\n",
    "#train dataset\n",
    "X_test = df6[df6['date'] >= '2015-06-19']\n",
    "y_test = X_test['sales']\n",
    "\n",
    "print( 'Train min date {}'.format(  x_train['date'].min() ) )                                                          \n",
    "print( 'Train max date {}'.format(  x_train['date'].max() ) )\n",
    "\n",
    "print( '\\ntest min date {}'.format(  X_test['date'].min() ) )\n",
    "print( 'test max date {}'.format(  X_test['date'].max() ) )"
   ]
  },
  {
   "cell_type": "markdown",
   "id": "ethical-management",
   "metadata": {},
   "source": [
    "## 6.2 Boruta as Feature Selector"
   ]
  },
  {
   "cell_type": "raw",
   "id": "respected-phenomenon",
   "metadata": {
    "ExecuteTime": {
     "end_time": "2021-04-12T22:51:00.803070Z",
     "start_time": "2021-04-12T22:50:57.295656Z"
    }
   },
   "source": [
    "#define random forest\n",
    "rf = RandomForestRegressor( n_estimators = 40 ,n_jobs=-1)\n",
    "\n",
    "#dataset for boruta\n",
    "x_train_boruta = x_train.drop( ['date','sales'], axis=1 ).values\n",
    "y_train_boruta = y_train.values.ravel()\n",
    "\n",
    "#boruta\n",
    "boruta = BorutaPy( rf, n_estimators=40 , verbose=2 , random_state= 33 ).fit(x_train_boruta, y_train_boruta )"
   ]
  },
  {
   "cell_type": "raw",
   "id": "disciplinary-george",
   "metadata": {
    "ExecuteTime": {
     "end_time": "2021-04-12T22:31:40.306823Z",
     "start_time": "2021-04-12T22:31:40.242392Z"
    }
   },
   "source": [
    "cols_boruta = boruta.support_.tolist()\n",
    "\n",
    "#best features\n",
    "x_train_fs = x_train.drop( ['date','sales'], axis=1 )\n",
    "cols_selected_boruta = x_train_fs.iloc[: , cols_boruta].columns.to_list()\n",
    "\n",
    "#features not selected\n",
    "cols_not_selec = list( np.setdiff1d( x_train_fs.columns, cols_selected_boruta ) )"
   ]
  },
  {
   "cell_type": "raw",
   "id": "twenty-hurricane",
   "metadata": {
    "ExecuteTime": {
     "end_time": "2021-04-12T22:32:29.326377Z",
     "start_time": "2021-04-12T22:32:29.322478Z"
    }
   },
   "source": [
    "cols_selected_boruta"
   ]
  },
  {
   "cell_type": "markdown",
   "id": "severe-flesh",
   "metadata": {},
   "source": [
    "## 6.3 Manual Feature Selection"
   ]
  },
  {
   "cell_type": "code",
   "execution_count": 12,
   "id": "dominican-morgan",
   "metadata": {
    "ExecuteTime": {
     "end_time": "2021-04-12T23:08:13.938417Z",
     "start_time": "2021-04-12T23:08:13.934221Z"
    }
   },
   "outputs": [],
   "source": [
    "cols = ['store',\n",
    "        'promo',\n",
    "        'store_type',\n",
    "        'assortment',\n",
    "        'competition_distance',\n",
    "        'competition_open_since_month',\n",
    "        'competition_open_since_year',\n",
    "        'promo2',\n",
    "        'promo2_since_week',\n",
    "        'promo2_since_year',\n",
    "        'competition_time_month',\n",
    "        'promo_time_week',\n",
    "        'month_cos',\n",
    "        'day_sin',\n",
    "        'day_cos',\n",
    "        'week_of_year_cos',\n",
    "        'day_of_week_sin',\n",
    "        'day_of_week_cos']\n",
    "\n",
    "#features removed on cycle 2 = year\n",
    "#columns to add\n",
    "feat = ['date','sales']\n",
    "cols_full = cols.copy()\n",
    "cols_full.extend( feat )\n"
   ]
  },
  {
   "cell_type": "markdown",
   "id": "speaking-judge",
   "metadata": {},
   "source": [
    "# 7.0 Machine Learning"
   ]
  },
  {
   "cell_type": "code",
   "execution_count": 13,
   "id": "announced-barcelona",
   "metadata": {
    "ExecuteTime": {
     "end_time": "2021-04-12T23:08:16.410709Z",
     "start_time": "2021-04-12T23:08:16.347066Z"
    }
   },
   "outputs": [],
   "source": [
    "#data set cross validation\n",
    "x_training = x_train[cols_full ]\n",
    "\n",
    "#dataset\n",
    "x_train = x_train[ cols ]\n",
    "x_test = X_test[cols]\n"
   ]
  },
  {
   "cell_type": "markdown",
   "id": "dietary-method",
   "metadata": {},
   "source": [
    "## 7.1 Base Line - Average Model"
   ]
  },
  {
   "cell_type": "code",
   "execution_count": 14,
   "id": "great-antique",
   "metadata": {
    "ExecuteTime": {
     "end_time": "2021-04-12T23:08:18.174076Z",
     "start_time": "2021-04-12T23:08:18.140271Z"
    }
   },
   "outputs": [
    {
     "data": {
      "text/html": [
       "<div>\n",
       "<style scoped>\n",
       "    .dataframe tbody tr th:only-of-type {\n",
       "        vertical-align: middle;\n",
       "    }\n",
       "\n",
       "    .dataframe tbody tr th {\n",
       "        vertical-align: top;\n",
       "    }\n",
       "\n",
       "    .dataframe thead th {\n",
       "        text-align: right;\n",
       "    }\n",
       "</style>\n",
       "<table border=\"1\" class=\"dataframe\">\n",
       "  <thead>\n",
       "    <tr style=\"text-align: right;\">\n",
       "      <th></th>\n",
       "      <th>Model Name</th>\n",
       "      <th>MAE</th>\n",
       "      <th>MAPE</th>\n",
       "      <th>RMSE</th>\n",
       "      <th>MPE</th>\n",
       "    </tr>\n",
       "  </thead>\n",
       "  <tbody>\n",
       "    <tr>\n",
       "      <th>0</th>\n",
       "      <td>Average Model</td>\n",
       "      <td>1354.80</td>\n",
       "      <td>0.21</td>\n",
       "      <td>1835.14</td>\n",
       "      <td>-0.03</td>\n",
       "    </tr>\n",
       "  </tbody>\n",
       "</table>\n",
       "</div>"
      ],
      "text/plain": [
       "      Model Name     MAE  MAPE    RMSE   MPE\n",
       "0  Average Model 1354.80  0.21 1835.14 -0.03"
      ]
     },
     "execution_count": 14,
     "metadata": {},
     "output_type": "execute_result"
    }
   ],
   "source": [
    "aux1 = x_test.copy()\n",
    "aux1['sales'] = y_test.copy()\n",
    "\n",
    "#prediction\n",
    "aux2 = aux1[['store','sales']].groupby( 'store' ).mean().reset_index().rename( columns={ 'sales': 'predictions'} )\n",
    "aux1 = pd.merge( aux1 , aux2 ,  how='left', on='store')\n",
    "yhat_baseline = aux1['predictions']\n",
    "\n",
    "#perfomance\n",
    "baseline_result = ml_error( 'Average Model', np.expm1( y_test ), np.expm1( yhat_baseline ) )\n",
    "baseline_result\n"
   ]
  },
  {
   "cell_type": "markdown",
   "id": "adopted-orleans",
   "metadata": {},
   "source": [
    "## 7.2 Machine Learning Models "
   ]
  },
  {
   "cell_type": "code",
   "execution_count": 15,
   "id": "following-judge",
   "metadata": {
    "ExecuteTime": {
     "end_time": "2021-04-12T23:15:35.587819Z",
     "start_time": "2021-04-12T23:08:25.674363Z"
    }
   },
   "outputs": [
    {
     "name": "stdout",
     "output_type": "stream",
     "text": [
      "Training LinearRegression ...\n",
      "Training Lasso ...\n",
      "Training RandomForestRegressor ...\n",
      "Training KNeighborsRegressor ...\n",
      "Training CatBoostRegressor ...\n"
     ]
    }
   ],
   "source": [
    "#define models\n",
    "lr  = LinearRegression( )\n",
    "lrr = Lasso( alpha=0.01 )\n",
    "rf  = RandomForestRegressor( n_estimators = 20, n_jobs=-1, random_state = 42) \n",
    "knr = KNeighborsRegressor( n_neighbors = 2)\n",
    "cat = CatBoostRegressor(verbose=False)\n",
    "\n",
    "models= [lr , lrr, rf ,  knr,  cat]\n",
    "#prediction\n",
    "df_performance , yhat = get_model_performance(models, x_train, y_train, x_test, y_test )\n",
    "df_performance = pd.concat([df_performance ,  baseline_result ]).reset_index().drop( 'index', axis=1)\n",
    "\n",
    "\n",
    "\n"
   ]
  },
  {
   "cell_type": "markdown",
   "id": "stainless-reflection",
   "metadata": {},
   "source": [
    "## 7.3 Compare Model's Performance "
   ]
  },
  {
   "cell_type": "code",
   "execution_count": 16,
   "id": "colored-discussion",
   "metadata": {
    "ExecuteTime": {
     "end_time": "2021-04-12T23:15:35.642935Z",
     "start_time": "2021-04-12T23:15:35.588757Z"
    },
    "hide_input": false
   },
   "outputs": [
    {
     "data": {
      "text/html": [
       "<style  type=\"text/css\" >\n",
       "#T_74829_row0_col4,#T_74829_row2_col1,#T_74829_row2_col2,#T_74829_row2_col3{\n",
       "            background-color:  yellow;\n",
       "        }</style><table id=\"T_74829_\" ><thead>    <tr>        <th class=\"blank level0\" ></th>        <th class=\"col_heading level0 col0\" >Model Name</th>        <th class=\"col_heading level0 col1\" >MAE</th>        <th class=\"col_heading level0 col2\" >MAPE</th>        <th class=\"col_heading level0 col3\" >RMSE</th>        <th class=\"col_heading level0 col4\" >MPE</th>    </tr></thead><tbody>\n",
       "                <tr>\n",
       "                        <th id=\"T_74829_level0_row0\" class=\"row_heading level0 row0\" >0</th>\n",
       "                        <td id=\"T_74829_row0_col0\" class=\"data row0 col0\" >LinearRegression</td>\n",
       "                        <td id=\"T_74829_row0_col1\" class=\"data row0 col1\" >1871.210000</td>\n",
       "                        <td id=\"T_74829_row0_col2\" class=\"data row0 col2\" >0.300000</td>\n",
       "                        <td id=\"T_74829_row0_col3\" class=\"data row0 col3\" >2656.540000</td>\n",
       "                        <td id=\"T_74829_row0_col4\" class=\"data row0 col4\" >-0.090000</td>\n",
       "            </tr>\n",
       "            <tr>\n",
       "                        <th id=\"T_74829_level0_row1\" class=\"row_heading level0 row1\" >1</th>\n",
       "                        <td id=\"T_74829_row1_col0\" class=\"data row1 col0\" >Lasso</td>\n",
       "                        <td id=\"T_74829_row1_col1\" class=\"data row1 col1\" >1922.780000</td>\n",
       "                        <td id=\"T_74829_row1_col2\" class=\"data row1 col2\" >0.300000</td>\n",
       "                        <td id=\"T_74829_row1_col3\" class=\"data row1 col3\" >2777.510000</td>\n",
       "                        <td id=\"T_74829_row1_col4\" class=\"data row1 col4\" >-0.070000</td>\n",
       "            </tr>\n",
       "            <tr>\n",
       "                        <th id=\"T_74829_level0_row2\" class=\"row_heading level0 row2\" >2</th>\n",
       "                        <td id=\"T_74829_row2_col0\" class=\"data row2 col0\" >RandomForestRegressor</td>\n",
       "                        <td id=\"T_74829_row2_col1\" class=\"data row2 col1\" >752.050000</td>\n",
       "                        <td id=\"T_74829_row2_col2\" class=\"data row2 col2\" >0.110000</td>\n",
       "                        <td id=\"T_74829_row2_col3\" class=\"data row2 col3\" >1107.270000</td>\n",
       "                        <td id=\"T_74829_row2_col4\" class=\"data row2 col4\" >-0.040000</td>\n",
       "            </tr>\n",
       "            <tr>\n",
       "                        <th id=\"T_74829_level0_row3\" class=\"row_heading level0 row3\" >3</th>\n",
       "                        <td id=\"T_74829_row3_col0\" class=\"data row3 col0\" >KNeighborsRegressor</td>\n",
       "                        <td id=\"T_74829_row3_col1\" class=\"data row3 col1\" >772.190000</td>\n",
       "                        <td id=\"T_74829_row3_col2\" class=\"data row3 col2\" >0.120000</td>\n",
       "                        <td id=\"T_74829_row3_col3\" class=\"data row3 col3\" >1134.800000</td>\n",
       "                        <td id=\"T_74829_row3_col4\" class=\"data row3 col4\" >-0.010000</td>\n",
       "            </tr>\n",
       "            <tr>\n",
       "                        <th id=\"T_74829_level0_row4\" class=\"row_heading level0 row4\" >4</th>\n",
       "                        <td id=\"T_74829_row4_col0\" class=\"data row4 col0\" >CatBoostRegressor</td>\n",
       "                        <td id=\"T_74829_row4_col1\" class=\"data row4 col1\" >815.130000</td>\n",
       "                        <td id=\"T_74829_row4_col2\" class=\"data row4 col2\" >0.120000</td>\n",
       "                        <td id=\"T_74829_row4_col3\" class=\"data row4 col3\" >1158.530000</td>\n",
       "                        <td id=\"T_74829_row4_col4\" class=\"data row4 col4\" >-0.030000</td>\n",
       "            </tr>\n",
       "            <tr>\n",
       "                        <th id=\"T_74829_level0_row5\" class=\"row_heading level0 row5\" >5</th>\n",
       "                        <td id=\"T_74829_row5_col0\" class=\"data row5 col0\" >Average Model</td>\n",
       "                        <td id=\"T_74829_row5_col1\" class=\"data row5 col1\" >1354.800000</td>\n",
       "                        <td id=\"T_74829_row5_col2\" class=\"data row5 col2\" >0.210000</td>\n",
       "                        <td id=\"T_74829_row5_col3\" class=\"data row5 col3\" >1835.140000</td>\n",
       "                        <td id=\"T_74829_row5_col4\" class=\"data row5 col4\" >-0.030000</td>\n",
       "            </tr>\n",
       "    </tbody></table>"
      ],
      "text/plain": [
       "<pandas.io.formats.style.Styler at 0x7fd7fae31640>"
      ]
     },
     "execution_count": 16,
     "metadata": {},
     "output_type": "execute_result"
    }
   ],
   "source": [
    "df_performance.style.highlight_min(color='yellow')"
   ]
  },
  {
   "cell_type": "markdown",
   "id": "middle-diesel",
   "metadata": {},
   "source": [
    "## 7.4 Cross Validation "
   ]
  },
  {
   "cell_type": "code",
   "execution_count": 17,
   "id": "coastal-angel",
   "metadata": {
    "ExecuteTime": {
     "end_time": "2021-04-12T23:46:23.642007Z",
     "start_time": "2021-04-12T23:15:35.644157Z"
    }
   },
   "outputs": [
    {
     "name": "stdout",
     "output_type": "stream",
     "text": [
      "Training... LinearRegression...\n",
      "Iteration 5\n",
      "Iteration 4\n",
      "Iteration 3\n",
      "Iteration 2\n",
      "Iteration 1\n",
      "Training... Lasso...\n",
      "Iteration 5\n",
      "Iteration 4\n",
      "Iteration 3\n",
      "Iteration 2\n",
      "Iteration 1\n",
      "Training... RandomForestRegressor...\n",
      "Iteration 5\n",
      "Iteration 4\n",
      "Iteration 3\n",
      "Iteration 2\n",
      "Iteration 1\n",
      "Training... KNeighborsRegressor...\n",
      "Iteration 5\n",
      "Iteration 4\n",
      "Iteration 3\n",
      "Iteration 2\n",
      "Iteration 1\n",
      "Training... CatBoostRegressor...\n",
      "Iteration 5\n",
      "Iteration 4\n",
      "Iteration 3\n",
      "Iteration 2\n",
      "Iteration 1\n"
     ]
    }
   ],
   "source": [
    "#models\n",
    "\n",
    "models = [ lr ,lrr, rf , knr, cat ]\n",
    "#prediction\n",
    "df = models_cross_validation(models, x_training  )"
   ]
  },
  {
   "cell_type": "markdown",
   "id": "portuguese-montreal",
   "metadata": {},
   "source": [
    "## 7.5 Cross Validation Performance"
   ]
  },
  {
   "cell_type": "code",
   "execution_count": 18,
   "id": "exempt-yugoslavia",
   "metadata": {
    "ExecuteTime": {
     "end_time": "2021-04-12T23:46:23.652787Z",
     "start_time": "2021-04-12T23:46:23.642984Z"
    },
    "hide_input": false
   },
   "outputs": [
    {
     "data": {
      "text/html": [
       "<div>\n",
       "<style scoped>\n",
       "    .dataframe tbody tr th:only-of-type {\n",
       "        vertical-align: middle;\n",
       "    }\n",
       "\n",
       "    .dataframe tbody tr th {\n",
       "        vertical-align: top;\n",
       "    }\n",
       "\n",
       "    .dataframe thead th {\n",
       "        text-align: right;\n",
       "    }\n",
       "</style>\n",
       "<table border=\"1\" class=\"dataframe\">\n",
       "  <thead>\n",
       "    <tr style=\"text-align: right;\">\n",
       "      <th></th>\n",
       "      <th>Model Name</th>\n",
       "      <th>MAE</th>\n",
       "      <th>MAPE</th>\n",
       "      <th>RMSE</th>\n",
       "      <th>MPE</th>\n",
       "    </tr>\n",
       "  </thead>\n",
       "  <tbody>\n",
       "    <tr>\n",
       "      <th>0</th>\n",
       "      <td>LinearRegression  KFold: 5</td>\n",
       "      <td>2656.54</td>\n",
       "      <td>0.31</td>\n",
       "      <td>3818.21</td>\n",
       "      <td>0.05</td>\n",
       "    </tr>\n",
       "    <tr>\n",
       "      <th>1</th>\n",
       "      <td>LinearRegression  KFold: 4</td>\n",
       "      <td>1881.83</td>\n",
       "      <td>0.32</td>\n",
       "      <td>2554.98</td>\n",
       "      <td>-0.16</td>\n",
       "    </tr>\n",
       "    <tr>\n",
       "      <th>2</th>\n",
       "      <td>LinearRegression  KFold: 3</td>\n",
       "      <td>1795.69</td>\n",
       "      <td>0.3</td>\n",
       "      <td>2520.83</td>\n",
       "      <td>-0.09</td>\n",
       "    </tr>\n",
       "    <tr>\n",
       "      <th>3</th>\n",
       "      <td>LinearRegression  KFold: 2</td>\n",
       "      <td>2084.61</td>\n",
       "      <td>0.28</td>\n",
       "      <td>3018.65</td>\n",
       "      <td>-0.02</td>\n",
       "    </tr>\n",
       "    <tr>\n",
       "      <th>4</th>\n",
       "      <td>LinearRegression  KFold: 1</td>\n",
       "      <td>1988.67</td>\n",
       "      <td>0.29</td>\n",
       "      <td>2836.42</td>\n",
       "      <td>-0.03</td>\n",
       "    </tr>\n",
       "    <tr>\n",
       "      <th>5</th>\n",
       "      <td>LinearRegression - Cross-Validation</td>\n",
       "      <td>2081.47 +/- 303.6</td>\n",
       "      <td>0.3 +/- 0.01</td>\n",
       "      <td>2949.82 +/- 471.51</td>\n",
       "      <td>NaN</td>\n",
       "    </tr>\n",
       "    <tr>\n",
       "      <th>6</th>\n",
       "      <td>Lasso  KFold: 5</td>\n",
       "      <td>2788.66</td>\n",
       "      <td>0.32</td>\n",
       "      <td>4017.61</td>\n",
       "      <td>0.08</td>\n",
       "    </tr>\n",
       "    <tr>\n",
       "      <th>7</th>\n",
       "      <td>Lasso  KFold: 4</td>\n",
       "      <td>1873.49</td>\n",
       "      <td>0.3</td>\n",
       "      <td>2658.19</td>\n",
       "      <td>-0.07</td>\n",
       "    </tr>\n",
       "    <tr>\n",
       "      <th>8</th>\n",
       "      <td>Lasso  KFold: 3</td>\n",
       "      <td>1835.33</td>\n",
       "      <td>0.29</td>\n",
       "      <td>2624.97</td>\n",
       "      <td>-0.06</td>\n",
       "    </tr>\n",
       "    <tr>\n",
       "      <th>9</th>\n",
       "      <td>Lasso  KFold: 2</td>\n",
       "      <td>2187.29</td>\n",
       "      <td>0.29</td>\n",
       "      <td>3198.71</td>\n",
       "      <td>0.01</td>\n",
       "    </tr>\n",
       "    <tr>\n",
       "      <th>10</th>\n",
       "      <td>Lasso  KFold: 1</td>\n",
       "      <td>2040.66</td>\n",
       "      <td>0.29</td>\n",
       "      <td>2949.62</td>\n",
       "      <td>-0.00</td>\n",
       "    </tr>\n",
       "    <tr>\n",
       "      <th>11</th>\n",
       "      <td>Lasso - Cross-Validation</td>\n",
       "      <td>2145.09 +/- 345.42</td>\n",
       "      <td>0.3 +/- 0.01</td>\n",
       "      <td>3089.82 +/- 508.86</td>\n",
       "      <td>NaN</td>\n",
       "    </tr>\n",
       "    <tr>\n",
       "      <th>12</th>\n",
       "      <td>RandomForestRegressor  KFold: 5</td>\n",
       "      <td>1237.77</td>\n",
       "      <td>0.15</td>\n",
       "      <td>1823.59</td>\n",
       "      <td>0.01</td>\n",
       "    </tr>\n",
       "    <tr>\n",
       "      <th>13</th>\n",
       "      <td>RandomForestRegressor  KFold: 4</td>\n",
       "      <td>942.74</td>\n",
       "      <td>0.15</td>\n",
       "      <td>1459.53</td>\n",
       "      <td>-0.06</td>\n",
       "    </tr>\n",
       "    <tr>\n",
       "      <th>14</th>\n",
       "      <td>RandomForestRegressor  KFold: 3</td>\n",
       "      <td>570.31</td>\n",
       "      <td>0.09</td>\n",
       "      <td>871.8</td>\n",
       "      <td>0.02</td>\n",
       "    </tr>\n",
       "    <tr>\n",
       "      <th>15</th>\n",
       "      <td>RandomForestRegressor  KFold: 2</td>\n",
       "      <td>879.3</td>\n",
       "      <td>0.11</td>\n",
       "      <td>1338.76</td>\n",
       "      <td>0.03</td>\n",
       "    </tr>\n",
       "    <tr>\n",
       "      <th>16</th>\n",
       "      <td>RandomForestRegressor  KFold: 1</td>\n",
       "      <td>721.1</td>\n",
       "      <td>0.1</td>\n",
       "      <td>1045.11</td>\n",
       "      <td>0.02</td>\n",
       "    </tr>\n",
       "    <tr>\n",
       "      <th>17</th>\n",
       "      <td>RandomForestRegressor - Cross-Validation</td>\n",
       "      <td>870.24 +/- 224.77</td>\n",
       "      <td>0.12 +/- 0.03</td>\n",
       "      <td>1307.76 +/- 331.4</td>\n",
       "      <td>NaN</td>\n",
       "    </tr>\n",
       "    <tr>\n",
       "      <th>18</th>\n",
       "      <td>KNeighborsRegressor  KFold: 5</td>\n",
       "      <td>1453.96</td>\n",
       "      <td>0.18</td>\n",
       "      <td>2023.09</td>\n",
       "      <td>0.03</td>\n",
       "    </tr>\n",
       "    <tr>\n",
       "      <th>19</th>\n",
       "      <td>KNeighborsRegressor  KFold: 4</td>\n",
       "      <td>1219.1</td>\n",
       "      <td>0.19</td>\n",
       "      <td>1678.03</td>\n",
       "      <td>-0.04</td>\n",
       "    </tr>\n",
       "    <tr>\n",
       "      <th>20</th>\n",
       "      <td>KNeighborsRegressor  KFold: 3</td>\n",
       "      <td>743.61</td>\n",
       "      <td>0.12</td>\n",
       "      <td>1100.41</td>\n",
       "      <td>0.01</td>\n",
       "    </tr>\n",
       "    <tr>\n",
       "      <th>21</th>\n",
       "      <td>KNeighborsRegressor  KFold: 2</td>\n",
       "      <td>1053.25</td>\n",
       "      <td>0.14</td>\n",
       "      <td>1525.14</td>\n",
       "      <td>0.01</td>\n",
       "    </tr>\n",
       "    <tr>\n",
       "      <th>22</th>\n",
       "      <td>KNeighborsRegressor  KFold: 1</td>\n",
       "      <td>915.43</td>\n",
       "      <td>0.13</td>\n",
       "      <td>1294.94</td>\n",
       "      <td>0.01</td>\n",
       "    </tr>\n",
       "    <tr>\n",
       "      <th>23</th>\n",
       "      <td>KNeighborsRegressor - Cross-Validation</td>\n",
       "      <td>1077.07 +/- 244.99</td>\n",
       "      <td>0.15 +/- 0.03</td>\n",
       "      <td>1524.32 +/- 317.71</td>\n",
       "      <td>NaN</td>\n",
       "    </tr>\n",
       "    <tr>\n",
       "      <th>24</th>\n",
       "      <td>CatBoostRegressor  KFold: 5</td>\n",
       "      <td>1258.17</td>\n",
       "      <td>0.16</td>\n",
       "      <td>1850.76</td>\n",
       "      <td>0.02</td>\n",
       "    </tr>\n",
       "    <tr>\n",
       "      <th>25</th>\n",
       "      <td>CatBoostRegressor  KFold: 4</td>\n",
       "      <td>933.13</td>\n",
       "      <td>0.14</td>\n",
       "      <td>1342.65</td>\n",
       "      <td>0.00</td>\n",
       "    </tr>\n",
       "    <tr>\n",
       "      <th>26</th>\n",
       "      <td>CatBoostRegressor  KFold: 3</td>\n",
       "      <td>793.28</td>\n",
       "      <td>0.12</td>\n",
       "      <td>1156.36</td>\n",
       "      <td>0.02</td>\n",
       "    </tr>\n",
       "    <tr>\n",
       "      <th>27</th>\n",
       "      <td>CatBoostRegressor  KFold: 2</td>\n",
       "      <td>1071.9</td>\n",
       "      <td>0.14</td>\n",
       "      <td>1573.85</td>\n",
       "      <td>0.01</td>\n",
       "    </tr>\n",
       "    <tr>\n",
       "      <th>28</th>\n",
       "      <td>CatBoostRegressor  KFold: 1</td>\n",
       "      <td>885.84</td>\n",
       "      <td>0.13</td>\n",
       "      <td>1248.55</td>\n",
       "      <td>0.01</td>\n",
       "    </tr>\n",
       "    <tr>\n",
       "      <th>29</th>\n",
       "      <td>CatBoostRegressor - Cross-Validation</td>\n",
       "      <td>988.46 +/- 162.11</td>\n",
       "      <td>0.14 +/- 0.01</td>\n",
       "      <td>1434.43 +/- 250.23</td>\n",
       "      <td>NaN</td>\n",
       "    </tr>\n",
       "  </tbody>\n",
       "</table>\n",
       "</div>"
      ],
      "text/plain": [
       "                                   Model Name                 MAE           MAPE                RMSE   MPE\n",
       "0                  LinearRegression  KFold: 5             2656.54           0.31             3818.21  0.05\n",
       "1                  LinearRegression  KFold: 4             1881.83           0.32             2554.98 -0.16\n",
       "2                  LinearRegression  KFold: 3             1795.69            0.3             2520.83 -0.09\n",
       "3                  LinearRegression  KFold: 2             2084.61           0.28             3018.65 -0.02\n",
       "4                  LinearRegression  KFold: 1             1988.67           0.29             2836.42 -0.03\n",
       "5        LinearRegression - Cross-Validation    2081.47 +/- 303.6   0.3 +/- 0.01  2949.82 +/- 471.51   NaN\n",
       "6                             Lasso  KFold: 5             2788.66           0.32             4017.61  0.08\n",
       "7                             Lasso  KFold: 4             1873.49            0.3             2658.19 -0.07\n",
       "8                             Lasso  KFold: 3             1835.33           0.29             2624.97 -0.06\n",
       "9                             Lasso  KFold: 2             2187.29           0.29             3198.71  0.01\n",
       "10                            Lasso  KFold: 1             2040.66           0.29             2949.62 -0.00\n",
       "11                  Lasso - Cross-Validation   2145.09 +/- 345.42   0.3 +/- 0.01  3089.82 +/- 508.86   NaN\n",
       "12            RandomForestRegressor  KFold: 5             1237.77           0.15             1823.59  0.01\n",
       "13            RandomForestRegressor  KFold: 4              942.74           0.15             1459.53 -0.06\n",
       "14            RandomForestRegressor  KFold: 3              570.31           0.09               871.8  0.02\n",
       "15            RandomForestRegressor  KFold: 2               879.3           0.11             1338.76  0.03\n",
       "16            RandomForestRegressor  KFold: 1               721.1            0.1             1045.11  0.02\n",
       "17  RandomForestRegressor - Cross-Validation    870.24 +/- 224.77  0.12 +/- 0.03   1307.76 +/- 331.4   NaN\n",
       "18              KNeighborsRegressor  KFold: 5             1453.96           0.18             2023.09  0.03\n",
       "19              KNeighborsRegressor  KFold: 4              1219.1           0.19             1678.03 -0.04\n",
       "20              KNeighborsRegressor  KFold: 3              743.61           0.12             1100.41  0.01\n",
       "21              KNeighborsRegressor  KFold: 2             1053.25           0.14             1525.14  0.01\n",
       "22              KNeighborsRegressor  KFold: 1              915.43           0.13             1294.94  0.01\n",
       "23    KNeighborsRegressor - Cross-Validation   1077.07 +/- 244.99  0.15 +/- 0.03  1524.32 +/- 317.71   NaN\n",
       "24                CatBoostRegressor  KFold: 5             1258.17           0.16             1850.76  0.02\n",
       "25                CatBoostRegressor  KFold: 4              933.13           0.14             1342.65  0.00\n",
       "26                CatBoostRegressor  KFold: 3              793.28           0.12             1156.36  0.02\n",
       "27                CatBoostRegressor  KFold: 2              1071.9           0.14             1573.85  0.01\n",
       "28                CatBoostRegressor  KFold: 1              885.84           0.13             1248.55  0.01\n",
       "29      CatBoostRegressor - Cross-Validation    988.46 +/- 162.11  0.14 +/- 0.01  1434.43 +/- 250.23   NaN"
      ]
     },
     "execution_count": 18,
     "metadata": {},
     "output_type": "execute_result"
    }
   ],
   "source": [
    "df"
   ]
  },
  {
   "cell_type": "markdown",
   "id": "logical-bryan",
   "metadata": {},
   "source": [
    "As observed, **Random Forest Regressor** has lower **RMSE**"
   ]
  },
  {
   "cell_type": "markdown",
   "id": "taken-cosmetic",
   "metadata": {
    "heading_collapsed": true
   },
   "source": [
    "# 8.0 Hyperparameter Fine Tuning"
   ]
  },
  {
   "cell_type": "markdown",
   "id": "double-woman",
   "metadata": {
    "heading_collapsed": true,
    "hidden": true
   },
   "source": [
    "## 8.1 Random Search "
   ]
  },
  {
   "cell_type": "raw",
   "id": "listed-doctor",
   "metadata": {
    "ExecuteTime": {
     "end_time": "2021-04-11T14:00:20.065094Z",
     "start_time": "2021-04-11T14:00:20.061519Z"
    },
    "hidden": true
   },
   "source": [
    "#number of trees in random forest\n",
    "n_estimators = [ int(x) for x in np.linspace( start = 10, stop = 90, num = 11 )]\n",
    "\n",
    "#number of features to consider at every split\n",
    "max_features = ['auto','sqrt']\n",
    "\n",
    "# Maximum number of levels in tree\n",
    "max_depth = [int(x) for x in np.linspace(10, 110, 11 )]\n",
    "max_depth.append( None )\n",
    "#Minimum number of sampĺes required to split a node\n",
    "min_samples_split = [2, 5, 10]\n",
    "\n",
    "#Minimum number of samples required at each leaf node\n",
    "min_samples_leaf = [1, 2, 4 ]\n",
    "\n",
    "#Method of selecting samples for training each tree\n",
    "bootstrap = [ True, False ]\n",
    "\n",
    "random_grid = {\n",
    "                'n_estimators': n_estimators,\n",
    "                'max_depth': max_depth,\n",
    "                'min_samples_split':min_samples_split,\n",
    "                'min_samples_leaf':min_samples_leaf,\n",
    "                'bootstrap': bootstrap \n",
    "}\n",
    "\n"
   ]
  },
  {
   "cell_type": "raw",
   "id": "patient-bargain",
   "metadata": {
    "ExecuteTime": {
     "end_time": "2021-04-11T15:05:29.937139Z",
     "start_time": "2021-04-11T14:00:20.070816Z"
    },
    "hidden": true
   },
   "source": [
    "MAX = 10\n",
    "\n",
    "for i in range( MAX ):\n",
    "    #choose values\n",
    "    rg = { k: random.sample( v, 1 )[0] for k, v in random_grid.items() }\n",
    "    print(\"\\n Parameter used in this Iteration ! \")\n",
    "    print(rg)\n",
    " \n",
    "    rf = RandomForestRegressor(random_state = 42,\n",
    "                           n_jobs=-1,\n",
    "                           n_estimators=rg['n_estimators'],\n",
    "                           max_depth=rg['max_depth'],\n",
    "                           min_samples_split=rg['min_samples_split'],\n",
    "                           min_samples_leaf=rg['min_samples_leaf'],\n",
    "                           bootstrap=rg['bootstrap'] )\n",
    "    models = [rf]\n",
    "    \n",
    "    df = models_cross_validation(models, x_training )\n",
    "    print( df )\n",
    "    \n"
   ]
  },
  {
   "cell_type": "markdown",
   "id": "wrong-indonesian",
   "metadata": {
    "heading_collapsed": true,
    "hidden": true
   },
   "source": [
    "## 8.2 Final Model "
   ]
  },
  {
   "cell_type": "code",
   "execution_count": null,
   "id": "wrong-bridal",
   "metadata": {
    "ExecuteTime": {
     "end_time": "2021-04-12T22:31:40.428643Z",
     "start_time": "2021-04-12T22:03:04.140Z"
    },
    "hidden": true
   },
   "outputs": [],
   "source": [
    "\n",
    "param_tuned = {'n_estimators': 90, 'max_depth': 50, 'min_samples_split': 2, 'min_samples_leaf': 1, 'bootstrap': True}"
   ]
  },
  {
   "cell_type": "code",
   "execution_count": null,
   "id": "outdoor-flash",
   "metadata": {
    "ExecuteTime": {
     "end_time": "2021-04-12T22:31:40.429068Z",
     "start_time": "2021-04-12T22:03:04.143Z"
    },
    "hidden": true
   },
   "outputs": [],
   "source": [
    "#model\n",
    "rf_tuned = RandomForestRegressor(random_state = 42,\n",
    "                                 n_jobs=-1,\n",
    "                                 n_estimators=param_tuned['n_estimators'],\n",
    "                                 max_depth=param_tuned['max_depth'],\n",
    "                                 min_samples_split=param_tuned['min_samples_split'],\n",
    "                                 min_samples_leaf=param_tuned['min_samples_leaf'],\n",
    "                                 bootstrap=param_tuned['bootstrap'] )\n",
    "models = [rf_tuned]\n",
    "\n",
    "#prediction\n",
    "df_performance, yhat_tuned = get_model_performance(models, x_train, y_train, x_test, y_test )\n",
    "df_performance  "
   ]
  },
  {
   "cell_type": "code",
   "execution_count": null,
   "id": "tutorial-murray",
   "metadata": {
    "ExecuteTime": {
     "end_time": "2021-04-12T22:31:40.429455Z",
     "start_time": "2021-04-12T22:03:04.149Z"
    },
    "hidden": true
   },
   "outputs": [],
   "source": [
    "import pickle"
   ]
  },
  {
   "cell_type": "code",
   "execution_count": null,
   "id": "hourly-short",
   "metadata": {
    "ExecuteTime": {
     "end_time": "2021-04-12T22:31:40.429845Z",
     "start_time": "2021-04-12T22:03:04.155Z"
    },
    "hidden": true
   },
   "outputs": [],
   "source": [
    "#savind model\n",
    "#path = '/home/alexandremagno/repos/rossmann/model/model_rossmann.pkl'\n",
    "#pickle.dump( rf_tuned, open( path, 'wb') )"
   ]
  },
  {
   "cell_type": "markdown",
   "id": "aware-desktop",
   "metadata": {},
   "source": [
    "# 9.0 Business Performance"
   ]
  },
  {
   "cell_type": "code",
   "execution_count": null,
   "id": "finnish-vulnerability",
   "metadata": {
    "ExecuteTime": {
     "end_time": "2021-04-12T22:31:40.430389Z",
     "start_time": "2021-04-12T22:03:04.290Z"
    }
   },
   "outputs": [],
   "source": [
    "df9 = X_test[cols_full]\n",
    "\n",
    "#rescale\n",
    "df9['sales'] = np.expm1( df9['sales'] )\n",
    "df9['predictions'] = np.expm1( yhat_tuned )"
   ]
  },
  {
   "cell_type": "markdown",
   "id": "bronze-color",
   "metadata": {
    "heading_collapsed": true
   },
   "source": [
    "## 9.1 Business Performance"
   ]
  },
  {
   "cell_type": "code",
   "execution_count": null,
   "id": "corrected-guyana",
   "metadata": {
    "ExecuteTime": {
     "end_time": "2021-04-12T22:31:40.430815Z",
     "start_time": "2021-04-12T22:03:04.420Z"
    },
    "hidden": true
   },
   "outputs": [],
   "source": [
    "# group and sum predictions\n",
    "df91 = df9[['store','predictions']].groupby( 'store' ).sum().reset_index()\n",
    "\n",
    "# MAE- MAPE\n",
    "aux1 = df9[['store','sales','predictions']].groupby( 'store').apply( lambda x: mean_absolute_error(x['sales'], x['predictions'] ) ).reset_index().rename(columns={0:'MAE'}) \n",
    "\n",
    "aux2 = df9[['store','sales','predictions']].groupby( 'store').apply( lambda x: mape2(x['sales'], x['predictions'] ) ).reset_index().rename(columns={0:'MAPE'}) \n",
    "\n",
    "#merge\n",
    "aux3 = pd.merge( aux1, aux2 , how='inner', on='store')\n",
    "df_result = pd.merge ( df91, aux3, how='inner', on='store')\n",
    "df_result['MAPE'] = np.round( df_result['MAPE']*100 , 2 ).astype( str ) + \"%\"\n",
    "\n",
    "#Scenarios\n",
    "df_result['worst_scenario'] = df_result['predictions'] - df_result['MAE']\n",
    "df_result['best_scenario']  = df_result['predictions'] + df_result['MAE']\n",
    "\n",
    "df_result = df_result[['store','predictions','best_scenario','worst_scenario','MAE','MAPE']]\n"
   ]
  },
  {
   "cell_type": "code",
   "execution_count": null,
   "id": "confirmed-contractor",
   "metadata": {
    "ExecuteTime": {
     "end_time": "2021-04-12T22:31:40.431205Z",
     "start_time": "2021-04-12T22:03:04.423Z"
    },
    "hidden": true
   },
   "outputs": [],
   "source": [
    "df_result.sample(10)\n"
   ]
  },
  {
   "cell_type": "markdown",
   "id": "published-scout",
   "metadata": {
    "heading_collapsed": true
   },
   "source": [
    "## 9.2 Total Performance "
   ]
  },
  {
   "cell_type": "code",
   "execution_count": null,
   "id": "asian-diamond",
   "metadata": {
    "ExecuteTime": {
     "end_time": "2021-04-12T22:31:40.431618Z",
     "start_time": "2021-04-12T22:03:04.555Z"
    },
    "hidden": true
   },
   "outputs": [],
   "source": [
    "df92 = df_result[['predictions','worst_scenario' ,'best_scenario']].apply( lambda x: np.sum(x ), axis=0).reset_index().rename(columns={'index':'Scenario',0:'Values'})\n",
    "df92['Values'] = df92['Values'].map( 'R${:,.2f}'.format )\n",
    "df92"
   ]
  },
  {
   "cell_type": "markdown",
   "id": "informed-stage",
   "metadata": {},
   "source": [
    "## 9.3 Machine Learning Performance "
   ]
  },
  {
   "cell_type": "code",
   "execution_count": null,
   "id": "sixth-experience",
   "metadata": {
    "ExecuteTime": {
     "end_time": "2021-04-12T22:31:40.432013Z",
     "start_time": "2021-04-12T22:03:04.682Z"
    }
   },
   "outputs": [],
   "source": [
    "df9['error'] = df9['sales'] - df9['predictions']\n",
    "df9['error_rate'] = df9['predictions'] / df9['sales']"
   ]
  },
  {
   "cell_type": "code",
   "execution_count": null,
   "id": "portuguese-maldives",
   "metadata": {
    "ExecuteTime": {
     "end_time": "2021-04-12T22:31:40.432528Z",
     "start_time": "2021-04-12T22:03:04.684Z"
    }
   },
   "outputs": [],
   "source": [
    "plt.subplot( 2, 2, 1 )\n",
    "sns.lineplot( x=df9['date'], y=df9['sales'], label='Sales')\n",
    "sns.lineplot( x=df9['date'], y=df9['predictions'], label='Predictions')\n",
    "\n",
    "plt.subplot( 2, 2, 2 )\n",
    "sns.lineplot( x=df9['date'], y=df9['error_rate'] )\n",
    "plt.axhline( 1, linestyle='--')\n",
    "plt.subplot( 2, 2, 3 )\n",
    "sns.distplot( df9['error'] )\n",
    "\n",
    "plt.subplot( 2, 2, 4 )\n",
    "sns.scatterplot( df9['predictions'], df9['error'] );\n"
   ]
  },
  {
   "cell_type": "code",
   "execution_count": null,
   "id": "english-retention",
   "metadata": {},
   "outputs": [],
   "source": []
  },
  {
   "cell_type": "code",
   "execution_count": null,
   "id": "fifteen-prague",
   "metadata": {},
   "outputs": [],
   "source": []
  },
  {
   "cell_type": "code",
   "execution_count": null,
   "id": "choice-litigation",
   "metadata": {},
   "outputs": [],
   "source": []
  },
  {
   "cell_type": "code",
   "execution_count": null,
   "id": "metallic-contrary",
   "metadata": {},
   "outputs": [],
   "source": []
  },
  {
   "cell_type": "code",
   "execution_count": null,
   "id": "lasting-bundle",
   "metadata": {},
   "outputs": [],
   "source": []
  },
  {
   "cell_type": "code",
   "execution_count": null,
   "id": "advisory-biotechnology",
   "metadata": {},
   "outputs": [],
   "source": []
  },
  {
   "cell_type": "code",
   "execution_count": null,
   "id": "certified-welcome",
   "metadata": {},
   "outputs": [],
   "source": []
  },
  {
   "cell_type": "code",
   "execution_count": null,
   "id": "mineral-purse",
   "metadata": {},
   "outputs": [],
   "source": []
  },
  {
   "cell_type": "code",
   "execution_count": null,
   "id": "demographic-sitting",
   "metadata": {},
   "outputs": [],
   "source": []
  },
  {
   "cell_type": "code",
   "execution_count": null,
   "id": "leading-johns",
   "metadata": {},
   "outputs": [],
   "source": []
  }
 ],
 "metadata": {
  "kernelspec": {
   "display_name": "Python 3",
   "language": "python",
   "name": "python3"
  },
  "language_info": {
   "codemirror_mode": {
    "name": "ipython",
    "version": 3
   },
   "file_extension": ".py",
   "mimetype": "text/x-python",
   "name": "python",
   "nbconvert_exporter": "python",
   "pygments_lexer": "ipython3",
   "version": "3.8.0"
  }
 },
 "nbformat": 4,
 "nbformat_minor": 5
}
